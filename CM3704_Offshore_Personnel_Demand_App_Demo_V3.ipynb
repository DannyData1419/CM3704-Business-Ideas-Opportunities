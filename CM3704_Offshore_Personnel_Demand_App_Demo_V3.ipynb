{
  "nbformat": 4,
  "nbformat_minor": 0,
  "metadata": {
    "colab": {
      "provenance": [],
      "authorship_tag": "ABX9TyP9U/Qdx6UKdxJHue8PIuX9",
      "include_colab_link": true
    },
    "kernelspec": {
      "name": "python3",
      "display_name": "Python 3"
    },
    "language_info": {
      "name": "python"
    }
  },
  "cells": [
    {
      "cell_type": "markdown",
      "metadata": {
        "id": "view-in-github",
        "colab_type": "text"
      },
      "source": [
        "<a href=\"https://colab.research.google.com/github/DannyData1419/CM3704-Business-Ideas-Opportunities/blob/main/CM3704_Offshore_Personnel_Demand_App_Demo_V3.ipynb\" target=\"_parent\"><img src=\"https://colab.research.google.com/assets/colab-badge.svg\" alt=\"Open In Colab\"/></a>"
      ]
    },
    {
      "cell_type": "markdown",
      "source": [
        "## Offshore Personnel Demand app Demo\n",
        "\n",
        "**Introduction**\n",
        "\n",
        "This notebook has been created for CM3704 Business Ideas + Opportunities by DCarlier, 2011881. It represents the ideas behind each of the four components that make up the application to predict offshore personnel demand from the bid stage. Data used in this demo is anonymous and whilst it represents company data, in that it has the same nominal categorical values you will expect, it is completely made up otherwise.\n",
        "\n",
        "1.   **Creation of features or 'X variables' and Natural Language Processing**\n",
        "2.   **Data Validation and Warehousing**\n",
        "3.   **Supervised Machine Learning**\n",
        "4.   **Data Visualization for Stakeholders**\n",
        "\n",
        "\n",
        "\n",
        "\n",
        "\n",
        "\n"
      ],
      "metadata": {
        "id": "nWaqAin9LJ-j"
      }
    },
    {
      "cell_type": "markdown",
      "source": [
        "# Creation of 'features or X variables' and Natural Language Processing\n",
        "\n",
        "For this experiment we are unable to implement this component, the creation of features or 'X variables' and Natural Language Processing refers to additional variables that we will be able to add once attachments have been analysed. Worth noting is that there will be many more `features or 'X' variables` which will increase the predictive power of the application."
      ],
      "metadata": {
        "id": "8U7D5zHYGMxR"
      }
    },
    {
      "cell_type": "code",
      "source": [
        "# First import libraries\n",
        "import pandas as pd\n",
        "import numpy as np\n",
        "from sklearn.neighbors import KNeighborsClassifier\n",
        "from sklearn.model_selection import train_test_split\n",
        "from sklearn.metrics import classification_report, confusion_matrix\n",
        "import matplotlib.pyplot as plt\n",
        "from sklearn import metrics\n",
        "from typing import Optional\n",
        "\n",
        "# Import data from Github\n",
        "df = pd.read_csv('https://raw.githubusercontent.com/DannyData1419/Dataset-stash/main/example_bid_and_project_data.csv')\n"
      ],
      "metadata": {
        "id": "BJ63oShkhyE7"
      },
      "execution_count": 1,
      "outputs": []
    },
    {
      "cell_type": "markdown",
      "source": [
        "## Data Validation and Warehousing\n",
        "\n",
        "We are now in the **Data Warehouse** or at least that is the space this notebook represents, we have incrementally loaded data from the bids and projects databases into one place to create our **training dataset**. In other words, we have **(Data) Validated** 1728 rows of bids that the company has won, matching each won bid to the subsequent project and have a record of whether offshore personnel were utilized within the project or not. The first six columns represent data referred to as `features or 'X' variables`, nominal categories representing values from the bids database:\n",
        "\n",
        "* `business_segment` business segment\n",
        "* `business_group` business group\n",
        "* `product_type` product type\n",
        "* `sales_area` sales area\n",
        "* `total_costs` total costs of the bid before JP\n",
        "* `safety` safety, i.e., what contractual risks are involved\n",
        "\n",
        "The last column represent data referred to as the `target or 'y' variable`, labels from our project database:\n",
        "* `6_Techs_1_Sup` 6 Techs, 1 Superintendent\n",
        "* `3_Techs_1_ROVPilot_1_Sup` 3 Techs, 1 ROV Pilot, 1 Superintendent\n",
        "* `4_Techs` 4 Techs\n",
        "* `Not_Offshore` Not Offshore\n",
        "\n",
        "Each row, or observation, is used to train the algorithm. It's this label we will predict later on when we expose the algorithm to new unseen bid data. The data we are using is modified from this dataset: https://archive.ics.uci.edu/ml/datasets/Car+Evaluation,"
      ],
      "metadata": {
        "id": "GYf7JJXVhyPA"
      }
    },
    {
      "cell_type": "code",
      "source": [
        "# View sample\n",
        "df.sample(10)"
      ],
      "metadata": {
        "id": "RgUrfc4xqv3x",
        "colab": {
          "base_uri": "https://localhost:8080/",
          "height": 363
        },
        "outputId": "8021852d-959a-4300-e615-f52e43a1bb06"
      },
      "execution_count": 2,
      "outputs": [
        {
          "output_type": "execute_result",
          "data": {
            "text/plain": [
              "     business_segment        business_group   product_type      sales_area  \\\n",
              "1666               MP          Intervention  Drill_Support  ProjectsBrazil   \n",
              "286               OPG              Controls    Observation  ProjectsNorway   \n",
              "536               SSR  Engineered_Solutions   Intervention  ProjectsBrazil   \n",
              "950              IMDS  Engineered_Solutions   Intervention      ProjectsUK   \n",
              "1108             IMDS              Controls  Drill_Support      ProjectsUK   \n",
              "1460               MP                   ROV    Observation      ProjectsUK   \n",
              "1479               MP                   ROV    Observation  ProjectsBrazil   \n",
              "1589               MP              Controls    Observation  ProjectsBrazil   \n",
              "656               SSR              Controls          RWOCS      ProjectsUK   \n",
              "1550               MP              Controls  Drill_Support  ProjectsNorway   \n",
              "\n",
              "       total_costs      safety                     class  \n",
              "1666   Small_Costs   Med_Risks                   4_Techs  \n",
              "286      Big_Costs   Med_Risks                   4_Techs  \n",
              "536   Medium_Costs  High_Risks              Not_Offshore  \n",
              "950   Medium_Costs  High_Risks              Not_Offshore  \n",
              "1108   Small_Costs   Med_Risks              Not_Offshore  \n",
              "1460   Small_Costs  High_Risks              Not_Offshore  \n",
              "1479  Medium_Costs   Low_Risks              Not_Offshore  \n",
              "1589  Medium_Costs  High_Risks  3_Techs_1_ROVPilot_1_Sup  \n",
              "656      Big_Costs  High_Risks              Not_Offshore  \n",
              "1550   Small_Costs  High_Risks             6_Techs_1_Sup  "
            ],
            "text/html": [
              "\n",
              "  <div id=\"df-d04e6ef5-9142-40a5-b1ec-a525e88e4de6\">\n",
              "    <div class=\"colab-df-container\">\n",
              "      <div>\n",
              "<style scoped>\n",
              "    .dataframe tbody tr th:only-of-type {\n",
              "        vertical-align: middle;\n",
              "    }\n",
              "\n",
              "    .dataframe tbody tr th {\n",
              "        vertical-align: top;\n",
              "    }\n",
              "\n",
              "    .dataframe thead th {\n",
              "        text-align: right;\n",
              "    }\n",
              "</style>\n",
              "<table border=\"1\" class=\"dataframe\">\n",
              "  <thead>\n",
              "    <tr style=\"text-align: right;\">\n",
              "      <th></th>\n",
              "      <th>business_segment</th>\n",
              "      <th>business_group</th>\n",
              "      <th>product_type</th>\n",
              "      <th>sales_area</th>\n",
              "      <th>total_costs</th>\n",
              "      <th>safety</th>\n",
              "      <th>class</th>\n",
              "    </tr>\n",
              "  </thead>\n",
              "  <tbody>\n",
              "    <tr>\n",
              "      <th>1666</th>\n",
              "      <td>MP</td>\n",
              "      <td>Intervention</td>\n",
              "      <td>Drill_Support</td>\n",
              "      <td>ProjectsBrazil</td>\n",
              "      <td>Small_Costs</td>\n",
              "      <td>Med_Risks</td>\n",
              "      <td>4_Techs</td>\n",
              "    </tr>\n",
              "    <tr>\n",
              "      <th>286</th>\n",
              "      <td>OPG</td>\n",
              "      <td>Controls</td>\n",
              "      <td>Observation</td>\n",
              "      <td>ProjectsNorway</td>\n",
              "      <td>Big_Costs</td>\n",
              "      <td>Med_Risks</td>\n",
              "      <td>4_Techs</td>\n",
              "    </tr>\n",
              "    <tr>\n",
              "      <th>536</th>\n",
              "      <td>SSR</td>\n",
              "      <td>Engineered_Solutions</td>\n",
              "      <td>Intervention</td>\n",
              "      <td>ProjectsBrazil</td>\n",
              "      <td>Medium_Costs</td>\n",
              "      <td>High_Risks</td>\n",
              "      <td>Not_Offshore</td>\n",
              "    </tr>\n",
              "    <tr>\n",
              "      <th>950</th>\n",
              "      <td>IMDS</td>\n",
              "      <td>Engineered_Solutions</td>\n",
              "      <td>Intervention</td>\n",
              "      <td>ProjectsUK</td>\n",
              "      <td>Medium_Costs</td>\n",
              "      <td>High_Risks</td>\n",
              "      <td>Not_Offshore</td>\n",
              "    </tr>\n",
              "    <tr>\n",
              "      <th>1108</th>\n",
              "      <td>IMDS</td>\n",
              "      <td>Controls</td>\n",
              "      <td>Drill_Support</td>\n",
              "      <td>ProjectsUK</td>\n",
              "      <td>Small_Costs</td>\n",
              "      <td>Med_Risks</td>\n",
              "      <td>Not_Offshore</td>\n",
              "    </tr>\n",
              "    <tr>\n",
              "      <th>1460</th>\n",
              "      <td>MP</td>\n",
              "      <td>ROV</td>\n",
              "      <td>Observation</td>\n",
              "      <td>ProjectsUK</td>\n",
              "      <td>Small_Costs</td>\n",
              "      <td>High_Risks</td>\n",
              "      <td>Not_Offshore</td>\n",
              "    </tr>\n",
              "    <tr>\n",
              "      <th>1479</th>\n",
              "      <td>MP</td>\n",
              "      <td>ROV</td>\n",
              "      <td>Observation</td>\n",
              "      <td>ProjectsBrazil</td>\n",
              "      <td>Medium_Costs</td>\n",
              "      <td>Low_Risks</td>\n",
              "      <td>Not_Offshore</td>\n",
              "    </tr>\n",
              "    <tr>\n",
              "      <th>1589</th>\n",
              "      <td>MP</td>\n",
              "      <td>Controls</td>\n",
              "      <td>Observation</td>\n",
              "      <td>ProjectsBrazil</td>\n",
              "      <td>Medium_Costs</td>\n",
              "      <td>High_Risks</td>\n",
              "      <td>3_Techs_1_ROVPilot_1_Sup</td>\n",
              "    </tr>\n",
              "    <tr>\n",
              "      <th>656</th>\n",
              "      <td>SSR</td>\n",
              "      <td>Controls</td>\n",
              "      <td>RWOCS</td>\n",
              "      <td>ProjectsUK</td>\n",
              "      <td>Big_Costs</td>\n",
              "      <td>High_Risks</td>\n",
              "      <td>Not_Offshore</td>\n",
              "    </tr>\n",
              "    <tr>\n",
              "      <th>1550</th>\n",
              "      <td>MP</td>\n",
              "      <td>Controls</td>\n",
              "      <td>Drill_Support</td>\n",
              "      <td>ProjectsNorway</td>\n",
              "      <td>Small_Costs</td>\n",
              "      <td>High_Risks</td>\n",
              "      <td>6_Techs_1_Sup</td>\n",
              "    </tr>\n",
              "  </tbody>\n",
              "</table>\n",
              "</div>\n",
              "      <button class=\"colab-df-convert\" onclick=\"convertToInteractive('df-d04e6ef5-9142-40a5-b1ec-a525e88e4de6')\"\n",
              "              title=\"Convert this dataframe to an interactive table.\"\n",
              "              style=\"display:none;\">\n",
              "        \n",
              "  <svg xmlns=\"http://www.w3.org/2000/svg\" height=\"24px\"viewBox=\"0 0 24 24\"\n",
              "       width=\"24px\">\n",
              "    <path d=\"M0 0h24v24H0V0z\" fill=\"none\"/>\n",
              "    <path d=\"M18.56 5.44l.94 2.06.94-2.06 2.06-.94-2.06-.94-.94-2.06-.94 2.06-2.06.94zm-11 1L8.5 8.5l.94-2.06 2.06-.94-2.06-.94L8.5 2.5l-.94 2.06-2.06.94zm10 10l.94 2.06.94-2.06 2.06-.94-2.06-.94-.94-2.06-.94 2.06-2.06.94z\"/><path d=\"M17.41 7.96l-1.37-1.37c-.4-.4-.92-.59-1.43-.59-.52 0-1.04.2-1.43.59L10.3 9.45l-7.72 7.72c-.78.78-.78 2.05 0 2.83L4 21.41c.39.39.9.59 1.41.59.51 0 1.02-.2 1.41-.59l7.78-7.78 2.81-2.81c.8-.78.8-2.07 0-2.86zM5.41 20L4 18.59l7.72-7.72 1.47 1.35L5.41 20z\"/>\n",
              "  </svg>\n",
              "      </button>\n",
              "      \n",
              "  <style>\n",
              "    .colab-df-container {\n",
              "      display:flex;\n",
              "      flex-wrap:wrap;\n",
              "      gap: 12px;\n",
              "    }\n",
              "\n",
              "    .colab-df-convert {\n",
              "      background-color: #E8F0FE;\n",
              "      border: none;\n",
              "      border-radius: 50%;\n",
              "      cursor: pointer;\n",
              "      display: none;\n",
              "      fill: #1967D2;\n",
              "      height: 32px;\n",
              "      padding: 0 0 0 0;\n",
              "      width: 32px;\n",
              "    }\n",
              "\n",
              "    .colab-df-convert:hover {\n",
              "      background-color: #E2EBFA;\n",
              "      box-shadow: 0px 1px 2px rgba(60, 64, 67, 0.3), 0px 1px 3px 1px rgba(60, 64, 67, 0.15);\n",
              "      fill: #174EA6;\n",
              "    }\n",
              "\n",
              "    [theme=dark] .colab-df-convert {\n",
              "      background-color: #3B4455;\n",
              "      fill: #D2E3FC;\n",
              "    }\n",
              "\n",
              "    [theme=dark] .colab-df-convert:hover {\n",
              "      background-color: #434B5C;\n",
              "      box-shadow: 0px 1px 3px 1px rgba(0, 0, 0, 0.15);\n",
              "      filter: drop-shadow(0px 1px 2px rgba(0, 0, 0, 0.3));\n",
              "      fill: #FFFFFF;\n",
              "    }\n",
              "  </style>\n",
              "\n",
              "      <script>\n",
              "        const buttonEl =\n",
              "          document.querySelector('#df-d04e6ef5-9142-40a5-b1ec-a525e88e4de6 button.colab-df-convert');\n",
              "        buttonEl.style.display =\n",
              "          google.colab.kernel.accessAllowed ? 'block' : 'none';\n",
              "\n",
              "        async function convertToInteractive(key) {\n",
              "          const element = document.querySelector('#df-d04e6ef5-9142-40a5-b1ec-a525e88e4de6');\n",
              "          const dataTable =\n",
              "            await google.colab.kernel.invokeFunction('convertToInteractive',\n",
              "                                                     [key], {});\n",
              "          if (!dataTable) return;\n",
              "\n",
              "          const docLinkHtml = 'Like what you see? Visit the ' +\n",
              "            '<a target=\"_blank\" href=https://colab.research.google.com/notebooks/data_table.ipynb>data table notebook</a>'\n",
              "            + ' to learn more about interactive tables.';\n",
              "          element.innerHTML = '';\n",
              "          dataTable['output_type'] = 'display_data';\n",
              "          await google.colab.output.renderOutput(dataTable, element);\n",
              "          const docLink = document.createElement('div');\n",
              "          docLink.innerHTML = docLinkHtml;\n",
              "          element.appendChild(docLink);\n",
              "        }\n",
              "      </script>\n",
              "    </div>\n",
              "  </div>\n",
              "  "
            ]
          },
          "metadata": {},
          "execution_count": 2
        }
      ]
    },
    {
      "cell_type": "markdown",
      "source": [
        "### Expoloratory Data Analysis"
      ],
      "metadata": {
        "id": "3iSfKW5e1zoh"
      }
    },
    {
      "cell_type": "code",
      "execution_count": 3,
      "metadata": {
        "colab": {
          "base_uri": "https://localhost:8080/"
        },
        "id": "-1kjfo9DptuQ",
        "outputId": "d6328e84-2955-4011-b1b1-2ece8ad114d9"
      },
      "outputs": [
        {
          "output_type": "execute_result",
          "data": {
            "text/plain": [
              "(1728, 7)"
            ]
          },
          "metadata": {},
          "execution_count": 3
        }
      ],
      "source": [
        "# See the shape of data\n",
        "df.shape"
      ]
    },
    {
      "cell_type": "code",
      "source": [
        "# Provide distribution of numerical data, apply basic statistical computations, missing or NaN values automatically skipped\n",
        "df.describe()"
      ],
      "metadata": {
        "colab": {
          "base_uri": "https://localhost:8080/",
          "height": 175
        },
        "id": "EU_W5a-sqmSk",
        "outputId": "382ae8b6-1166-4a89-b857-1ddc0fe154dc"
      },
      "execution_count": 4,
      "outputs": [
        {
          "output_type": "execute_result",
          "data": {
            "text/plain": [
              "       business_segment        business_group product_type  sales_area  \\\n",
              "count              1728                  1728         1728        1728   \n",
              "unique                4                     4            4           3   \n",
              "top                 OPG  Engineered_Solutions        RWOCS  ProjectsUK   \n",
              "freq                432                   432          432         576   \n",
              "\n",
              "        total_costs     safety         class  \n",
              "count          1728       1728          1728  \n",
              "unique            3          3             4  \n",
              "top     Small_Costs  Low_Risks  Not_Offshore  \n",
              "freq            576        576          1210  "
            ],
            "text/html": [
              "\n",
              "  <div id=\"df-bf649311-4c29-4666-99cc-703997a31cb0\">\n",
              "    <div class=\"colab-df-container\">\n",
              "      <div>\n",
              "<style scoped>\n",
              "    .dataframe tbody tr th:only-of-type {\n",
              "        vertical-align: middle;\n",
              "    }\n",
              "\n",
              "    .dataframe tbody tr th {\n",
              "        vertical-align: top;\n",
              "    }\n",
              "\n",
              "    .dataframe thead th {\n",
              "        text-align: right;\n",
              "    }\n",
              "</style>\n",
              "<table border=\"1\" class=\"dataframe\">\n",
              "  <thead>\n",
              "    <tr style=\"text-align: right;\">\n",
              "      <th></th>\n",
              "      <th>business_segment</th>\n",
              "      <th>business_group</th>\n",
              "      <th>product_type</th>\n",
              "      <th>sales_area</th>\n",
              "      <th>total_costs</th>\n",
              "      <th>safety</th>\n",
              "      <th>class</th>\n",
              "    </tr>\n",
              "  </thead>\n",
              "  <tbody>\n",
              "    <tr>\n",
              "      <th>count</th>\n",
              "      <td>1728</td>\n",
              "      <td>1728</td>\n",
              "      <td>1728</td>\n",
              "      <td>1728</td>\n",
              "      <td>1728</td>\n",
              "      <td>1728</td>\n",
              "      <td>1728</td>\n",
              "    </tr>\n",
              "    <tr>\n",
              "      <th>unique</th>\n",
              "      <td>4</td>\n",
              "      <td>4</td>\n",
              "      <td>4</td>\n",
              "      <td>3</td>\n",
              "      <td>3</td>\n",
              "      <td>3</td>\n",
              "      <td>4</td>\n",
              "    </tr>\n",
              "    <tr>\n",
              "      <th>top</th>\n",
              "      <td>OPG</td>\n",
              "      <td>Engineered_Solutions</td>\n",
              "      <td>RWOCS</td>\n",
              "      <td>ProjectsUK</td>\n",
              "      <td>Small_Costs</td>\n",
              "      <td>Low_Risks</td>\n",
              "      <td>Not_Offshore</td>\n",
              "    </tr>\n",
              "    <tr>\n",
              "      <th>freq</th>\n",
              "      <td>432</td>\n",
              "      <td>432</td>\n",
              "      <td>432</td>\n",
              "      <td>576</td>\n",
              "      <td>576</td>\n",
              "      <td>576</td>\n",
              "      <td>1210</td>\n",
              "    </tr>\n",
              "  </tbody>\n",
              "</table>\n",
              "</div>\n",
              "      <button class=\"colab-df-convert\" onclick=\"convertToInteractive('df-bf649311-4c29-4666-99cc-703997a31cb0')\"\n",
              "              title=\"Convert this dataframe to an interactive table.\"\n",
              "              style=\"display:none;\">\n",
              "        \n",
              "  <svg xmlns=\"http://www.w3.org/2000/svg\" height=\"24px\"viewBox=\"0 0 24 24\"\n",
              "       width=\"24px\">\n",
              "    <path d=\"M0 0h24v24H0V0z\" fill=\"none\"/>\n",
              "    <path d=\"M18.56 5.44l.94 2.06.94-2.06 2.06-.94-2.06-.94-.94-2.06-.94 2.06-2.06.94zm-11 1L8.5 8.5l.94-2.06 2.06-.94-2.06-.94L8.5 2.5l-.94 2.06-2.06.94zm10 10l.94 2.06.94-2.06 2.06-.94-2.06-.94-.94-2.06-.94 2.06-2.06.94z\"/><path d=\"M17.41 7.96l-1.37-1.37c-.4-.4-.92-.59-1.43-.59-.52 0-1.04.2-1.43.59L10.3 9.45l-7.72 7.72c-.78.78-.78 2.05 0 2.83L4 21.41c.39.39.9.59 1.41.59.51 0 1.02-.2 1.41-.59l7.78-7.78 2.81-2.81c.8-.78.8-2.07 0-2.86zM5.41 20L4 18.59l7.72-7.72 1.47 1.35L5.41 20z\"/>\n",
              "  </svg>\n",
              "      </button>\n",
              "      \n",
              "  <style>\n",
              "    .colab-df-container {\n",
              "      display:flex;\n",
              "      flex-wrap:wrap;\n",
              "      gap: 12px;\n",
              "    }\n",
              "\n",
              "    .colab-df-convert {\n",
              "      background-color: #E8F0FE;\n",
              "      border: none;\n",
              "      border-radius: 50%;\n",
              "      cursor: pointer;\n",
              "      display: none;\n",
              "      fill: #1967D2;\n",
              "      height: 32px;\n",
              "      padding: 0 0 0 0;\n",
              "      width: 32px;\n",
              "    }\n",
              "\n",
              "    .colab-df-convert:hover {\n",
              "      background-color: #E2EBFA;\n",
              "      box-shadow: 0px 1px 2px rgba(60, 64, 67, 0.3), 0px 1px 3px 1px rgba(60, 64, 67, 0.15);\n",
              "      fill: #174EA6;\n",
              "    }\n",
              "\n",
              "    [theme=dark] .colab-df-convert {\n",
              "      background-color: #3B4455;\n",
              "      fill: #D2E3FC;\n",
              "    }\n",
              "\n",
              "    [theme=dark] .colab-df-convert:hover {\n",
              "      background-color: #434B5C;\n",
              "      box-shadow: 0px 1px 3px 1px rgba(0, 0, 0, 0.15);\n",
              "      filter: drop-shadow(0px 1px 2px rgba(0, 0, 0, 0.3));\n",
              "      fill: #FFFFFF;\n",
              "    }\n",
              "  </style>\n",
              "\n",
              "      <script>\n",
              "        const buttonEl =\n",
              "          document.querySelector('#df-bf649311-4c29-4666-99cc-703997a31cb0 button.colab-df-convert');\n",
              "        buttonEl.style.display =\n",
              "          google.colab.kernel.accessAllowed ? 'block' : 'none';\n",
              "\n",
              "        async function convertToInteractive(key) {\n",
              "          const element = document.querySelector('#df-bf649311-4c29-4666-99cc-703997a31cb0');\n",
              "          const dataTable =\n",
              "            await google.colab.kernel.invokeFunction('convertToInteractive',\n",
              "                                                     [key], {});\n",
              "          if (!dataTable) return;\n",
              "\n",
              "          const docLinkHtml = 'Like what you see? Visit the ' +\n",
              "            '<a target=\"_blank\" href=https://colab.research.google.com/notebooks/data_table.ipynb>data table notebook</a>'\n",
              "            + ' to learn more about interactive tables.';\n",
              "          element.innerHTML = '';\n",
              "          dataTable['output_type'] = 'display_data';\n",
              "          await google.colab.output.renderOutput(dataTable, element);\n",
              "          const docLink = document.createElement('div');\n",
              "          docLink.innerHTML = docLinkHtml;\n",
              "          element.appendChild(docLink);\n",
              "        }\n",
              "      </script>\n",
              "    </div>\n",
              "  </div>\n",
              "  "
            ]
          },
          "metadata": {},
          "execution_count": 4
        }
      ]
    },
    {
      "cell_type": "code",
      "source": [
        "# View columns and data types\n",
        "df.info()"
      ],
      "metadata": {
        "colab": {
          "base_uri": "https://localhost:8080/"
        },
        "id": "vyiBSXZXqmXF",
        "outputId": "34d6fdf2-998c-4af7-9cd7-ee3db12ea579"
      },
      "execution_count": 5,
      "outputs": [
        {
          "output_type": "stream",
          "name": "stdout",
          "text": [
            "<class 'pandas.core.frame.DataFrame'>\n",
            "RangeIndex: 1728 entries, 0 to 1727\n",
            "Data columns (total 7 columns):\n",
            " #   Column            Non-Null Count  Dtype \n",
            "---  ------            --------------  ----- \n",
            " 0   business_segment  1728 non-null   object\n",
            " 1   business_group    1728 non-null   object\n",
            " 2   product_type      1728 non-null   object\n",
            " 3   sales_area        1728 non-null   object\n",
            " 4   total_costs       1728 non-null   object\n",
            " 5   safety            1728 non-null   object\n",
            " 6   class             1728 non-null   object\n",
            "dtypes: object(7)\n",
            "memory usage: 94.6+ KB\n"
          ]
        }
      ]
    },
    {
      "cell_type": "code",
      "source": [
        "# Check missing values\n",
        "df.isnull().sum()"
      ],
      "metadata": {
        "colab": {
          "base_uri": "https://localhost:8080/"
        },
        "id": "F9fUJsuZqmaW",
        "outputId": "008b22f8-7b47-4e6c-d39a-2a677fffb555"
      },
      "execution_count": 6,
      "outputs": [
        {
          "output_type": "execute_result",
          "data": {
            "text/plain": [
              "business_segment    0\n",
              "business_group      0\n",
              "product_type        0\n",
              "sales_area          0\n",
              "total_costs         0\n",
              "safety              0\n",
              "class               0\n",
              "dtype: int64"
            ]
          },
          "metadata": {},
          "execution_count": 6
        }
      ]
    },
    {
      "cell_type": "markdown",
      "source": [
        "### Preprocess data\n",
        "* Encode features\n",
        "* Create target labels"
      ],
      "metadata": {
        "id": "nt9xoI1EqsZd"
      }
    },
    {
      "cell_type": "code",
      "source": [
        "# Replace labels with numbers\n",
        "df['business_segment'] = df['business_segment'].replace({'IMDS':1, 'MP':2, 'OPG':3, 'SSR':4})\n",
        "\n",
        "# Replace labels with numbers\n",
        "df['business_group'] = df['business_group'].replace({'Controls':1, 'Engineered_Solutions':2, 'Intervention':3, 'ROV':4})\n",
        "\n",
        "# Replace labels with numbers\n",
        "df['product_type'] = df['product_type'].replace({'Drill_Support':1, 'Intervention':2, 'Observation':3, 'RWOCS':4})\n",
        "\n",
        "# Replace labels with numbers\n",
        "df['sales_area'] = df['sales_area'].replace({'ProjectsBrazil':1, 'ProjectsNorway':2, 'ProjectsUK':3})\n",
        "\n",
        "# Replace labels with numbers\n",
        "df['total_costs'] = df['total_costs'].replace({'Big_Costs':1, 'Medium_Costs':2, 'Small_Costs':3})\n",
        "\n",
        "# Replace labels with numbers\n",
        "df['safety'] = df['safety'].replace({'High_Risks':1, 'Low_Risks':2, 'Med_Risks':3})\n",
        "\n",
        "# Replace labels with numbers\n",
        "df['class_nums'] = df['class'].replace({'6_Techs_1_Sup':1, '3_Techs_1_ROVPilot_1_Sup':2, '4_Techs':3, 'Not_Offshore':4})\n",
        "\n",
        "# Convert all variables to factors\n",
        "df = df.astype('category')\n",
        "\n",
        "df['class_nums'] = df['class_nums'] .astype('int')\n",
        "\n",
        "# View preprocessed data\n",
        "df.sample(10)"
      ],
      "metadata": {
        "colab": {
          "base_uri": "https://localhost:8080/",
          "height": 363
        },
        "id": "Lqu0guWf_qGa",
        "outputId": "fa45bda7-3fe2-47e8-ad42-9666ee0ad21f"
      },
      "execution_count": 7,
      "outputs": [
        {
          "output_type": "execute_result",
          "data": {
            "text/plain": [
              "     business_segment business_group product_type sales_area total_costs  \\\n",
              "6                   3              2            4          3           1   \n",
              "492                 4              2            3          3           1   \n",
              "1020                1              4            1          1           2   \n",
              "447                 4              2            4          2           1   \n",
              "631                 4              4            2          2           3   \n",
              "983                 1              4            4          2           3   \n",
              "997                 1              4            4          1           1   \n",
              "229                 3              1            4          2           2   \n",
              "1057                1              4            2          3           2   \n",
              "370                 3              3            1          1           3   \n",
              "\n",
              "     safety         class  class_nums  \n",
              "6         2  Not_Offshore           4  \n",
              "492       2  Not_Offshore           4  \n",
              "1020      2  Not_Offshore           4  \n",
              "447       2  Not_Offshore           4  \n",
              "631       3  Not_Offshore           4  \n",
              "983       1       4_Techs           3  \n",
              "997       3       4_Techs           3  \n",
              "229       3  Not_Offshore           4  \n",
              "1057      3  Not_Offshore           4  \n",
              "370       3  Not_Offshore           4  "
            ],
            "text/html": [
              "\n",
              "  <div id=\"df-0325aab2-012a-467b-adce-08cc2bb195b1\">\n",
              "    <div class=\"colab-df-container\">\n",
              "      <div>\n",
              "<style scoped>\n",
              "    .dataframe tbody tr th:only-of-type {\n",
              "        vertical-align: middle;\n",
              "    }\n",
              "\n",
              "    .dataframe tbody tr th {\n",
              "        vertical-align: top;\n",
              "    }\n",
              "\n",
              "    .dataframe thead th {\n",
              "        text-align: right;\n",
              "    }\n",
              "</style>\n",
              "<table border=\"1\" class=\"dataframe\">\n",
              "  <thead>\n",
              "    <tr style=\"text-align: right;\">\n",
              "      <th></th>\n",
              "      <th>business_segment</th>\n",
              "      <th>business_group</th>\n",
              "      <th>product_type</th>\n",
              "      <th>sales_area</th>\n",
              "      <th>total_costs</th>\n",
              "      <th>safety</th>\n",
              "      <th>class</th>\n",
              "      <th>class_nums</th>\n",
              "    </tr>\n",
              "  </thead>\n",
              "  <tbody>\n",
              "    <tr>\n",
              "      <th>6</th>\n",
              "      <td>3</td>\n",
              "      <td>2</td>\n",
              "      <td>4</td>\n",
              "      <td>3</td>\n",
              "      <td>1</td>\n",
              "      <td>2</td>\n",
              "      <td>Not_Offshore</td>\n",
              "      <td>4</td>\n",
              "    </tr>\n",
              "    <tr>\n",
              "      <th>492</th>\n",
              "      <td>4</td>\n",
              "      <td>2</td>\n",
              "      <td>3</td>\n",
              "      <td>3</td>\n",
              "      <td>1</td>\n",
              "      <td>2</td>\n",
              "      <td>Not_Offshore</td>\n",
              "      <td>4</td>\n",
              "    </tr>\n",
              "    <tr>\n",
              "      <th>1020</th>\n",
              "      <td>1</td>\n",
              "      <td>4</td>\n",
              "      <td>1</td>\n",
              "      <td>1</td>\n",
              "      <td>2</td>\n",
              "      <td>2</td>\n",
              "      <td>Not_Offshore</td>\n",
              "      <td>4</td>\n",
              "    </tr>\n",
              "    <tr>\n",
              "      <th>447</th>\n",
              "      <td>4</td>\n",
              "      <td>2</td>\n",
              "      <td>4</td>\n",
              "      <td>2</td>\n",
              "      <td>1</td>\n",
              "      <td>2</td>\n",
              "      <td>Not_Offshore</td>\n",
              "      <td>4</td>\n",
              "    </tr>\n",
              "    <tr>\n",
              "      <th>631</th>\n",
              "      <td>4</td>\n",
              "      <td>4</td>\n",
              "      <td>2</td>\n",
              "      <td>2</td>\n",
              "      <td>3</td>\n",
              "      <td>3</td>\n",
              "      <td>Not_Offshore</td>\n",
              "      <td>4</td>\n",
              "    </tr>\n",
              "    <tr>\n",
              "      <th>983</th>\n",
              "      <td>1</td>\n",
              "      <td>4</td>\n",
              "      <td>4</td>\n",
              "      <td>2</td>\n",
              "      <td>3</td>\n",
              "      <td>1</td>\n",
              "      <td>4_Techs</td>\n",
              "      <td>3</td>\n",
              "    </tr>\n",
              "    <tr>\n",
              "      <th>997</th>\n",
              "      <td>1</td>\n",
              "      <td>4</td>\n",
              "      <td>4</td>\n",
              "      <td>1</td>\n",
              "      <td>1</td>\n",
              "      <td>3</td>\n",
              "      <td>4_Techs</td>\n",
              "      <td>3</td>\n",
              "    </tr>\n",
              "    <tr>\n",
              "      <th>229</th>\n",
              "      <td>3</td>\n",
              "      <td>1</td>\n",
              "      <td>4</td>\n",
              "      <td>2</td>\n",
              "      <td>2</td>\n",
              "      <td>3</td>\n",
              "      <td>Not_Offshore</td>\n",
              "      <td>4</td>\n",
              "    </tr>\n",
              "    <tr>\n",
              "      <th>1057</th>\n",
              "      <td>1</td>\n",
              "      <td>4</td>\n",
              "      <td>2</td>\n",
              "      <td>3</td>\n",
              "      <td>2</td>\n",
              "      <td>3</td>\n",
              "      <td>Not_Offshore</td>\n",
              "      <td>4</td>\n",
              "    </tr>\n",
              "    <tr>\n",
              "      <th>370</th>\n",
              "      <td>3</td>\n",
              "      <td>3</td>\n",
              "      <td>1</td>\n",
              "      <td>1</td>\n",
              "      <td>3</td>\n",
              "      <td>3</td>\n",
              "      <td>Not_Offshore</td>\n",
              "      <td>4</td>\n",
              "    </tr>\n",
              "  </tbody>\n",
              "</table>\n",
              "</div>\n",
              "      <button class=\"colab-df-convert\" onclick=\"convertToInteractive('df-0325aab2-012a-467b-adce-08cc2bb195b1')\"\n",
              "              title=\"Convert this dataframe to an interactive table.\"\n",
              "              style=\"display:none;\">\n",
              "        \n",
              "  <svg xmlns=\"http://www.w3.org/2000/svg\" height=\"24px\"viewBox=\"0 0 24 24\"\n",
              "       width=\"24px\">\n",
              "    <path d=\"M0 0h24v24H0V0z\" fill=\"none\"/>\n",
              "    <path d=\"M18.56 5.44l.94 2.06.94-2.06 2.06-.94-2.06-.94-.94-2.06-.94 2.06-2.06.94zm-11 1L8.5 8.5l.94-2.06 2.06-.94-2.06-.94L8.5 2.5l-.94 2.06-2.06.94zm10 10l.94 2.06.94-2.06 2.06-.94-2.06-.94-.94-2.06-.94 2.06-2.06.94z\"/><path d=\"M17.41 7.96l-1.37-1.37c-.4-.4-.92-.59-1.43-.59-.52 0-1.04.2-1.43.59L10.3 9.45l-7.72 7.72c-.78.78-.78 2.05 0 2.83L4 21.41c.39.39.9.59 1.41.59.51 0 1.02-.2 1.41-.59l7.78-7.78 2.81-2.81c.8-.78.8-2.07 0-2.86zM5.41 20L4 18.59l7.72-7.72 1.47 1.35L5.41 20z\"/>\n",
              "  </svg>\n",
              "      </button>\n",
              "      \n",
              "  <style>\n",
              "    .colab-df-container {\n",
              "      display:flex;\n",
              "      flex-wrap:wrap;\n",
              "      gap: 12px;\n",
              "    }\n",
              "\n",
              "    .colab-df-convert {\n",
              "      background-color: #E8F0FE;\n",
              "      border: none;\n",
              "      border-radius: 50%;\n",
              "      cursor: pointer;\n",
              "      display: none;\n",
              "      fill: #1967D2;\n",
              "      height: 32px;\n",
              "      padding: 0 0 0 0;\n",
              "      width: 32px;\n",
              "    }\n",
              "\n",
              "    .colab-df-convert:hover {\n",
              "      background-color: #E2EBFA;\n",
              "      box-shadow: 0px 1px 2px rgba(60, 64, 67, 0.3), 0px 1px 3px 1px rgba(60, 64, 67, 0.15);\n",
              "      fill: #174EA6;\n",
              "    }\n",
              "\n",
              "    [theme=dark] .colab-df-convert {\n",
              "      background-color: #3B4455;\n",
              "      fill: #D2E3FC;\n",
              "    }\n",
              "\n",
              "    [theme=dark] .colab-df-convert:hover {\n",
              "      background-color: #434B5C;\n",
              "      box-shadow: 0px 1px 3px 1px rgba(0, 0, 0, 0.15);\n",
              "      filter: drop-shadow(0px 1px 2px rgba(0, 0, 0, 0.3));\n",
              "      fill: #FFFFFF;\n",
              "    }\n",
              "  </style>\n",
              "\n",
              "      <script>\n",
              "        const buttonEl =\n",
              "          document.querySelector('#df-0325aab2-012a-467b-adce-08cc2bb195b1 button.colab-df-convert');\n",
              "        buttonEl.style.display =\n",
              "          google.colab.kernel.accessAllowed ? 'block' : 'none';\n",
              "\n",
              "        async function convertToInteractive(key) {\n",
              "          const element = document.querySelector('#df-0325aab2-012a-467b-adce-08cc2bb195b1');\n",
              "          const dataTable =\n",
              "            await google.colab.kernel.invokeFunction('convertToInteractive',\n",
              "                                                     [key], {});\n",
              "          if (!dataTable) return;\n",
              "\n",
              "          const docLinkHtml = 'Like what you see? Visit the ' +\n",
              "            '<a target=\"_blank\" href=https://colab.research.google.com/notebooks/data_table.ipynb>data table notebook</a>'\n",
              "            + ' to learn more about interactive tables.';\n",
              "          element.innerHTML = '';\n",
              "          dataTable['output_type'] = 'display_data';\n",
              "          await google.colab.output.renderOutput(dataTable, element);\n",
              "          const docLink = document.createElement('div');\n",
              "          docLink.innerHTML = docLinkHtml;\n",
              "          element.appendChild(docLink);\n",
              "        }\n",
              "      </script>\n",
              "    </div>\n",
              "  </div>\n",
              "  "
            ]
          },
          "metadata": {},
          "execution_count": 7
        }
      ]
    },
    {
      "cell_type": "code",
      "source": [
        "# Create features\n",
        "X = df.drop(['class', 'class_nums'], axis=1).values\n",
        "\n",
        "# Create target\n",
        "y_num = df['class_nums'].values\n",
        "y_lab = df['class'].values\n",
        "y_bin = pd.get_dummies(y_lab)\n",
        "\n",
        "print(f'y target as text: \\n{y_lab} \\n\\ny target as numeric: \\n{y_num}, \\n\\ny target as binary: \\n{y_bin}')"
      ],
      "metadata": {
        "id": "F-8sNUlb_wcB",
        "colab": {
          "base_uri": "https://localhost:8080/"
        },
        "outputId": "35fcf276-7487-47d5-dee9-8677c2970194"
      },
      "execution_count": 8,
      "outputs": [
        {
          "output_type": "stream",
          "name": "stdout",
          "text": [
            "y target as text: \n",
            "['Not_Offshore', 'Not_Offshore', 'Not_Offshore', 'Not_Offshore', 'Not_Offshore', ..., '6_Techs_1_Sup', '3_Techs_1_ROVPilot_1_Sup', 'Not_Offshore', '6_Techs_1_Sup', '3_Techs_1_ROVPilot_1_Sup']\n",
            "Length: 1728\n",
            "Categories (4, object): ['3_Techs_1_ROVPilot_1_Sup', '4_Techs', '6_Techs_1_Sup', 'Not_Offshore'] \n",
            "\n",
            "y target as numeric: \n",
            "[4 4 4 ... 4 1 2], \n",
            "\n",
            "y target as binary: \n",
            "      3_Techs_1_ROVPilot_1_Sup  4_Techs  6_Techs_1_Sup  Not_Offshore\n",
            "0                            0        0              0             1\n",
            "1                            0        0              0             1\n",
            "2                            0        0              0             1\n",
            "3                            0        0              0             1\n",
            "4                            0        0              0             1\n",
            "...                        ...      ...            ...           ...\n",
            "1723                         0        0              1             0\n",
            "1724                         1        0              0             0\n",
            "1725                         0        0              0             1\n",
            "1726                         0        0              1             0\n",
            "1727                         1        0              0             0\n",
            "\n",
            "[1728 rows x 4 columns]\n"
          ]
        }
      ]
    },
    {
      "cell_type": "markdown",
      "source": [
        "## Supervised Machine Learning\n",
        "\n",
        "We will split our data into train and test sets, we will use the train set to test hyperparameters for finding the best k. kNN is a similarity based learner and uses a majority voting system which we will use to predict our `class` label. To determine the nearest neighbors, the distance between the data points is calculated using a distance metric. For classification tasks, the class that occurs most frequently among the nearest neighbors is assigned to the data point. We will rate kNNs performance on our test set using metrics; precision, recall, f1 score, and accuracy.\n",
        "\n",
        "kNN has been chosen for is explainability and interpretability."
      ],
      "metadata": {
        "id": "psGDHJ3TnaoX"
      }
    },
    {
      "cell_type": "code",
      "source": [
        "# Data for k-NN\n",
        "y = y_lab\n",
        "print(f\"Features: {X.shape}\\n{X}\\n\\nTarget: {y.shape}\\n{y}\")"
      ],
      "metadata": {
        "colab": {
          "base_uri": "https://localhost:8080/"
        },
        "outputId": "27bd69a7-1e49-4693-8acc-9b43264e0336",
        "id": "ELRX9RngncpW"
      },
      "execution_count": 9,
      "outputs": [
        {
          "output_type": "stream",
          "name": "stdout",
          "text": [
            "Features: (1728, 6)\n",
            "[[3 2 4 3 3 2]\n",
            " [3 2 4 3 3 3]\n",
            " [3 2 4 3 3 1]\n",
            " ...\n",
            " [2 3 2 1 1 2]\n",
            " [2 3 2 1 1 3]\n",
            " [2 3 2 1 1 1]]\n",
            "\n",
            "Target: (1728,)\n",
            "['Not_Offshore', 'Not_Offshore', 'Not_Offshore', 'Not_Offshore', 'Not_Offshore', ..., '6_Techs_1_Sup', '3_Techs_1_ROVPilot_1_Sup', 'Not_Offshore', '6_Techs_1_Sup', '3_Techs_1_ROVPilot_1_Sup']\n",
            "Length: 1728\n",
            "Categories (4, object): ['3_Techs_1_ROVPilot_1_Sup', '4_Techs', '6_Techs_1_Sup', 'Not_Offshore']\n"
          ]
        }
      ]
    },
    {
      "cell_type": "code",
      "source": [
        "# Create 30/70 train test split. 80/20 does not perform as well\n",
        "X_train, X_test, y_train, y_test = train_test_split(X, y, test_size=0.3, random_state=8, stratify=y)\n",
        "\n",
        "y_test_knn = y_test # Save copy for evaluation\n",
        "\n",
        "# k=3 k=5, k=7, k=9 - distance used by default=5\n",
        "knn3 = KNeighborsClassifier(n_neighbors=3)\n",
        "knn5 = KNeighborsClassifier(n_neighbors=5)\n",
        "knn7 = KNeighborsClassifier(n_neighbors=7)\n",
        "knn9 = KNeighborsClassifier(n_neighbors=9)\n",
        "\n",
        "# Fit classifier to training data\n",
        "knn3.fit(X_train, y_train)\n",
        "knn5.fit(X_train, y_train)\n",
        "knn7.fit(X_train, y_train)\n",
        "knn9.fit(X_train, y_train)\n",
        "\n",
        "# Print accuracy\n",
        "print(f'k=3: {knn3.score(X_test, y_test)}')\n",
        "print(f'k=5: {knn5.score(X_test, y_test)}')\n",
        "print(f'k=7: {knn7.score(X_test, y_test)}')\n",
        "print(f'k=9: {knn9.score(X_test, y_test)}')\n"
      ],
      "metadata": {
        "colab": {
          "base_uri": "https://localhost:8080/"
        },
        "id": "e5750-PEnayl",
        "outputId": "0853dbfd-cdb0-4ac6-ae42-702d4ef1a4bd"
      },
      "execution_count": 10,
      "outputs": [
        {
          "output_type": "stream",
          "name": "stdout",
          "text": [
            "k=3: 0.8728323699421965\n",
            "k=5: 0.905587668593449\n",
            "k=7: 0.8882466281310212\n",
            "k=9: 0.8651252408477842\n"
          ]
        }
      ]
    },
    {
      "cell_type": "code",
      "source": [
        "# Overfitting and underfitting: Model complexity curve to compute and plot the train test data\n",
        "\n",
        "# Setup arrays to store train test accuracies\n",
        "neighbors = np.arange(1, 20)\n",
        "train_accuracy = np.empty(len(neighbors))\n",
        "test_accuracy = np.empty(len(neighbors))\n",
        "\n",
        "# Loop over 20 values of k\n",
        "for i, k in enumerate(neighbors):\n",
        "\n",
        "    # Setup a k-NN Classifier with k neighbors\n",
        "    knn = KNeighborsClassifier(n_neighbors=len(neighbors))\n",
        "\n",
        "    # Fit classifier to train data\n",
        "    knn.fit(X_train, y_train)\n",
        "\n",
        "    # Compute accuracy on train set\n",
        "    train_accuracy[i] = knn.score(X_train, y_train)\n",
        "\n",
        "    # Compute accuracy on test set\n",
        "    test_accuracy[i] = knn.score(X_test, y_test)\n",
        "\n",
        "# Create plot\n",
        "plt.title('k-NN: Varying Number of Neighbours')\n",
        "plt.plot(neighbors, test_accuracy, label = 'Testing Accuracy')\n",
        "plt.plot(neighbors, train_accuracy, label = 'Training Accuracy')\n",
        "plt.legend()\n",
        "plt.xlabel('Number of Neighbors')\n",
        "plt.ylabel('Accuracy')\n",
        "plt.show()\n",
        "\n",
        "# By observing how accuracy scores differ for train and test sets with different values of k,\n",
        "# you will develop an intuition for overfitting and underfitting"
      ],
      "metadata": {
        "colab": {
          "base_uri": "https://localhost:8080/",
          "height": 472
        },
        "id": "iqGJ-beyxXQz",
        "outputId": "5f061527-14f4-4358-b717-87f30f1851b9"
      },
      "execution_count": 11,
      "outputs": [
        {
          "output_type": "display_data",
          "data": {
            "text/plain": [
              "<Figure size 640x480 with 1 Axes>"
            ],
            "image/png": "[encoded data removed]"
          },
          "metadata": {}
        }
      ]
    },
    {
      "cell_type": "code",
      "source": [
        "# Set error rate for K=1-20\n",
        "error_rate = []\n",
        "for i in range(1,20):\n",
        "    knn = KNeighborsClassifier(n_neighbors=i)\n",
        "    knn.fit(X_train, y_train)\n",
        "    pred_i = knn.predict(X_test)\n",
        "    error_rate.append(np.mean(pred_i != y_test)) # k=11"
      ],
      "metadata": {
        "id": "Nd7jtJroEulP"
      },
      "execution_count": 12,
      "outputs": []
    },
    {
      "cell_type": "code",
      "source": [
        "knn = KNeighborsClassifier(n_neighbors=11)\n",
        "knn.fit(X_train, y_train)\n",
        "pred = knn.predict(X_test)\n",
        "\n",
        "#print(f'Confusion matrix for highest k value: \\n{confusion_matrix(y_test, pred)}')\n",
        "disp = metrics.ConfusionMatrixDisplay.from_predictions(y_test, pred)\n",
        "disp.figure_.suptitle(\"Confusion matrix for highest k value\")\n",
        "\n",
        "plt.show()\n",
        "# Confusion Matrix:\n",
        "# Confusion matrix table summarizes the performance of a classifier. It gives a more detailed picture\n",
        "# of the classifier performance by breaking down the correct and incorrect predictions for each class"
      ],
      "metadata": {
        "colab": {
          "base_uri": "https://localhost:8080/",
          "height": 498
        },
        "id": "pKx0fsAVx5O3",
        "outputId": "ba80f4ad-7ff1-4af8-c686-9a6e3a487758"
      },
      "execution_count": 13,
      "outputs": [
        {
          "output_type": "display_data",
          "data": {
            "text/plain": [
              "<Figure size 640x480 with 2 Axes>"
            ],
            "image/png": "[encoded data removed]"
          },
          "metadata": {}
        }
      ]
    },
    {
      "cell_type": "markdown",
      "source": [
        "### KNN Performance"
      ],
      "metadata": {
        "id": "4O5MPdDZsqS1"
      }
    },
    {
      "cell_type": "code",
      "source": [
        "# Precision measures the accuracy of positive predictions. It is the number of true\n",
        "# positive predictions divided by the sum of true positive and false positive predictions\n",
        "\n",
        "# Recall measures the proportion of positive cases that were correctly identified by the classifier. It is calculated as\n",
        "# the number of true positive predictions divided by the sum of true positive predictions and false negative predictions\n",
        "\n",
        "# F1 Score weighted average of precision and recall, where the weighting depends on the balance\n",
        "# between precision and recall. It is a single number that summarizes the performance of the classifier\n",
        "\n",
        "# Accuracy, this is the most commonly used metric, which measures the proportion of correct predictions out of all\n",
        "# predictions made. It can be calculated as the number of correct predictions divided by the total number of predictions\n",
        "\n",
        "print(55 * \"_\")\n",
        "print(f'\\nk-NN classification report performance:\\n\\n{classification_report(y_test_knn,pred)}')\n",
        "print(55 * \"_\")"
      ],
      "metadata": {
        "colab": {
          "base_uri": "https://localhost:8080/"
        },
        "id": "rLu-XnfqqxhL",
        "outputId": "5381bc88-a340-4138-956e-62aee163d84e"
      },
      "execution_count": 14,
      "outputs": [
        {
          "output_type": "stream",
          "name": "stdout",
          "text": [
            "_______________________________________________________\n",
            "\n",
            "k-NN classification report performance:\n",
            "\n",
            "                          precision    recall  f1-score   support\n",
            "\n",
            "3_Techs_1_ROVPilot_1_Sup       0.80      0.60      0.69        20\n",
            "                 4_Techs       0.82      0.59      0.69       115\n",
            "           6_Techs_1_Sup       1.00      0.24      0.38        21\n",
            "            Not_Offshore       0.86      0.99      0.92       363\n",
            "\n",
            "                accuracy                           0.86       519\n",
            "               macro avg       0.87      0.60      0.67       519\n",
            "            weighted avg       0.86      0.86      0.84       519\n",
            "\n",
            "_______________________________________________________\n"
          ]
        }
      ]
    },
    {
      "cell_type": "code",
      "source": [
        "# Small k, the algorithm can be more sensitive to outliers and can produce predictions that are highly influenced\n",
        "# by just a few data points. In this case, the algorithm is said to have a high degree of complexity and a low bias.\n",
        "\n",
        "# Big k, the algorithm tends to be more stable and produce predictions that are more representative of the\n",
        "# majority of the data points. The algorithm is said to have a low degree of complexity and a high bias.\n",
        "\n",
        "# Create plot\n",
        "colour = \"lightseagreen\"\n",
        "\n",
        "plt.figure(figsize=(10,5))\n",
        "plt.plot(range(1,20),\n",
        "         error_rate,\n",
        "         color='grey',\n",
        "         linestyle=':',\n",
        "         marker='*',\n",
        "         markerfacecolor=colour,\n",
        "         markeredgecolor=colour,\n",
        "         markersize=10)\n",
        "plt.title('Error Rate vs. k Value')\n",
        "plt.xlabel('k')\n",
        "plt.ylabel('Error Rate')"
      ],
      "metadata": {
        "colab": {
          "base_uri": "https://localhost:8080/",
          "height": 504
        },
        "id": "U4eHjH2vx5MN",
        "outputId": "f2decf17-4e5a-4f29-a13f-49ff4bc17b16"
      },
      "execution_count": 15,
      "outputs": [
        {
          "output_type": "execute_result",
          "data": {
            "text/plain": [
              "Text(0, 0.5, 'Error Rate')"
            ]
          },
          "metadata": {},
          "execution_count": 15
        },
        {
          "output_type": "display_data",
          "data": {
            "text/plain": [
              "<Figure size 1000x500 with 1 Axes>"
            ],
            "image/png": "[encoded data removed]"
          },
          "metadata": {}
        }
      ]
    },
    {
      "cell_type": "markdown",
      "source": [
        "## Data Visualization for Stakeholders\n",
        "\n",
        "You will have to use your imagination for this last component as this will need to be developed in another software application. The output is the predicted personnel count and job title based on new bid data. Moving forward we will encompass a start date and a histogram timeline of offshore personnel demand and forecasting.\n",
        "\n",
        "**Expose new bid data to trained algorithm**\n",
        "\n",
        "New bid data is gathered as part of the bid creation process, this section represents a new bid being added to the database. For this part of the experiment, to predict the `target or 'y' variable`, we will randomly select a value for each of the 6 `features or 'X' variables`:\n",
        "\n",
        "* `business_segment` business segment\n",
        "* `business_group` business group\n",
        "* `product_type` product type\n",
        "* `sales_area` sales area\n",
        "* `total_costs` total costs of the bid before JP\n",
        "* `safety` safety, i.e., what contractual risks are involved\n",
        "\n"
      ],
      "metadata": {
        "id": "Xzba8OkwtFrw"
      }
    },
    {
      "cell_type": "code",
      "source": [
        "import random\n",
        "\n",
        "# Generate a random number\n",
        "bus_seg_num = random.randint(1, 4)\n",
        "\n",
        "# Create dictionary of numbers and labels\n",
        "bus_seg_list = {1: 'IMDS', 2: 'MP', 3: 'OPG', 4: 'SSR'}\n",
        "\n",
        "# Assign number to dict item\n",
        "bus_seg_lab = bus_seg_list[bus_seg_num]\n",
        "\n",
        "bus_grp_num = random.randint(1, 4)\n",
        "bus_grp_list = {1: 'Controls', 2: 'Engineered_Solutions', 3: 'Intervention', 4: 'ROV'}\n",
        "bus_grp_lab = bus_grp_list[bus_grp_num]\n",
        "\n",
        "prd_typ_num = random.randint(1, 4)\n",
        "prd_typ_list = {1: 'Drill_Support', 2: 'Intervention', 3: 'Observation', 4: 'RWOCS'}\n",
        "prd_typ_lab = prd_typ_list[prd_typ_num]\n",
        "\n",
        "sale_area_num = random.randint(1, 3)\n",
        "sale_area_list = {1: 'ProjectsBrazil', 2: 'ProjectsNorway', 3: 'ProjectsUK'}\n",
        "sale_area_lab = sale_area_list[sale_area_num]\n",
        "\n",
        "tot_cost_num = random.randint(1, 3)\n",
        "tot_cost_list = {1: 'Big_Costs', 2: 'Medium_Costs', 3: 'Small_Costs'}\n",
        "tot_cost_lab = tot_cost_list[tot_cost_num]\n",
        "\n",
        "safety_num = random.randint(1, 3)\n",
        "safety_list = {1: 'High_Risks', 2: 'Low_Risks', 3: 'Med_Risks'}\n",
        "safety_lab = safety_list[safety_num]\n",
        "\n",
        "# Bid contract values list\n",
        "print(f'\\n\\nNew randomly generated bid data, \\nwhereby the Business Segment is {bus_seg_lab}, \\nfor the Business Group {bus_grp_lab}, \\nthe Product Type is {prd_typ_lab},')\n",
        "print(f'for the {sale_area_lab} Sales Area, \\nwith Total Costs before JP recorded as {tot_cost_lab}, \\nand with a contractual Safety Rating of {safety_lab},')\n",
        "\n",
        "# Make prediction on new unseen data\n",
        "prediction = knn.predict([[bus_seg_num, bus_grp_num, prd_typ_num, sale_area_num, tot_cost_num, safety_num]])\n",
        "\n",
        "print(f'it is predicted that this contract requires {prediction}\\n\\n')\n"
      ],
      "metadata": {
        "colab": {
          "base_uri": "https://localhost:8080/"
        },
        "id": "8labRZyBAaco",
        "outputId": "3b444e6f-e263-4548-d2d2-d3b0a575dc84"
      },
      "execution_count": 18,
      "outputs": [
        {
          "output_type": "stream",
          "name": "stdout",
          "text": [
            "\n",
            "\n",
            "New randomly generated bid data, \n",
            "whereby the Business Segment is MP, \n",
            "for the Business Group Controls, \n",
            "the Product Type is Observation,\n",
            "for the ProjectsBrazil Sales Area, \n",
            "with Total Costs before JP recorded as Medium_Costs, \n",
            "and with a contractual Safety Rating of High_Risks,\n",
            "it is predicted that this contract requires ['3_Techs_1_ROVPilot_1_Sup']\n",
            "\n",
            "\n"
          ]
        }
      ]
    }
  ]
}