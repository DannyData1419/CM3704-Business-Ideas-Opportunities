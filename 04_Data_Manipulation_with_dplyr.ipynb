{
  "nbformat": 4,
  "nbformat_minor": 0,
  "metadata": {
    "colab": {
      "provenance": [],
      "authorship_tag": "ABX9TyNhLltU//mlgzbVzMQY/qQo",
      "include_colab_link": true
    },
    "kernelspec": {
      "name": "ir",
      "display_name": "R"
    },
    "language_info": {
      "name": "R"
    }
  },
  "cells": [
    {
      "cell_type": "markdown",
      "metadata": {
        "id": "view-in-github",
        "colab_type": "text"
      },
      "source": [
        "<a href=\"https://colab.research.google.com/github/DannyData1419/CM3704-Business-Ideas-Opportunities/blob/main/04_Data_Manipulation_with_dplyr.ipynb\" target=\"_parent\"><img src=\"https://colab.research.google.com/assets/colab-badge.svg\" alt=\"Open In Colab\"/></a>"
      ]
    },
    {
      "cell_type": "markdown",
      "source": [
        "# **Data Manipulation with dplyr**\n",
        "*   **Transforming Data with dplyr**\n",
        "\n",
        "Learn verbs you can use to transform your data, including select, filter, arrange, and mutate. You'll use these functions to modify the counties dataset to view particular observations and answer questions about the data.\n",
        "*   **Aggregating Data**\n",
        "\n",
        "Now that you know how to transform your data, you'll want to know more about how to aggregate your data to make it more interpretable. You'll learn a number of functions you can use to take many observations in your data and summarize them, including count, group_by, summarize, ungroup, and top_n.\n",
        "\n",
        "*   **Selecting and Transforming Data**\n",
        "\n",
        "Learn advanced methods to select and transform columns. Also learn about select helpers, which are functions that specify criteria for columns you want to choose, as well as the rename and transmute verbs.\n",
        "*   **Case Study: The babynames Dataset**\n",
        "\n",
        "Work with a new dataset that represents the names of babies born in the United States each year. Learn how to use grouped mutates and window functions to ask and answer more complex questions about your data. And use a combination of dplyr and ggplot2 to make interesting graphs to further explore your data.\n",
        "\n"
      ],
      "metadata": {
        "id": "Ow7dPiViyWay"
      }
    },
    {
      "cell_type": "markdown",
      "source": [
        "## **Transforming Data with dplyr**\n",
        "Learn verbs you can use to transform your data, including select, filter, arrange, and mutate. You'll use these functions to modify the counties dataset to view particular observations and answer questions about the data."
      ],
      "metadata": {
        "id": "lAKEVZs6JFSk"
      }
    },
    {
      "cell_type": "code",
      "execution_count": 72,
      "metadata": {
        "id": "ytRsYH7lyQ4M"
      },
      "outputs": [],
      "source": [
        "# Install required packages\n",
        "required_Packages_Install <- c(\"dplyr\", \"ggplot2\", \"babynames\")\n",
        "\n",
        "for(Package in required_Packages_Install){\n",
        "  if(!require(Package, character.only=TRUE)) {\n",
        "    install.packages(Package, dependencies=TRUE)\n",
        "  }\n",
        "  library(Package, character.only=TRUE)\n",
        "}\n",
        "\n",
        "# Load the dplyr, ggplot2, babynames libraries\n",
        "library(dplyr)\n",
        "library(ggplot2)\n",
        "library(babynames)\n"
      ]
    },
    {
      "cell_type": "code",
      "source": [
        "# Import data from github repo\n",
        "counties <- read.csv(url(\"https://raw.githubusercontent.com/DannyData1419/Dataset-stash/main/counties.csv\"))\n",
        "\n",
        "# View head\n",
        "head(counties)\n"
      ],
      "metadata": {
        "colab": {
          "base_uri": "https://localhost:8080/",
          "height": 286
        },
        "id": "kDJzyDby0Nsb",
        "outputId": "afcbaa8b-d45e-44f6-f77d-1a95df83d335"
      },
      "execution_count": 73,
      "outputs": [
        {
          "output_type": "display_data",
          "data": {
            "text/html": [
              "<table class=\"dataframe\">\n",
              "<caption>A data.frame: 6 × 40</caption>\n",
              "<thead>\n",
              "\t<tr><th></th><th scope=col>census_id</th><th scope=col>state</th><th scope=col>county</th><th scope=col>region</th><th scope=col>metro</th><th scope=col>population</th><th scope=col>men</th><th scope=col>women</th><th scope=col>hispanic</th><th scope=col>white</th><th scope=col>⋯</th><th scope=col>other_transp</th><th scope=col>work_at_home</th><th scope=col>mean_commute</th><th scope=col>employed</th><th scope=col>private_work</th><th scope=col>public_work</th><th scope=col>self_employed</th><th scope=col>family_work</th><th scope=col>unemployment</th><th scope=col>land_area</th></tr>\n",
              "\t<tr><th></th><th scope=col>&lt;int&gt;</th><th scope=col>&lt;chr&gt;</th><th scope=col>&lt;chr&gt;</th><th scope=col>&lt;chr&gt;</th><th scope=col>&lt;chr&gt;</th><th scope=col>&lt;int&gt;</th><th scope=col>&lt;int&gt;</th><th scope=col>&lt;int&gt;</th><th scope=col>&lt;dbl&gt;</th><th scope=col>&lt;dbl&gt;</th><th scope=col>⋯</th><th scope=col>&lt;dbl&gt;</th><th scope=col>&lt;dbl&gt;</th><th scope=col>&lt;dbl&gt;</th><th scope=col>&lt;int&gt;</th><th scope=col>&lt;dbl&gt;</th><th scope=col>&lt;dbl&gt;</th><th scope=col>&lt;dbl&gt;</th><th scope=col>&lt;dbl&gt;</th><th scope=col>&lt;dbl&gt;</th><th scope=col>&lt;dbl&gt;</th></tr>\n",
              "</thead>\n",
              "<tbody>\n",
              "\t<tr><th scope=row>1</th><td>1001</td><td>Alabama</td><td>Autauga</td><td>South</td><td>Metro   </td><td> 55221</td><td>26745</td><td>28476</td><td>2.6</td><td>75.8</td><td>⋯</td><td>1.3</td><td>1.8</td><td>26.5</td><td>23986</td><td>73.6</td><td>20.9</td><td>5.5</td><td>0.0</td><td> 7.6</td><td> 594.44</td></tr>\n",
              "\t<tr><th scope=row>2</th><td>1003</td><td>Alabama</td><td>Baldwin</td><td>South</td><td>Metro   </td><td>195121</td><td>95314</td><td>99807</td><td>4.5</td><td>83.1</td><td>⋯</td><td>1.4</td><td>3.9</td><td>26.4</td><td>85953</td><td>81.5</td><td>12.3</td><td>5.8</td><td>0.4</td><td> 7.5</td><td>1589.78</td></tr>\n",
              "\t<tr><th scope=row>3</th><td>1005</td><td>Alabama</td><td>Barbour</td><td>South</td><td>Nonmetro</td><td> 26932</td><td>14497</td><td>12435</td><td>4.6</td><td>46.2</td><td>⋯</td><td>1.5</td><td>1.6</td><td>24.1</td><td> 8597</td><td>71.8</td><td>20.8</td><td>7.3</td><td>0.1</td><td>17.6</td><td> 884.88</td></tr>\n",
              "\t<tr><th scope=row>4</th><td>1007</td><td>Alabama</td><td>Bibb   </td><td>South</td><td>Metro   </td><td> 22604</td><td>12073</td><td>10531</td><td>2.2</td><td>74.5</td><td>⋯</td><td>1.5</td><td>0.7</td><td>28.8</td><td> 8294</td><td>76.8</td><td>16.1</td><td>6.7</td><td>0.4</td><td> 8.3</td><td> 622.58</td></tr>\n",
              "\t<tr><th scope=row>5</th><td>1009</td><td>Alabama</td><td>Blount </td><td>South</td><td>Metro   </td><td> 57710</td><td>28512</td><td>29198</td><td>8.6</td><td>87.9</td><td>⋯</td><td>0.4</td><td>2.3</td><td>34.9</td><td>22189</td><td>82.0</td><td>13.5</td><td>4.2</td><td>0.4</td><td> 7.7</td><td> 644.78</td></tr>\n",
              "\t<tr><th scope=row>6</th><td>1011</td><td>Alabama</td><td>Bullock</td><td>South</td><td>Nonmetro</td><td> 10678</td><td> 5660</td><td> 5018</td><td>4.4</td><td>22.2</td><td>⋯</td><td>1.7</td><td>2.8</td><td>27.5</td><td> 3865</td><td>79.5</td><td>15.1</td><td>5.4</td><td>0.0</td><td>18.0</td><td> 622.81</td></tr>\n",
              "</tbody>\n",
              "</table>\n"
            ],
            "text/markdown": "\nA data.frame: 6 × 40\n\n| <!--/--> | census_id &lt;int&gt; | state &lt;chr&gt; | county &lt;chr&gt; | region &lt;chr&gt; | metro &lt;chr&gt; | population &lt;int&gt; | men &lt;int&gt; | women &lt;int&gt; | hispanic &lt;dbl&gt; | white &lt;dbl&gt; | ⋯ ⋯ | other_transp &lt;dbl&gt; | work_at_home &lt;dbl&gt; | mean_commute &lt;dbl&gt; | employed &lt;int&gt; | private_work &lt;dbl&gt; | public_work &lt;dbl&gt; | self_employed &lt;dbl&gt; | family_work &lt;dbl&gt; | unemployment &lt;dbl&gt; | land_area &lt;dbl&gt; |\n|---|---|---|---|---|---|---|---|---|---|---|---|---|---|---|---|---|---|---|---|---|---|\n| 1 | 1001 | Alabama | Autauga | South | Metro    |  55221 | 26745 | 28476 | 2.6 | 75.8 | ⋯ | 1.3 | 1.8 | 26.5 | 23986 | 73.6 | 20.9 | 5.5 | 0.0 |  7.6 |  594.44 |\n| 2 | 1003 | Alabama | Baldwin | South | Metro    | 195121 | 95314 | 99807 | 4.5 | 83.1 | ⋯ | 1.4 | 3.9 | 26.4 | 85953 | 81.5 | 12.3 | 5.8 | 0.4 |  7.5 | 1589.78 |\n| 3 | 1005 | Alabama | Barbour | South | Nonmetro |  26932 | 14497 | 12435 | 4.6 | 46.2 | ⋯ | 1.5 | 1.6 | 24.1 |  8597 | 71.8 | 20.8 | 7.3 | 0.1 | 17.6 |  884.88 |\n| 4 | 1007 | Alabama | Bibb    | South | Metro    |  22604 | 12073 | 10531 | 2.2 | 74.5 | ⋯ | 1.5 | 0.7 | 28.8 |  8294 | 76.8 | 16.1 | 6.7 | 0.4 |  8.3 |  622.58 |\n| 5 | 1009 | Alabama | Blount  | South | Metro    |  57710 | 28512 | 29198 | 8.6 | 87.9 | ⋯ | 0.4 | 2.3 | 34.9 | 22189 | 82.0 | 13.5 | 4.2 | 0.4 |  7.7 |  644.78 |\n| 6 | 1011 | Alabama | Bullock | South | Nonmetro |  10678 |  5660 |  5018 | 4.4 | 22.2 | ⋯ | 1.7 | 2.8 | 27.5 |  3865 | 79.5 | 15.1 | 5.4 | 0.0 | 18.0 |  622.81 |\n\n",
            "text/latex": "A data.frame: 6 × 40\n\\begin{tabular}{r|lllllllllllllllllllll}\n  & census\\_id & state & county & region & metro & population & men & women & hispanic & white & ⋯ & other\\_transp & work\\_at\\_home & mean\\_commute & employed & private\\_work & public\\_work & self\\_employed & family\\_work & unemployment & land\\_area\\\\\n  & <int> & <chr> & <chr> & <chr> & <chr> & <int> & <int> & <int> & <dbl> & <dbl> & ⋯ & <dbl> & <dbl> & <dbl> & <int> & <dbl> & <dbl> & <dbl> & <dbl> & <dbl> & <dbl>\\\\\n\\hline\n\t1 & 1001 & Alabama & Autauga & South & Metro    &  55221 & 26745 & 28476 & 2.6 & 75.8 & ⋯ & 1.3 & 1.8 & 26.5 & 23986 & 73.6 & 20.9 & 5.5 & 0.0 &  7.6 &  594.44\\\\\n\t2 & 1003 & Alabama & Baldwin & South & Metro    & 195121 & 95314 & 99807 & 4.5 & 83.1 & ⋯ & 1.4 & 3.9 & 26.4 & 85953 & 81.5 & 12.3 & 5.8 & 0.4 &  7.5 & 1589.78\\\\\n\t3 & 1005 & Alabama & Barbour & South & Nonmetro &  26932 & 14497 & 12435 & 4.6 & 46.2 & ⋯ & 1.5 & 1.6 & 24.1 &  8597 & 71.8 & 20.8 & 7.3 & 0.1 & 17.6 &  884.88\\\\\n\t4 & 1007 & Alabama & Bibb    & South & Metro    &  22604 & 12073 & 10531 & 2.2 & 74.5 & ⋯ & 1.5 & 0.7 & 28.8 &  8294 & 76.8 & 16.1 & 6.7 & 0.4 &  8.3 &  622.58\\\\\n\t5 & 1009 & Alabama & Blount  & South & Metro    &  57710 & 28512 & 29198 & 8.6 & 87.9 & ⋯ & 0.4 & 2.3 & 34.9 & 22189 & 82.0 & 13.5 & 4.2 & 0.4 &  7.7 &  644.78\\\\\n\t6 & 1011 & Alabama & Bullock & South & Nonmetro &  10678 &  5660 &  5018 & 4.4 & 22.2 & ⋯ & 1.7 & 2.8 & 27.5 &  3865 & 79.5 & 15.1 & 5.4 & 0.0 & 18.0 &  622.81\\\\\n\\end{tabular}\n",
            "text/plain": [
              "  census_id state   county  region metro    population men   women hispanic\n",
              "1 1001      Alabama Autauga South  Metro     55221     26745 28476 2.6     \n",
              "2 1003      Alabama Baldwin South  Metro    195121     95314 99807 4.5     \n",
              "3 1005      Alabama Barbour South  Nonmetro  26932     14497 12435 4.6     \n",
              "4 1007      Alabama Bibb    South  Metro     22604     12073 10531 2.2     \n",
              "5 1009      Alabama Blount  South  Metro     57710     28512 29198 8.6     \n",
              "6 1011      Alabama Bullock South  Nonmetro  10678      5660  5018 4.4     \n",
              "  white ⋯ other_transp work_at_home mean_commute employed private_work\n",
              "1 75.8  ⋯ 1.3          1.8          26.5         23986    73.6        \n",
              "2 83.1  ⋯ 1.4          3.9          26.4         85953    81.5        \n",
              "3 46.2  ⋯ 1.5          1.6          24.1          8597    71.8        \n",
              "4 74.5  ⋯ 1.5          0.7          28.8          8294    76.8        \n",
              "5 87.9  ⋯ 0.4          2.3          34.9         22189    82.0        \n",
              "6 22.2  ⋯ 1.7          2.8          27.5          3865    79.5        \n",
              "  public_work self_employed family_work unemployment land_area\n",
              "1 20.9        5.5           0.0          7.6          594.44  \n",
              "2 12.3        5.8           0.4          7.5         1589.78  \n",
              "3 20.8        7.3           0.1         17.6          884.88  \n",
              "4 16.1        6.7           0.4          8.3          622.58  \n",
              "5 13.5        4.2           0.4          7.7          644.78  \n",
              "6 15.1        5.4           0.0         18.0          622.81  "
            ]
          },
          "metadata": {}
        }
      ]
    },
    {
      "cell_type": "markdown",
      "source": [
        "### Understanding your data\n",
        "Take a look at the counties dataset using the glimpse() function.\n",
        "\n",
        "What is the first value in the income variable?"
      ],
      "metadata": {
        "id": "H8ore1YA8pCv"
      }
    },
    {
      "cell_type": "code",
      "source": [
        "glimpse(counties)\n"
      ],
      "metadata": {
        "colab": {
          "base_uri": "https://localhost:8080/"
        },
        "id": "EHrmrf_R8pIc",
        "outputId": "6fa3ce31-802a-499b-da61-340bfe682495"
      },
      "execution_count": 74,
      "outputs": [
        {
          "output_type": "stream",
          "name": "stdout",
          "text": [
            "Rows: 3,138\n",
            "Columns: 40\n",
            "$ census_id          \u001b[3m\u001b[90m<int>\u001b[39m\u001b[23m 1001, 1003, 1005, 1007, 1009, 1011, 1013, 1015, 101…\n",
            "$ state              \u001b[3m\u001b[90m<chr>\u001b[39m\u001b[23m \"Alabama\", \"Alabama\", \"Alabama\", \"Alabama\", \"Alabam…\n",
            "$ county             \u001b[3m\u001b[90m<chr>\u001b[39m\u001b[23m \"Autauga\", \"Baldwin\", \"Barbour\", \"Bibb\", \"Blount\", …\n",
            "$ region             \u001b[3m\u001b[90m<chr>\u001b[39m\u001b[23m \"South\", \"South\", \"South\", \"South\", \"South\", \"South…\n",
            "$ metro              \u001b[3m\u001b[90m<chr>\u001b[39m\u001b[23m \"Metro\", \"Metro\", \"Nonmetro\", \"Metro\", \"Metro\", \"No…\n",
            "$ population         \u001b[3m\u001b[90m<int>\u001b[39m\u001b[23m 55221, 195121, 26932, 22604, 57710, 10678, 20354, 1…\n",
            "$ men                \u001b[3m\u001b[90m<int>\u001b[39m\u001b[23m 26745, 95314, 14497, 12073, 28512, 5660, 9502, 5627…\n",
            "$ women              \u001b[3m\u001b[90m<int>\u001b[39m\u001b[23m 28476, 99807, 12435, 10531, 29198, 5018, 10852, 603…\n",
            "$ hispanic           \u001b[3m\u001b[90m<dbl>\u001b[39m\u001b[23m 2.6, 4.5, 4.6, 2.2, 8.6, 4.4, 1.2, 3.5, 0.4, 1.5, 7…\n",
            "$ white              \u001b[3m\u001b[90m<dbl>\u001b[39m\u001b[23m 75.8, 83.1, 46.2, 74.5, 87.9, 22.2, 53.3, 73.0, 57.…\n",
            "$ black              \u001b[3m\u001b[90m<dbl>\u001b[39m\u001b[23m 18.5, 9.5, 46.7, 21.4, 1.5, 70.7, 43.8, 20.3, 40.3,…\n",
            "$ native             \u001b[3m\u001b[90m<dbl>\u001b[39m\u001b[23m 0.4, 0.6, 0.2, 0.4, 0.3, 1.2, 0.1, 0.2, 0.2, 0.6, 0…\n",
            "$ asian              \u001b[3m\u001b[90m<dbl>\u001b[39m\u001b[23m 1.0, 0.7, 0.4, 0.1, 0.1, 0.2, 0.4, 0.9, 0.8, 0.3, 0…\n",
            "$ pacific            \u001b[3m\u001b[90m<dbl>\u001b[39m\u001b[23m 0.0, 0.0, 0.0, 0.0, 0.0, 0.0, 0.0, 0.0, 0.0, 0.0, 0…\n",
            "$ citizens           \u001b[3m\u001b[90m<int>\u001b[39m\u001b[23m 40725, 147695, 20714, 17495, 42345, 8057, 15581, 88…\n",
            "$ income             \u001b[3m\u001b[90m<int>\u001b[39m\u001b[23m 51281, 50254, 32964, 38678, 45813, 31938, 32229, 41…\n",
            "$ income_err         \u001b[3m\u001b[90m<int>\u001b[39m\u001b[23m 2391, 1263, 2973, 3995, 3141, 5884, 1793, 925, 2949…\n",
            "$ income_per_cap     \u001b[3m\u001b[90m<int>\u001b[39m\u001b[23m 24974, 27317, 16824, 18431, 20532, 17580, 18390, 21…\n",
            "$ income_per_cap_err \u001b[3m\u001b[90m<int>\u001b[39m\u001b[23m 1080, 711, 798, 1618, 708, 2055, 714, 489, 1366, 15…\n",
            "$ poverty            \u001b[3m\u001b[90m<dbl>\u001b[39m\u001b[23m 12.9, 13.4, 26.7, 16.8, 16.7, 24.6, 25.4, 20.5, 21.…\n",
            "$ child_poverty      \u001b[3m\u001b[90m<dbl>\u001b[39m\u001b[23m 18.6, 19.2, 45.3, 27.9, 27.2, 38.4, 39.2, 31.6, 37.…\n",
            "$ professional       \u001b[3m\u001b[90m<dbl>\u001b[39m\u001b[23m 33.2, 33.1, 26.8, 21.5, 28.5, 18.8, 27.5, 27.3, 23.…\n",
            "$ service            \u001b[3m\u001b[90m<dbl>\u001b[39m\u001b[23m 17.0, 17.7, 16.1, 17.9, 14.1, 15.0, 16.6, 17.7, 14.…\n",
            "$ office             \u001b[3m\u001b[90m<dbl>\u001b[39m\u001b[23m 24.2, 27.1, 23.1, 17.8, 23.9, 19.7, 21.9, 24.2, 26.…\n",
            "$ construction       \u001b[3m\u001b[90m<dbl>\u001b[39m\u001b[23m 8.6, 10.8, 10.8, 19.0, 13.5, 20.1, 10.3, 10.5, 11.5…\n",
            "$ production         \u001b[3m\u001b[90m<dbl>\u001b[39m\u001b[23m 17.1, 11.2, 23.1, 23.7, 19.9, 26.4, 23.7, 20.4, 24.…\n",
            "$ drive              \u001b[3m\u001b[90m<dbl>\u001b[39m\u001b[23m 87.5, 84.7, 83.8, 83.2, 84.9, 74.9, 84.5, 85.3, 85.…\n",
            "$ carpool            \u001b[3m\u001b[90m<dbl>\u001b[39m\u001b[23m 8.8, 8.8, 10.9, 13.5, 11.2, 14.9, 12.4, 9.4, 11.9, …\n",
            "$ transit            \u001b[3m\u001b[90m<dbl>\u001b[39m\u001b[23m 0.1, 0.1, 0.4, 0.5, 0.4, 0.7, 0.0, 0.2, 0.2, 0.2, 0…\n",
            "$ walk               \u001b[3m\u001b[90m<dbl>\u001b[39m\u001b[23m 0.5, 1.0, 1.8, 0.6, 0.9, 5.0, 0.8, 1.2, 0.3, 0.6, 1…\n",
            "$ other_transp       \u001b[3m\u001b[90m<dbl>\u001b[39m\u001b[23m 1.3, 1.4, 1.5, 1.5, 0.4, 1.7, 0.6, 1.2, 0.4, 0.7, 1…\n",
            "$ work_at_home       \u001b[3m\u001b[90m<dbl>\u001b[39m\u001b[23m 1.8, 3.9, 1.6, 0.7, 2.3, 2.8, 1.7, 2.7, 2.1, 2.5, 1…\n",
            "$ mean_commute       \u001b[3m\u001b[90m<dbl>\u001b[39m\u001b[23m 26.5, 26.4, 24.1, 28.8, 34.9, 27.5, 24.6, 24.1, 25.…\n",
            "$ employed           \u001b[3m\u001b[90m<int>\u001b[39m\u001b[23m 23986, 85953, 8597, 8294, 22189, 3865, 7813, 47401,…\n",
            "$ private_work       \u001b[3m\u001b[90m<dbl>\u001b[39m\u001b[23m 73.6, 81.5, 71.8, 76.8, 82.0, 79.5, 77.4, 74.1, 85.…\n",
            "$ public_work        \u001b[3m\u001b[90m<dbl>\u001b[39m\u001b[23m 20.9, 12.3, 20.8, 16.1, 13.5, 15.1, 16.2, 20.8, 12.…\n",
            "$ self_employed      \u001b[3m\u001b[90m<dbl>\u001b[39m\u001b[23m 5.5, 5.8, 7.3, 6.7, 4.2, 5.4, 6.2, 5.0, 2.8, 7.9, 4…\n",
            "$ family_work        \u001b[3m\u001b[90m<dbl>\u001b[39m\u001b[23m 0.0, 0.4, 0.1, 0.4, 0.4, 0.0, 0.2, 0.1, 0.0, 0.5, 0…\n",
            "$ unemployment       \u001b[3m\u001b[90m<dbl>\u001b[39m\u001b[23m 7.6, 7.5, 17.6, 8.3, 7.7, 18.0, 10.9, 12.3, 8.9, 7.…\n",
            "$ land_area          \u001b[3m\u001b[90m<dbl>\u001b[39m\u001b[23m 594.44, 1589.78, 884.88, 622.58, 644.78, 622.81, 77…\n"
          ]
        }
      ]
    },
    {
      "cell_type": "markdown",
      "source": [
        "### Selecting columns\n",
        "Select the following four columns from the counties variable:\n",
        "\n",
        "*   state\n",
        "*   county\n",
        "*   population\n",
        "*   poverty\n",
        "\n",
        "You don't need to save the result to a variable."
      ],
      "metadata": {
        "id": "lCvzUYf_83PO"
      }
    },
    {
      "cell_type": "code",
      "source": [
        "head(counties %>%\n",
        "  select(state, county, population, poverty))\n"
      ],
      "metadata": {
        "colab": {
          "base_uri": "https://localhost:8080/",
          "height": 286
        },
        "id": "OWfbuqIw83U9",
        "outputId": "8a4fcc0f-dbaa-44fa-8cf5-f48a7376b0ee"
      },
      "execution_count": 75,
      "outputs": [
        {
          "output_type": "display_data",
          "data": {
            "text/html": [
              "<table class=\"dataframe\">\n",
              "<caption>A data.frame: 6 × 4</caption>\n",
              "<thead>\n",
              "\t<tr><th></th><th scope=col>state</th><th scope=col>county</th><th scope=col>population</th><th scope=col>poverty</th></tr>\n",
              "\t<tr><th></th><th scope=col>&lt;chr&gt;</th><th scope=col>&lt;chr&gt;</th><th scope=col>&lt;int&gt;</th><th scope=col>&lt;dbl&gt;</th></tr>\n",
              "</thead>\n",
              "<tbody>\n",
              "\t<tr><th scope=row>1</th><td>Alabama</td><td>Autauga</td><td> 55221</td><td>12.9</td></tr>\n",
              "\t<tr><th scope=row>2</th><td>Alabama</td><td>Baldwin</td><td>195121</td><td>13.4</td></tr>\n",
              "\t<tr><th scope=row>3</th><td>Alabama</td><td>Barbour</td><td> 26932</td><td>26.7</td></tr>\n",
              "\t<tr><th scope=row>4</th><td>Alabama</td><td>Bibb   </td><td> 22604</td><td>16.8</td></tr>\n",
              "\t<tr><th scope=row>5</th><td>Alabama</td><td>Blount </td><td> 57710</td><td>16.7</td></tr>\n",
              "\t<tr><th scope=row>6</th><td>Alabama</td><td>Bullock</td><td> 10678</td><td>24.6</td></tr>\n",
              "</tbody>\n",
              "</table>\n"
            ],
            "text/markdown": "\nA data.frame: 6 × 4\n\n| <!--/--> | state &lt;chr&gt; | county &lt;chr&gt; | population &lt;int&gt; | poverty &lt;dbl&gt; |\n|---|---|---|---|---|\n| 1 | Alabama | Autauga |  55221 | 12.9 |\n| 2 | Alabama | Baldwin | 195121 | 13.4 |\n| 3 | Alabama | Barbour |  26932 | 26.7 |\n| 4 | Alabama | Bibb    |  22604 | 16.8 |\n| 5 | Alabama | Blount  |  57710 | 16.7 |\n| 6 | Alabama | Bullock |  10678 | 24.6 |\n\n",
            "text/latex": "A data.frame: 6 × 4\n\\begin{tabular}{r|llll}\n  & state & county & population & poverty\\\\\n  & <chr> & <chr> & <int> & <dbl>\\\\\n\\hline\n\t1 & Alabama & Autauga &  55221 & 12.9\\\\\n\t2 & Alabama & Baldwin & 195121 & 13.4\\\\\n\t3 & Alabama & Barbour &  26932 & 26.7\\\\\n\t4 & Alabama & Bibb    &  22604 & 16.8\\\\\n\t5 & Alabama & Blount  &  57710 & 16.7\\\\\n\t6 & Alabama & Bullock &  10678 & 24.6\\\\\n\\end{tabular}\n",
            "text/plain": [
              "  state   county  population poverty\n",
              "1 Alabama Autauga  55221     12.9   \n",
              "2 Alabama Baldwin 195121     13.4   \n",
              "3 Alabama Barbour  26932     26.7   \n",
              "4 Alabama Bibb     22604     16.8   \n",
              "5 Alabama Blount   57710     16.7   \n",
              "6 Alabama Bullock  10678     24.6   "
            ]
          },
          "metadata": {}
        }
      ]
    },
    {
      "cell_type": "markdown",
      "source": [
        "### Arranging observations\n",
        "Here you see the `counties_selected` dataset with a few interesting variables selected. These variables: `private_work`, `public_work`, `self_employed` describe whether people work for the government, for private companies, or for themselves.\n",
        "\n",
        "In these exercises, you'll sort these observations to find the most interesting cases."
      ],
      "metadata": {
        "id": "2SVrv8HT9C8u"
      }
    },
    {
      "cell_type": "code",
      "source": [
        "counties_selected <- counties %>%\n",
        "  select(state, county, population, private_work, public_work, self_employed)\n",
        "\n",
        "head(counties_selected %>%\n",
        "  # Add a verb to sort in descending order of public_work\n",
        "  arrange(desc(public_work)))\n"
      ],
      "metadata": {
        "colab": {
          "base_uri": "https://localhost:8080/",
          "height": 286
        },
        "id": "kgWziEmR9OFr",
        "outputId": "2fbea3ef-5974-4569-d017-235ee3630833"
      },
      "execution_count": 76,
      "outputs": [
        {
          "output_type": "display_data",
          "data": {
            "text/html": [
              "<table class=\"dataframe\">\n",
              "<caption>A data.frame: 6 × 6</caption>\n",
              "<thead>\n",
              "\t<tr><th></th><th scope=col>state</th><th scope=col>county</th><th scope=col>population</th><th scope=col>private_work</th><th scope=col>public_work</th><th scope=col>self_employed</th></tr>\n",
              "\t<tr><th></th><th scope=col>&lt;chr&gt;</th><th scope=col>&lt;chr&gt;</th><th scope=col>&lt;int&gt;</th><th scope=col>&lt;dbl&gt;</th><th scope=col>&lt;dbl&gt;</th><th scope=col>&lt;dbl&gt;</th></tr>\n",
              "</thead>\n",
              "<tbody>\n",
              "\t<tr><th scope=row>1</th><td>Hawaii      </td><td>Kalawao                   </td><td>  85</td><td>25.0</td><td>64.1</td><td>10.9</td></tr>\n",
              "\t<tr><th scope=row>2</th><td>Alaska      </td><td>Yukon-Koyukuk Census Area </td><td>5644</td><td>33.3</td><td>61.7</td><td> 5.1</td></tr>\n",
              "\t<tr><th scope=row>3</th><td>Wisconsin   </td><td>Menominee                 </td><td>4451</td><td>36.8</td><td>59.1</td><td> 3.7</td></tr>\n",
              "\t<tr><th scope=row>4</th><td>North Dakota</td><td>Sioux                     </td><td>4380</td><td>32.9</td><td>56.8</td><td>10.2</td></tr>\n",
              "\t<tr><th scope=row>5</th><td>South Dakota</td><td>Todd                      </td><td>9942</td><td>34.4</td><td>55.0</td><td> 9.8</td></tr>\n",
              "\t<tr><th scope=row>6</th><td>Alaska      </td><td>Lake and Peninsula Borough</td><td>1474</td><td>42.2</td><td>51.6</td><td> 6.1</td></tr>\n",
              "</tbody>\n",
              "</table>\n"
            ],
            "text/markdown": "\nA data.frame: 6 × 6\n\n| <!--/--> | state &lt;chr&gt; | county &lt;chr&gt; | population &lt;int&gt; | private_work &lt;dbl&gt; | public_work &lt;dbl&gt; | self_employed &lt;dbl&gt; |\n|---|---|---|---|---|---|---|\n| 1 | Hawaii       | Kalawao                    |   85 | 25.0 | 64.1 | 10.9 |\n| 2 | Alaska       | Yukon-Koyukuk Census Area  | 5644 | 33.3 | 61.7 |  5.1 |\n| 3 | Wisconsin    | Menominee                  | 4451 | 36.8 | 59.1 |  3.7 |\n| 4 | North Dakota | Sioux                      | 4380 | 32.9 | 56.8 | 10.2 |\n| 5 | South Dakota | Todd                       | 9942 | 34.4 | 55.0 |  9.8 |\n| 6 | Alaska       | Lake and Peninsula Borough | 1474 | 42.2 | 51.6 |  6.1 |\n\n",
            "text/latex": "A data.frame: 6 × 6\n\\begin{tabular}{r|llllll}\n  & state & county & population & private\\_work & public\\_work & self\\_employed\\\\\n  & <chr> & <chr> & <int> & <dbl> & <dbl> & <dbl>\\\\\n\\hline\n\t1 & Hawaii       & Kalawao                    &   85 & 25.0 & 64.1 & 10.9\\\\\n\t2 & Alaska       & Yukon-Koyukuk Census Area  & 5644 & 33.3 & 61.7 &  5.1\\\\\n\t3 & Wisconsin    & Menominee                  & 4451 & 36.8 & 59.1 &  3.7\\\\\n\t4 & North Dakota & Sioux                      & 4380 & 32.9 & 56.8 & 10.2\\\\\n\t5 & South Dakota & Todd                       & 9942 & 34.4 & 55.0 &  9.8\\\\\n\t6 & Alaska       & Lake and Peninsula Borough & 1474 & 42.2 & 51.6 &  6.1\\\\\n\\end{tabular}\n",
            "text/plain": [
              "  state        county                     population private_work public_work\n",
              "1 Hawaii       Kalawao                      85       25.0         64.1       \n",
              "2 Alaska       Yukon-Koyukuk Census Area  5644       33.3         61.7       \n",
              "3 Wisconsin    Menominee                  4451       36.8         59.1       \n",
              "4 North Dakota Sioux                      4380       32.9         56.8       \n",
              "5 South Dakota Todd                       9942       34.4         55.0       \n",
              "6 Alaska       Lake and Peninsula Borough 1474       42.2         51.6       \n",
              "  self_employed\n",
              "1 10.9         \n",
              "2  5.1         \n",
              "3  3.7         \n",
              "4 10.2         \n",
              "5  9.8         \n",
              "6  6.1         "
            ]
          },
          "metadata": {}
        }
      ]
    },
    {
      "cell_type": "markdown",
      "source": [
        "### Filtering for conditions\n",
        "You use the filter() verb to get only observations that match a particular condition, or match multiple conditions."
      ],
      "metadata": {
        "id": "9yo5wKPPegW1"
      }
    },
    {
      "cell_type": "code",
      "source": [
        "counties_selected <- counties %>%\n",
        "  select(state, county, population)\n",
        "\n",
        "head(counties_selected %>%\n",
        "  # Filter for counties with a population above 1000000\n",
        "  filter(population > 1000000))\n"
      ],
      "metadata": {
        "colab": {
          "base_uri": "https://localhost:8080/",
          "height": 286
        },
        "id": "Eh5TyzoQegK3",
        "outputId": "3e88b5fa-7748-4b3d-d249-b1a04378889e"
      },
      "execution_count": 77,
      "outputs": [
        {
          "output_type": "display_data",
          "data": {
            "text/html": [
              "<table class=\"dataframe\">\n",
              "<caption>A data.frame: 6 × 3</caption>\n",
              "<thead>\n",
              "\t<tr><th></th><th scope=col>state</th><th scope=col>county</th><th scope=col>population</th></tr>\n",
              "\t<tr><th></th><th scope=col>&lt;chr&gt;</th><th scope=col>&lt;chr&gt;</th><th scope=col>&lt;int&gt;</th></tr>\n",
              "</thead>\n",
              "<tbody>\n",
              "\t<tr><th scope=row>1</th><td>Arizona   </td><td>Maricopa    </td><td> 4018143</td></tr>\n",
              "\t<tr><th scope=row>2</th><td>California</td><td>Alameda     </td><td> 1584983</td></tr>\n",
              "\t<tr><th scope=row>3</th><td>California</td><td>Contra Costa</td><td> 1096068</td></tr>\n",
              "\t<tr><th scope=row>4</th><td>California</td><td>Los Angeles </td><td>10038388</td></tr>\n",
              "\t<tr><th scope=row>5</th><td>California</td><td>Orange      </td><td> 3116069</td></tr>\n",
              "\t<tr><th scope=row>6</th><td>California</td><td>Riverside   </td><td> 2298032</td></tr>\n",
              "</tbody>\n",
              "</table>\n"
            ],
            "text/markdown": "\nA data.frame: 6 × 3\n\n| <!--/--> | state &lt;chr&gt; | county &lt;chr&gt; | population &lt;int&gt; |\n|---|---|---|---|\n| 1 | Arizona    | Maricopa     |  4018143 |\n| 2 | California | Alameda      |  1584983 |\n| 3 | California | Contra Costa |  1096068 |\n| 4 | California | Los Angeles  | 10038388 |\n| 5 | California | Orange       |  3116069 |\n| 6 | California | Riverside    |  2298032 |\n\n",
            "text/latex": "A data.frame: 6 × 3\n\\begin{tabular}{r|lll}\n  & state & county & population\\\\\n  & <chr> & <chr> & <int>\\\\\n\\hline\n\t1 & Arizona    & Maricopa     &  4018143\\\\\n\t2 & California & Alameda      &  1584983\\\\\n\t3 & California & Contra Costa &  1096068\\\\\n\t4 & California & Los Angeles  & 10038388\\\\\n\t5 & California & Orange       &  3116069\\\\\n\t6 & California & Riverside    &  2298032\\\\\n\\end{tabular}\n",
            "text/plain": [
              "  state      county       population\n",
              "1 Arizona    Maricopa      4018143  \n",
              "2 California Alameda       1584983  \n",
              "3 California Contra Costa  1096068  \n",
              "4 California Los Angeles  10038388  \n",
              "5 California Orange        3116069  \n",
              "6 California Riverside     2298032  "
            ]
          },
          "metadata": {}
        }
      ]
    },
    {
      "cell_type": "code",
      "source": [
        "head(counties_selected %>%\n",
        "  # Filter for counties with a population above 1000000\n",
        "  filter(population > 1000000, state == \"California\"))\n"
      ],
      "metadata": {
        "colab": {
          "base_uri": "https://localhost:8080/",
          "height": 286
        },
        "id": "hcXMbVo7NWd8",
        "outputId": "15948e96-1361-4741-9e15-fae2e119c5a3"
      },
      "execution_count": 78,
      "outputs": [
        {
          "output_type": "display_data",
          "data": {
            "text/html": [
              "<table class=\"dataframe\">\n",
              "<caption>A data.frame: 6 × 3</caption>\n",
              "<thead>\n",
              "\t<tr><th></th><th scope=col>state</th><th scope=col>county</th><th scope=col>population</th></tr>\n",
              "\t<tr><th></th><th scope=col>&lt;chr&gt;</th><th scope=col>&lt;chr&gt;</th><th scope=col>&lt;int&gt;</th></tr>\n",
              "</thead>\n",
              "<tbody>\n",
              "\t<tr><th scope=row>1</th><td>California</td><td>Alameda     </td><td> 1584983</td></tr>\n",
              "\t<tr><th scope=row>2</th><td>California</td><td>Contra Costa</td><td> 1096068</td></tr>\n",
              "\t<tr><th scope=row>3</th><td>California</td><td>Los Angeles </td><td>10038388</td></tr>\n",
              "\t<tr><th scope=row>4</th><td>California</td><td>Orange      </td><td> 3116069</td></tr>\n",
              "\t<tr><th scope=row>5</th><td>California</td><td>Riverside   </td><td> 2298032</td></tr>\n",
              "\t<tr><th scope=row>6</th><td>California</td><td>Sacramento  </td><td> 1465832</td></tr>\n",
              "</tbody>\n",
              "</table>\n"
            ],
            "text/markdown": "\nA data.frame: 6 × 3\n\n| <!--/--> | state &lt;chr&gt; | county &lt;chr&gt; | population &lt;int&gt; |\n|---|---|---|---|\n| 1 | California | Alameda      |  1584983 |\n| 2 | California | Contra Costa |  1096068 |\n| 3 | California | Los Angeles  | 10038388 |\n| 4 | California | Orange       |  3116069 |\n| 5 | California | Riverside    |  2298032 |\n| 6 | California | Sacramento   |  1465832 |\n\n",
            "text/latex": "A data.frame: 6 × 3\n\\begin{tabular}{r|lll}\n  & state & county & population\\\\\n  & <chr> & <chr> & <int>\\\\\n\\hline\n\t1 & California & Alameda      &  1584983\\\\\n\t2 & California & Contra Costa &  1096068\\\\\n\t3 & California & Los Angeles  & 10038388\\\\\n\t4 & California & Orange       &  3116069\\\\\n\t5 & California & Riverside    &  2298032\\\\\n\t6 & California & Sacramento   &  1465832\\\\\n\\end{tabular}\n",
            "text/plain": [
              "  state      county       population\n",
              "1 California Alameda       1584983  \n",
              "2 California Contra Costa  1096068  \n",
              "3 California Los Angeles  10038388  \n",
              "4 California Orange        3116069  \n",
              "5 California Riverside     2298032  \n",
              "6 California Sacramento    1465832  "
            ]
          },
          "metadata": {}
        }
      ]
    },
    {
      "cell_type": "markdown",
      "source": [
        "### Filtering and arranging\n",
        "We're often interested in both filtering and sorting a dataset, to focus on observations of particular interest to you. Here, you'll find counties that are extreme examples of what fraction of the population works in the private sector."
      ],
      "metadata": {
        "id": "uh8zh07vNWW7"
      }
    },
    {
      "cell_type": "code",
      "source": [
        "counties_selected <- counties %>%\n",
        "  select(state, county, population, private_work, public_work, self_employed)\n",
        "\n",
        "# Filter for Texas and more than 10000 people; sort in descending order of private_work\n",
        "head(counties_selected %>%\n",
        "  # Filter for Texas and more than 10000 people\n",
        "  filter(state == \"Texas\", population > 10000) %>%\n",
        "  # Sort in descending order of private_work\n",
        "  arrange(desc(private_work)))\n"
      ],
      "metadata": {
        "colab": {
          "base_uri": "https://localhost:8080/",
          "height": 286
        },
        "id": "xCGf8tzFO5tg",
        "outputId": "3c6dd37b-1923-4efe-c13b-7589efa3580f"
      },
      "execution_count": 79,
      "outputs": [
        {
          "output_type": "display_data",
          "data": {
            "text/html": [
              "<table class=\"dataframe\">\n",
              "<caption>A data.frame: 6 × 6</caption>\n",
              "<thead>\n",
              "\t<tr><th></th><th scope=col>state</th><th scope=col>county</th><th scope=col>population</th><th scope=col>private_work</th><th scope=col>public_work</th><th scope=col>self_employed</th></tr>\n",
              "\t<tr><th></th><th scope=col>&lt;chr&gt;</th><th scope=col>&lt;chr&gt;</th><th scope=col>&lt;int&gt;</th><th scope=col>&lt;dbl&gt;</th><th scope=col>&lt;dbl&gt;</th><th scope=col>&lt;dbl&gt;</th></tr>\n",
              "</thead>\n",
              "<tbody>\n",
              "\t<tr><th scope=row>1</th><td>Texas</td><td>Gregg  </td><td> 123178</td><td>84.7</td><td> 9.8</td><td>5.4</td></tr>\n",
              "\t<tr><th scope=row>2</th><td>Texas</td><td>Collin </td><td> 862215</td><td>84.1</td><td>10.0</td><td>5.8</td></tr>\n",
              "\t<tr><th scope=row>3</th><td>Texas</td><td>Dallas </td><td>2485003</td><td>83.9</td><td> 9.5</td><td>6.4</td></tr>\n",
              "\t<tr><th scope=row>4</th><td>Texas</td><td>Harris </td><td>4356362</td><td>83.4</td><td>10.1</td><td>6.3</td></tr>\n",
              "\t<tr><th scope=row>5</th><td>Texas</td><td>Andrews</td><td>  16775</td><td>83.1</td><td> 9.6</td><td>6.8</td></tr>\n",
              "\t<tr><th scope=row>6</th><td>Texas</td><td>Tarrant</td><td>1914526</td><td>83.1</td><td>11.4</td><td>5.4</td></tr>\n",
              "</tbody>\n",
              "</table>\n"
            ],
            "text/markdown": "\nA data.frame: 6 × 6\n\n| <!--/--> | state &lt;chr&gt; | county &lt;chr&gt; | population &lt;int&gt; | private_work &lt;dbl&gt; | public_work &lt;dbl&gt; | self_employed &lt;dbl&gt; |\n|---|---|---|---|---|---|---|\n| 1 | Texas | Gregg   |  123178 | 84.7 |  9.8 | 5.4 |\n| 2 | Texas | Collin  |  862215 | 84.1 | 10.0 | 5.8 |\n| 3 | Texas | Dallas  | 2485003 | 83.9 |  9.5 | 6.4 |\n| 4 | Texas | Harris  | 4356362 | 83.4 | 10.1 | 6.3 |\n| 5 | Texas | Andrews |   16775 | 83.1 |  9.6 | 6.8 |\n| 6 | Texas | Tarrant | 1914526 | 83.1 | 11.4 | 5.4 |\n\n",
            "text/latex": "A data.frame: 6 × 6\n\\begin{tabular}{r|llllll}\n  & state & county & population & private\\_work & public\\_work & self\\_employed\\\\\n  & <chr> & <chr> & <int> & <dbl> & <dbl> & <dbl>\\\\\n\\hline\n\t1 & Texas & Gregg   &  123178 & 84.7 &  9.8 & 5.4\\\\\n\t2 & Texas & Collin  &  862215 & 84.1 & 10.0 & 5.8\\\\\n\t3 & Texas & Dallas  & 2485003 & 83.9 &  9.5 & 6.4\\\\\n\t4 & Texas & Harris  & 4356362 & 83.4 & 10.1 & 6.3\\\\\n\t5 & Texas & Andrews &   16775 & 83.1 &  9.6 & 6.8\\\\\n\t6 & Texas & Tarrant & 1914526 & 83.1 & 11.4 & 5.4\\\\\n\\end{tabular}\n",
            "text/plain": [
              "  state county  population private_work public_work self_employed\n",
              "1 Texas Gregg    123178    84.7          9.8        5.4          \n",
              "2 Texas Collin   862215    84.1         10.0        5.8          \n",
              "3 Texas Dallas  2485003    83.9          9.5        6.4          \n",
              "4 Texas Harris  4356362    83.4         10.1        6.3          \n",
              "5 Texas Andrews   16775    83.1          9.6        6.8          \n",
              "6 Texas Tarrant 1914526    83.1         11.4        5.4          "
            ]
          },
          "metadata": {}
        }
      ]
    },
    {
      "cell_type": "markdown",
      "source": [
        "### Calculating the number of government employees\n",
        "In the video, you used the unemployment variable, which is a percentage, to calculate the number of unemployed people in each county. In this exercise, you'll do the same with another percentage variable: public_work.\n",
        "\n",
        "The code provided already selects the state, county, population, and public_work columns."
      ],
      "metadata": {
        "id": "DusovcKWQ1n9"
      }
    },
    {
      "cell_type": "code",
      "source": [
        "counties_selected <- counties %>%\n",
        "  select(state, county, population, public_work)\n",
        "\n",
        "head(counties_selected %>%\n",
        "  # Add a new column public_workers with the number of people employed in public work\n",
        "  mutate(public_workers = public_work * population / 100) %>%\n",
        "  # Sort in descending order of the public_workers column\n",
        "  arrange(desc(public_workers)))\n"
      ],
      "metadata": {
        "colab": {
          "base_uri": "https://localhost:8080/",
          "height": 286
        },
        "id": "H_5c3oDTQ1wO",
        "outputId": "84bd5efa-4a82-4a25-813c-b7701fc96c10"
      },
      "execution_count": 80,
      "outputs": [
        {
          "output_type": "display_data",
          "data": {
            "text/html": [
              "<table class=\"dataframe\">\n",
              "<caption>A data.frame: 6 × 5</caption>\n",
              "<thead>\n",
              "\t<tr><th></th><th scope=col>state</th><th scope=col>county</th><th scope=col>population</th><th scope=col>public_work</th><th scope=col>public_workers</th></tr>\n",
              "\t<tr><th></th><th scope=col>&lt;chr&gt;</th><th scope=col>&lt;chr&gt;</th><th scope=col>&lt;int&gt;</th><th scope=col>&lt;dbl&gt;</th><th scope=col>&lt;dbl&gt;</th></tr>\n",
              "</thead>\n",
              "<tbody>\n",
              "\t<tr><th scope=row>1</th><td>California</td><td>Los Angeles</td><td>10038388</td><td>11.5</td><td>1154414.6</td></tr>\n",
              "\t<tr><th scope=row>2</th><td>Illinois  </td><td>Cook       </td><td> 5236393</td><td>11.5</td><td> 602185.2</td></tr>\n",
              "\t<tr><th scope=row>3</th><td>California</td><td>San Diego  </td><td> 3223096</td><td>14.8</td><td> 477018.2</td></tr>\n",
              "\t<tr><th scope=row>4</th><td>Arizona   </td><td>Maricopa   </td><td> 4018143</td><td>11.7</td><td> 470122.7</td></tr>\n",
              "\t<tr><th scope=row>5</th><td>Texas     </td><td>Harris     </td><td> 4356362</td><td>10.1</td><td> 439992.6</td></tr>\n",
              "\t<tr><th scope=row>6</th><td>New York  </td><td>Kings      </td><td> 2595259</td><td>14.4</td><td> 373717.3</td></tr>\n",
              "</tbody>\n",
              "</table>\n"
            ],
            "text/markdown": "\nA data.frame: 6 × 5\n\n| <!--/--> | state &lt;chr&gt; | county &lt;chr&gt; | population &lt;int&gt; | public_work &lt;dbl&gt; | public_workers &lt;dbl&gt; |\n|---|---|---|---|---|---|\n| 1 | California | Los Angeles | 10038388 | 11.5 | 1154414.6 |\n| 2 | Illinois   | Cook        |  5236393 | 11.5 |  602185.2 |\n| 3 | California | San Diego   |  3223096 | 14.8 |  477018.2 |\n| 4 | Arizona    | Maricopa    |  4018143 | 11.7 |  470122.7 |\n| 5 | Texas      | Harris      |  4356362 | 10.1 |  439992.6 |\n| 6 | New York   | Kings       |  2595259 | 14.4 |  373717.3 |\n\n",
            "text/latex": "A data.frame: 6 × 5\n\\begin{tabular}{r|lllll}\n  & state & county & population & public\\_work & public\\_workers\\\\\n  & <chr> & <chr> & <int> & <dbl> & <dbl>\\\\\n\\hline\n\t1 & California & Los Angeles & 10038388 & 11.5 & 1154414.6\\\\\n\t2 & Illinois   & Cook        &  5236393 & 11.5 &  602185.2\\\\\n\t3 & California & San Diego   &  3223096 & 14.8 &  477018.2\\\\\n\t4 & Arizona    & Maricopa    &  4018143 & 11.7 &  470122.7\\\\\n\t5 & Texas      & Harris      &  4356362 & 10.1 &  439992.6\\\\\n\t6 & New York   & Kings       &  2595259 & 14.4 &  373717.3\\\\\n\\end{tabular}\n",
            "text/plain": [
              "  state      county      population public_work public_workers\n",
              "1 California Los Angeles 10038388   11.5        1154414.6     \n",
              "2 Illinois   Cook         5236393   11.5         602185.2     \n",
              "3 California San Diego    3223096   14.8         477018.2     \n",
              "4 Arizona    Maricopa     4018143   11.7         470122.7     \n",
              "5 Texas      Harris       4356362   10.1         439992.6     \n",
              "6 New York   Kings        2595259   14.4         373717.3     "
            ]
          },
          "metadata": {}
        }
      ]
    },
    {
      "cell_type": "markdown",
      "source": [
        "### Calculating the percentage of women in a county\n",
        "The dataset includes columns for the total number (not percentage) of men and women in each county. You could use this, along with the population variable, to compute the fraction of men (or women) within each county.\n",
        "\n",
        "In this exercise, you'll select the relevant columns yourself."
      ],
      "metadata": {
        "id": "yrfurS1zVqx2"
      }
    },
    {
      "cell_type": "code",
      "source": [
        "counties_selected <- counties %>%\n",
        "  # Select the columns state, county, population, men, and women\n",
        "  select(state, county, population, men, women)\n",
        "\n",
        "head(counties_selected %>%\n",
        "  # Calculate proportion_women as the fraction of the population made up of women\n",
        "  mutate(proportion_women = women /population))\n"
      ],
      "metadata": {
        "colab": {
          "base_uri": "https://localhost:8080/",
          "height": 286
        },
        "id": "CVKA8FmXVq4o",
        "outputId": "132f9e14-da9c-453d-ba91-0e6e1b5b0eb0"
      },
      "execution_count": 81,
      "outputs": [
        {
          "output_type": "display_data",
          "data": {
            "text/html": [
              "<table class=\"dataframe\">\n",
              "<caption>A data.frame: 6 × 6</caption>\n",
              "<thead>\n",
              "\t<tr><th></th><th scope=col>state</th><th scope=col>county</th><th scope=col>population</th><th scope=col>men</th><th scope=col>women</th><th scope=col>proportion_women</th></tr>\n",
              "\t<tr><th></th><th scope=col>&lt;chr&gt;</th><th scope=col>&lt;chr&gt;</th><th scope=col>&lt;int&gt;</th><th scope=col>&lt;int&gt;</th><th scope=col>&lt;int&gt;</th><th scope=col>&lt;dbl&gt;</th></tr>\n",
              "</thead>\n",
              "<tbody>\n",
              "\t<tr><th scope=row>1</th><td>Alabama</td><td>Autauga</td><td> 55221</td><td>26745</td><td>28476</td><td>0.5156734</td></tr>\n",
              "\t<tr><th scope=row>2</th><td>Alabama</td><td>Baldwin</td><td>195121</td><td>95314</td><td>99807</td><td>0.5115134</td></tr>\n",
              "\t<tr><th scope=row>3</th><td>Alabama</td><td>Barbour</td><td> 26932</td><td>14497</td><td>12435</td><td>0.4617184</td></tr>\n",
              "\t<tr><th scope=row>4</th><td>Alabama</td><td>Bibb   </td><td> 22604</td><td>12073</td><td>10531</td><td>0.4658910</td></tr>\n",
              "\t<tr><th scope=row>5</th><td>Alabama</td><td>Blount </td><td> 57710</td><td>28512</td><td>29198</td><td>0.5059435</td></tr>\n",
              "\t<tr><th scope=row>6</th><td>Alabama</td><td>Bullock</td><td> 10678</td><td> 5660</td><td> 5018</td><td>0.4699382</td></tr>\n",
              "</tbody>\n",
              "</table>\n"
            ],
            "text/markdown": "\nA data.frame: 6 × 6\n\n| <!--/--> | state &lt;chr&gt; | county &lt;chr&gt; | population &lt;int&gt; | men &lt;int&gt; | women &lt;int&gt; | proportion_women &lt;dbl&gt; |\n|---|---|---|---|---|---|---|\n| 1 | Alabama | Autauga |  55221 | 26745 | 28476 | 0.5156734 |\n| 2 | Alabama | Baldwin | 195121 | 95314 | 99807 | 0.5115134 |\n| 3 | Alabama | Barbour |  26932 | 14497 | 12435 | 0.4617184 |\n| 4 | Alabama | Bibb    |  22604 | 12073 | 10531 | 0.4658910 |\n| 5 | Alabama | Blount  |  57710 | 28512 | 29198 | 0.5059435 |\n| 6 | Alabama | Bullock |  10678 |  5660 |  5018 | 0.4699382 |\n\n",
            "text/latex": "A data.frame: 6 × 6\n\\begin{tabular}{r|llllll}\n  & state & county & population & men & women & proportion\\_women\\\\\n  & <chr> & <chr> & <int> & <int> & <int> & <dbl>\\\\\n\\hline\n\t1 & Alabama & Autauga &  55221 & 26745 & 28476 & 0.5156734\\\\\n\t2 & Alabama & Baldwin & 195121 & 95314 & 99807 & 0.5115134\\\\\n\t3 & Alabama & Barbour &  26932 & 14497 & 12435 & 0.4617184\\\\\n\t4 & Alabama & Bibb    &  22604 & 12073 & 10531 & 0.4658910\\\\\n\t5 & Alabama & Blount  &  57710 & 28512 & 29198 & 0.5059435\\\\\n\t6 & Alabama & Bullock &  10678 &  5660 &  5018 & 0.4699382\\\\\n\\end{tabular}\n",
            "text/plain": [
              "  state   county  population men   women proportion_women\n",
              "1 Alabama Autauga  55221     26745 28476 0.5156734       \n",
              "2 Alabama Baldwin 195121     95314 99807 0.5115134       \n",
              "3 Alabama Barbour  26932     14497 12435 0.4617184       \n",
              "4 Alabama Bibb     22604     12073 10531 0.4658910       \n",
              "5 Alabama Blount   57710     28512 29198 0.5059435       \n",
              "6 Alabama Bullock  10678      5660  5018 0.4699382       "
            ]
          },
          "metadata": {}
        }
      ]
    },
    {
      "cell_type": "markdown",
      "source": [
        "### Select, mutate, filter, and arrange\n",
        "In this exercise, you'll put together everything you've learned in this chapter (select(), mutate(), filter() and arrange()), to find the counties with the highest proportion of men."
      ],
      "metadata": {
        "id": "n0paqq8ZWzMj"
      }
    },
    {
      "cell_type": "code",
      "source": [
        "head(counties %>%\n",
        "  # Select the five columns\n",
        "  select(state, county, population, men, women) %>%\n",
        "  # Add the proportion_men variable\n",
        "  mutate(proportion_men = men /population) %>%\n",
        "  # Filter for population of at least 10,000\n",
        "  filter(population > 10000) %>%\n",
        "  # Arrange proportion of men in descending order\n",
        "  arrange(desc(proportion_men)))\n"
      ],
      "metadata": {
        "colab": {
          "base_uri": "https://localhost:8080/",
          "height": 286
        },
        "id": "3GeNJ5tLWzTS",
        "outputId": "2dc6256c-b089-4f44-da20-f0fe3d63d7bd"
      },
      "execution_count": 82,
      "outputs": [
        {
          "output_type": "display_data",
          "data": {
            "text/html": [
              "<table class=\"dataframe\">\n",
              "<caption>A data.frame: 6 × 6</caption>\n",
              "<thead>\n",
              "\t<tr><th></th><th scope=col>state</th><th scope=col>county</th><th scope=col>population</th><th scope=col>men</th><th scope=col>women</th><th scope=col>proportion_men</th></tr>\n",
              "\t<tr><th></th><th scope=col>&lt;chr&gt;</th><th scope=col>&lt;chr&gt;</th><th scope=col>&lt;int&gt;</th><th scope=col>&lt;int&gt;</th><th scope=col>&lt;int&gt;</th><th scope=col>&lt;dbl&gt;</th></tr>\n",
              "</thead>\n",
              "<tbody>\n",
              "\t<tr><th scope=row>1</th><td>Virginia  </td><td>Sussex        </td><td>11864</td><td> 8130</td><td> 3734</td><td>0.6852664</td></tr>\n",
              "\t<tr><th scope=row>2</th><td>California</td><td>Lassen        </td><td>32645</td><td>21818</td><td>10827</td><td>0.6683412</td></tr>\n",
              "\t<tr><th scope=row>3</th><td>Georgia   </td><td>Chattahoochee </td><td>11914</td><td> 7940</td><td> 3974</td><td>0.6664428</td></tr>\n",
              "\t<tr><th scope=row>4</th><td>Louisiana </td><td>West Feliciana</td><td>15415</td><td>10228</td><td> 5187</td><td>0.6635096</td></tr>\n",
              "\t<tr><th scope=row>5</th><td>Florida   </td><td>Union         </td><td>15191</td><td> 9830</td><td> 5361</td><td>0.6470937</td></tr>\n",
              "\t<tr><th scope=row>6</th><td>Texas     </td><td>Jones         </td><td>19978</td><td>12652</td><td> 7326</td><td>0.6332966</td></tr>\n",
              "</tbody>\n",
              "</table>\n"
            ],
            "text/markdown": "\nA data.frame: 6 × 6\n\n| <!--/--> | state &lt;chr&gt; | county &lt;chr&gt; | population &lt;int&gt; | men &lt;int&gt; | women &lt;int&gt; | proportion_men &lt;dbl&gt; |\n|---|---|---|---|---|---|---|\n| 1 | Virginia   | Sussex         | 11864 |  8130 |  3734 | 0.6852664 |\n| 2 | California | Lassen         | 32645 | 21818 | 10827 | 0.6683412 |\n| 3 | Georgia    | Chattahoochee  | 11914 |  7940 |  3974 | 0.6664428 |\n| 4 | Louisiana  | West Feliciana | 15415 | 10228 |  5187 | 0.6635096 |\n| 5 | Florida    | Union          | 15191 |  9830 |  5361 | 0.6470937 |\n| 6 | Texas      | Jones          | 19978 | 12652 |  7326 | 0.6332966 |\n\n",
            "text/latex": "A data.frame: 6 × 6\n\\begin{tabular}{r|llllll}\n  & state & county & population & men & women & proportion\\_men\\\\\n  & <chr> & <chr> & <int> & <int> & <int> & <dbl>\\\\\n\\hline\n\t1 & Virginia   & Sussex         & 11864 &  8130 &  3734 & 0.6852664\\\\\n\t2 & California & Lassen         & 32645 & 21818 & 10827 & 0.6683412\\\\\n\t3 & Georgia    & Chattahoochee  & 11914 &  7940 &  3974 & 0.6664428\\\\\n\t4 & Louisiana  & West Feliciana & 15415 & 10228 &  5187 & 0.6635096\\\\\n\t5 & Florida    & Union          & 15191 &  9830 &  5361 & 0.6470937\\\\\n\t6 & Texas      & Jones          & 19978 & 12652 &  7326 & 0.6332966\\\\\n\\end{tabular}\n",
            "text/plain": [
              "  state      county         population men   women proportion_men\n",
              "1 Virginia   Sussex         11864       8130  3734 0.6852664     \n",
              "2 California Lassen         32645      21818 10827 0.6683412     \n",
              "3 Georgia    Chattahoochee  11914       7940  3974 0.6664428     \n",
              "4 Louisiana  West Feliciana 15415      10228  5187 0.6635096     \n",
              "5 Florida    Union          15191       9830  5361 0.6470937     \n",
              "6 Texas      Jones          19978      12652  7326 0.6332966     "
            ]
          },
          "metadata": {}
        }
      ]
    },
    {
      "cell_type": "markdown",
      "source": [
        "## **Aggregating Data**\n",
        "Now that you know how to transform your data, you'll want to know more about how to aggregate your data to make it more interpretable. You'll learn a number of functions you can use to take many observations in your data and summarize them, including count, group_by, summarize, ungroup, and top_n."
      ],
      "metadata": {
        "id": "WDxBNzY2I2tc"
      }
    },
    {
      "cell_type": "markdown",
      "source": [
        "### Counting by region\n",
        "The counties dataset contains columns for region, state, population, and the number of citizens, which we selected and saved as the counties_selected table. In this exercise, you'll focus on the region column."
      ],
      "metadata": {
        "id": "dfQ1KDdWQTei"
      }
    },
    {
      "cell_type": "code",
      "source": [
        "counties_selected <- counties %>%\n",
        "  select(county, region, state, population, citizens)\n",
        "\n",
        "# Use count to find the number of counties in each region\n",
        "counties_selected %>%\n",
        "  count(region, sort = TRUE)\n"
      ],
      "metadata": {
        "colab": {
          "base_uri": "https://localhost:8080/",
          "height": 224
        },
        "id": "DGQfsFwVQToA",
        "outputId": "b01338b9-81d3-483c-8343-0c68dbc52dbd"
      },
      "execution_count": 83,
      "outputs": [
        {
          "output_type": "display_data",
          "data": {
            "text/html": [
              "<table class=\"dataframe\">\n",
              "<caption>A data.frame: 4 × 2</caption>\n",
              "<thead>\n",
              "\t<tr><th scope=col>region</th><th scope=col>n</th></tr>\n",
              "\t<tr><th scope=col>&lt;chr&gt;</th><th scope=col>&lt;int&gt;</th></tr>\n",
              "</thead>\n",
              "<tbody>\n",
              "\t<tr><td>South        </td><td>1420</td></tr>\n",
              "\t<tr><td>North Central</td><td>1054</td></tr>\n",
              "\t<tr><td>West         </td><td> 447</td></tr>\n",
              "\t<tr><td>Northeast    </td><td> 217</td></tr>\n",
              "</tbody>\n",
              "</table>\n"
            ],
            "text/markdown": "\nA data.frame: 4 × 2\n\n| region &lt;chr&gt; | n &lt;int&gt; |\n|---|---|\n| South         | 1420 |\n| North Central | 1054 |\n| West          |  447 |\n| Northeast     |  217 |\n\n",
            "text/latex": "A data.frame: 4 × 2\n\\begin{tabular}{ll}\n region & n\\\\\n <chr> & <int>\\\\\n\\hline\n\t South         & 1420\\\\\n\t North Central & 1054\\\\\n\t West          &  447\\\\\n\t Northeast     &  217\\\\\n\\end{tabular}\n",
            "text/plain": [
              "  region        n   \n",
              "1 South         1420\n",
              "2 North Central 1054\n",
              "3 West           447\n",
              "4 Northeast      217"
            ]
          },
          "metadata": {}
        }
      ]
    },
    {
      "cell_type": "markdown",
      "source": [
        "### Counting citizens by state\n",
        "You can weigh your count by particular variables rather than finding the number of counties. In this case, you'll find the number of citizens in each state."
      ],
      "metadata": {
        "id": "U4qhmg5yPEfK"
      }
    },
    {
      "cell_type": "code",
      "source": [
        "counties_selected <- counties %>%\n",
        "  select(county, region, state, population, citizens)\n",
        "\n",
        "# Find number of counties per state, weighted by citizens, sorted in descending order\n",
        "head(counties_selected %>%\n",
        "  count(state, wt = citizens, sort = TRUE))\n"
      ],
      "metadata": {
        "colab": {
          "base_uri": "https://localhost:8080/",
          "height": 286
        },
        "id": "cECQgoBHPEmM",
        "outputId": "20c02cb7-023d-41f0-9f13-75e0bb970fe7"
      },
      "execution_count": 84,
      "outputs": [
        {
          "output_type": "display_data",
          "data": {
            "text/html": [
              "<table class=\"dataframe\">\n",
              "<caption>A data.frame: 6 × 2</caption>\n",
              "<thead>\n",
              "\t<tr><th></th><th scope=col>state</th><th scope=col>n</th></tr>\n",
              "\t<tr><th></th><th scope=col>&lt;chr&gt;</th><th scope=col>&lt;int&gt;</th></tr>\n",
              "</thead>\n",
              "<tbody>\n",
              "\t<tr><th scope=row>1</th><td>California  </td><td>24280349</td></tr>\n",
              "\t<tr><th scope=row>2</th><td>Texas       </td><td>16864864</td></tr>\n",
              "\t<tr><th scope=row>3</th><td>Florida     </td><td>13933052</td></tr>\n",
              "\t<tr><th scope=row>4</th><td>New York    </td><td>13531404</td></tr>\n",
              "\t<tr><th scope=row>5</th><td>Pennsylvania</td><td> 9710416</td></tr>\n",
              "\t<tr><th scope=row>6</th><td>Illinois    </td><td> 8979999</td></tr>\n",
              "</tbody>\n",
              "</table>\n"
            ],
            "text/markdown": "\nA data.frame: 6 × 2\n\n| <!--/--> | state &lt;chr&gt; | n &lt;int&gt; |\n|---|---|---|\n| 1 | California   | 24280349 |\n| 2 | Texas        | 16864864 |\n| 3 | Florida      | 13933052 |\n| 4 | New York     | 13531404 |\n| 5 | Pennsylvania |  9710416 |\n| 6 | Illinois     |  8979999 |\n\n",
            "text/latex": "A data.frame: 6 × 2\n\\begin{tabular}{r|ll}\n  & state & n\\\\\n  & <chr> & <int>\\\\\n\\hline\n\t1 & California   & 24280349\\\\\n\t2 & Texas        & 16864864\\\\\n\t3 & Florida      & 13933052\\\\\n\t4 & New York     & 13531404\\\\\n\t5 & Pennsylvania &  9710416\\\\\n\t6 & Illinois     &  8979999\\\\\n\\end{tabular}\n",
            "text/plain": [
              "  state        n       \n",
              "1 California   24280349\n",
              "2 Texas        16864864\n",
              "3 Florida      13933052\n",
              "4 New York     13531404\n",
              "5 Pennsylvania  9710416\n",
              "6 Illinois      8979999"
            ]
          },
          "metadata": {}
        }
      ]
    },
    {
      "cell_type": "markdown",
      "source": [
        "### Mutating and counting\n",
        "You can combine multiple verbs together to answer increasingly complicated questions of your data. For example: \"What are the US states where the most people walk to work?\"\n",
        "\n",
        "You'll use the walk column, which offers a percentage of people in each county that walk to work, to add a new column and count based on it."
      ],
      "metadata": {
        "id": "M67mcTc_PkN2"
      }
    },
    {
      "cell_type": "code",
      "source": [
        "counties_selected <- counties %>%\n",
        "  select(county, region, state, population, walk)\n",
        "\n",
        "glimpse(counties_selected)\n"
      ],
      "metadata": {
        "colab": {
          "base_uri": "https://localhost:8080/"
        },
        "id": "SeurUQ05QFIr",
        "outputId": "d1825ac1-f632-402d-e138-6e6e35cece76"
      },
      "execution_count": 85,
      "outputs": [
        {
          "output_type": "stream",
          "name": "stdout",
          "text": [
            "Rows: 3,138\n",
            "Columns: 5\n",
            "$ county     \u001b[3m\u001b[90m<chr>\u001b[39m\u001b[23m \"Autauga\", \"Baldwin\", \"Barbour\", \"Bibb\", \"Blount\", \"Bullock…\n",
            "$ region     \u001b[3m\u001b[90m<chr>\u001b[39m\u001b[23m \"South\", \"South\", \"South\", \"South\", \"South\", \"South\", \"Sout…\n",
            "$ state      \u001b[3m\u001b[90m<chr>\u001b[39m\u001b[23m \"Alabama\", \"Alabama\", \"Alabama\", \"Alabama\", \"Alabama\", \"Ala…\n",
            "$ population \u001b[3m\u001b[90m<int>\u001b[39m\u001b[23m 55221, 195121, 26932, 22604, 57710, 10678, 20354, 116648, 3…\n",
            "$ walk       \u001b[3m\u001b[90m<dbl>\u001b[39m\u001b[23m 0.5, 1.0, 1.8, 0.6, 0.9, 5.0, 0.8, 1.2, 0.3, 0.6, 1.1, 1.9,…\n"
          ]
        }
      ]
    },
    {
      "cell_type": "code",
      "source": [
        "head(counties_selected %>%\n",
        "  # Add population_walk containing the total number of people who walk to work\n",
        "  mutate(population_walk = population * walk / 100) %>%\n",
        "  # Count weighted by the new column, sort in descending order\n",
        "  count(state, wt = population_walk, sort = TRUE))\n"
      ],
      "metadata": {
        "colab": {
          "base_uri": "https://localhost:8080/",
          "height": 286
        },
        "id": "7kvyv6i6PkUn",
        "outputId": "42053986-9697-4f66-ae5a-d81e01613aed"
      },
      "execution_count": 86,
      "outputs": [
        {
          "output_type": "display_data",
          "data": {
            "text/html": [
              "<table class=\"dataframe\">\n",
              "<caption>A data.frame: 6 × 2</caption>\n",
              "<thead>\n",
              "\t<tr><th></th><th scope=col>state</th><th scope=col>n</th></tr>\n",
              "\t<tr><th></th><th scope=col>&lt;chr&gt;</th><th scope=col>&lt;dbl&gt;</th></tr>\n",
              "</thead>\n",
              "<tbody>\n",
              "\t<tr><th scope=row>1</th><td>New York     </td><td>1237938.2</td></tr>\n",
              "\t<tr><th scope=row>2</th><td>California   </td><td>1017963.7</td></tr>\n",
              "\t<tr><th scope=row>3</th><td>Pennsylvania </td><td> 505397.2</td></tr>\n",
              "\t<tr><th scope=row>4</th><td>Texas        </td><td> 430783.4</td></tr>\n",
              "\t<tr><th scope=row>5</th><td>Illinois     </td><td> 400345.6</td></tr>\n",
              "\t<tr><th scope=row>6</th><td>Massachusetts</td><td> 316765.0</td></tr>\n",
              "</tbody>\n",
              "</table>\n"
            ],
            "text/markdown": "\nA data.frame: 6 × 2\n\n| <!--/--> | state &lt;chr&gt; | n &lt;dbl&gt; |\n|---|---|---|\n| 1 | New York      | 1237938.2 |\n| 2 | California    | 1017963.7 |\n| 3 | Pennsylvania  |  505397.2 |\n| 4 | Texas         |  430783.4 |\n| 5 | Illinois      |  400345.6 |\n| 6 | Massachusetts |  316765.0 |\n\n",
            "text/latex": "A data.frame: 6 × 2\n\\begin{tabular}{r|ll}\n  & state & n\\\\\n  & <chr> & <dbl>\\\\\n\\hline\n\t1 & New York      & 1237938.2\\\\\n\t2 & California    & 1017963.7\\\\\n\t3 & Pennsylvania  &  505397.2\\\\\n\t4 & Texas         &  430783.4\\\\\n\t5 & Illinois      &  400345.6\\\\\n\t6 & Massachusetts &  316765.0\\\\\n\\end{tabular}\n",
            "text/plain": [
              "  state         n        \n",
              "1 New York      1237938.2\n",
              "2 California    1017963.7\n",
              "3 Pennsylvania   505397.2\n",
              "4 Texas          430783.4\n",
              "5 Illinois       400345.6\n",
              "6 Massachusetts  316765.0"
            ]
          },
          "metadata": {}
        }
      ]
    },
    {
      "cell_type": "markdown",
      "source": [
        "### Summarizing\n",
        "The summarize() verb is very useful for collapsing a large dataset into a single observation."
      ],
      "metadata": {
        "id": "Wh6KtRPCSF1o"
      }
    },
    {
      "cell_type": "code",
      "source": [
        "counties_selected <- counties %>%\n",
        "  select(county, population, income, unemployment)\n",
        "\n",
        "counties_selected %>%\n",
        "  # Summarize to find minimum population, maximum unemployment, and average income\n",
        "  summarise(min_population = min(population),\n",
        "            max_unemployment = max(unemployment),\n",
        "            average_income = mean(income))\n",
        ""
      ],
      "metadata": {
        "colab": {
          "base_uri": "https://localhost:8080/",
          "height": 129
        },
        "id": "Yb7HcFpLSH70",
        "outputId": "6388f805-0e61-4711-f0f1-48434236d936"
      },
      "execution_count": 87,
      "outputs": [
        {
          "output_type": "display_data",
          "data": {
            "text/html": [
              "<table class=\"dataframe\">\n",
              "<caption>A data.frame: 1 × 3</caption>\n",
              "<thead>\n",
              "\t<tr><th scope=col>min_population</th><th scope=col>max_unemployment</th><th scope=col>average_income</th></tr>\n",
              "\t<tr><th scope=col>&lt;int&gt;</th><th scope=col>&lt;dbl&gt;</th><th scope=col>&lt;dbl&gt;</th></tr>\n",
              "</thead>\n",
              "<tbody>\n",
              "\t<tr><td>85</td><td>29.4</td><td>46832</td></tr>\n",
              "</tbody>\n",
              "</table>\n"
            ],
            "text/markdown": "\nA data.frame: 1 × 3\n\n| min_population &lt;int&gt; | max_unemployment &lt;dbl&gt; | average_income &lt;dbl&gt; |\n|---|---|---|\n| 85 | 29.4 | 46832 |\n\n",
            "text/latex": "A data.frame: 1 × 3\n\\begin{tabular}{lll}\n min\\_population & max\\_unemployment & average\\_income\\\\\n <int> & <dbl> & <dbl>\\\\\n\\hline\n\t 85 & 29.4 & 46832\\\\\n\\end{tabular}\n",
            "text/plain": [
              "  min_population max_unemployment average_income\n",
              "1 85             29.4             46832         "
            ]
          },
          "metadata": {}
        }
      ]
    },
    {
      "cell_type": "markdown",
      "source": [
        "### Summarizing by state\n",
        "Another interesting column is land_area, which shows the land area in square miles. Here, you'll summarize both population and land area by state, with the purpose of finding the density (in people per square miles)."
      ],
      "metadata": {
        "id": "sbnNwbuyS17m"
      }
    },
    {
      "cell_type": "code",
      "source": [
        "counties_selected <- counties %>%\n",
        "  select(state, county, population, land_area)\n",
        "\n",
        "head(counties_selected %>%\n",
        "  # Group by state\n",
        "  group_by(state) %>%\n",
        "  # Find the total area and population\n",
        "  summarise(total_area = sum(land_area),\n",
        "            total_population = sum(population)))\n",
        ""
      ],
      "metadata": {
        "colab": {
          "base_uri": "https://localhost:8080/",
          "height": 286
        },
        "id": "Eh-cqPBVS2DF",
        "outputId": "2485dc4f-97b8-4598-a3ed-c77b1dafab26"
      },
      "execution_count": 88,
      "outputs": [
        {
          "output_type": "display_data",
          "data": {
            "text/html": [
              "<table class=\"dataframe\">\n",
              "<caption>A tibble: 6 × 3</caption>\n",
              "<thead>\n",
              "\t<tr><th scope=col>state</th><th scope=col>total_area</th><th scope=col>total_population</th></tr>\n",
              "\t<tr><th scope=col>&lt;chr&gt;</th><th scope=col>&lt;dbl&gt;</th><th scope=col>&lt;int&gt;</th></tr>\n",
              "</thead>\n",
              "<tbody>\n",
              "\t<tr><td>Alabama   </td><td> 50645.39</td><td> 4830620</td></tr>\n",
              "\t<tr><td>Alaska    </td><td>553559.51</td><td>  725461</td></tr>\n",
              "\t<tr><td>Arizona   </td><td>113594.09</td><td> 6641928</td></tr>\n",
              "\t<tr><td>Arkansas  </td><td> 52035.48</td><td> 2958208</td></tr>\n",
              "\t<tr><td>California</td><td>155779.21</td><td>38421464</td></tr>\n",
              "\t<tr><td>Colorado  </td><td>103641.93</td><td> 5278906</td></tr>\n",
              "</tbody>\n",
              "</table>\n"
            ],
            "text/markdown": "\nA tibble: 6 × 3\n\n| state &lt;chr&gt; | total_area &lt;dbl&gt; | total_population &lt;int&gt; |\n|---|---|---|\n| Alabama    |  50645.39 |  4830620 |\n| Alaska     | 553559.51 |   725461 |\n| Arizona    | 113594.09 |  6641928 |\n| Arkansas   |  52035.48 |  2958208 |\n| California | 155779.21 | 38421464 |\n| Colorado   | 103641.93 |  5278906 |\n\n",
            "text/latex": "A tibble: 6 × 3\n\\begin{tabular}{lll}\n state & total\\_area & total\\_population\\\\\n <chr> & <dbl> & <int>\\\\\n\\hline\n\t Alabama    &  50645.39 &  4830620\\\\\n\t Alaska     & 553559.51 &   725461\\\\\n\t Arizona    & 113594.09 &  6641928\\\\\n\t Arkansas   &  52035.48 &  2958208\\\\\n\t California & 155779.21 & 38421464\\\\\n\t Colorado   & 103641.93 &  5278906\\\\\n\\end{tabular}\n",
            "text/plain": [
              "  state      total_area total_population\n",
              "1 Alabama     50645.39   4830620        \n",
              "2 Alaska     553559.51    725461        \n",
              "3 Arizona    113594.09   6641928        \n",
              "4 Arkansas    52035.48   2958208        \n",
              "5 California 155779.21  38421464        \n",
              "6 Colorado   103641.93   5278906        "
            ]
          },
          "metadata": {}
        }
      ]
    },
    {
      "cell_type": "code",
      "source": [
        "# Add a density column with the people per square mile, then arrange in descending order\n",
        "head(counties_selected %>%\n",
        "  group_by(state) %>%\n",
        "  summarize(total_area = sum(land_area),\n",
        "            total_population = sum(population)) %>%\n",
        "  # Add a density column\n",
        "  mutate(density = total_population / total_area) %>%\n",
        "  # Sort by density in descending order\n",
        "  arrange(desc(density)))\n"
      ],
      "metadata": {
        "colab": {
          "base_uri": "https://localhost:8080/",
          "height": 286
        },
        "id": "6K0OZyOlUld9",
        "outputId": "a556b969-c29f-4a94-9634-9cde5662bfc4"
      },
      "execution_count": 89,
      "outputs": [
        {
          "output_type": "display_data",
          "data": {
            "text/html": [
              "<table class=\"dataframe\">\n",
              "<caption>A tibble: 6 × 4</caption>\n",
              "<thead>\n",
              "\t<tr><th scope=col>state</th><th scope=col>total_area</th><th scope=col>total_population</th><th scope=col>density</th></tr>\n",
              "\t<tr><th scope=col>&lt;chr&gt;</th><th scope=col>&lt;dbl&gt;</th><th scope=col>&lt;int&gt;</th><th scope=col>&lt;dbl&gt;</th></tr>\n",
              "</thead>\n",
              "<tbody>\n",
              "\t<tr><td>New Jersey   </td><td>7354.22</td><td>8904413</td><td>1210.7896</td></tr>\n",
              "\t<tr><td>Rhode Island </td><td>1033.82</td><td>1053661</td><td>1019.1919</td></tr>\n",
              "\t<tr><td>Massachusetts</td><td>7800.08</td><td>6705586</td><td> 859.6817</td></tr>\n",
              "\t<tr><td>Connecticut  </td><td>4842.36</td><td>3593222</td><td> 742.0394</td></tr>\n",
              "\t<tr><td>Maryland     </td><td>9707.23</td><td>5930538</td><td> 610.9403</td></tr>\n",
              "\t<tr><td>Delaware     </td><td>1948.55</td><td> 926454</td><td> 475.4582</td></tr>\n",
              "</tbody>\n",
              "</table>\n"
            ],
            "text/markdown": "\nA tibble: 6 × 4\n\n| state &lt;chr&gt; | total_area &lt;dbl&gt; | total_population &lt;int&gt; | density &lt;dbl&gt; |\n|---|---|---|---|\n| New Jersey    | 7354.22 | 8904413 | 1210.7896 |\n| Rhode Island  | 1033.82 | 1053661 | 1019.1919 |\n| Massachusetts | 7800.08 | 6705586 |  859.6817 |\n| Connecticut   | 4842.36 | 3593222 |  742.0394 |\n| Maryland      | 9707.23 | 5930538 |  610.9403 |\n| Delaware      | 1948.55 |  926454 |  475.4582 |\n\n",
            "text/latex": "A tibble: 6 × 4\n\\begin{tabular}{llll}\n state & total\\_area & total\\_population & density\\\\\n <chr> & <dbl> & <int> & <dbl>\\\\\n\\hline\n\t New Jersey    & 7354.22 & 8904413 & 1210.7896\\\\\n\t Rhode Island  & 1033.82 & 1053661 & 1019.1919\\\\\n\t Massachusetts & 7800.08 & 6705586 &  859.6817\\\\\n\t Connecticut   & 4842.36 & 3593222 &  742.0394\\\\\n\t Maryland      & 9707.23 & 5930538 &  610.9403\\\\\n\t Delaware      & 1948.55 &  926454 &  475.4582\\\\\n\\end{tabular}\n",
            "text/plain": [
              "  state         total_area total_population density  \n",
              "1 New Jersey    7354.22    8904413          1210.7896\n",
              "2 Rhode Island  1033.82    1053661          1019.1919\n",
              "3 Massachusetts 7800.08    6705586           859.6817\n",
              "4 Connecticut   4842.36    3593222           742.0394\n",
              "5 Maryland      9707.23    5930538           610.9403\n",
              "6 Delaware      1948.55     926454           475.4582"
            ]
          },
          "metadata": {}
        }
      ]
    },
    {
      "cell_type": "markdown",
      "source": [
        "### Summarizing by state and region\n",
        "You can group by multiple columns instead of grouping by one. Here, you'll practice aggregating by state and region, and notice how useful it is for performing multiple aggregations in a row."
      ],
      "metadata": {
        "id": "vGQ__2DCWHQZ"
      }
    },
    {
      "cell_type": "code",
      "source": [
        "counties_selected <- counties %>%\n",
        "  select(region, state, county, population)\n",
        "\n",
        "head(counties_selected %>%\n",
        "  # Group and summarize to find the total population\n",
        "  group_by(region, state) %>%\n",
        "    summarise(total_pop = sum(population)))\n",
        ""
      ],
      "metadata": {
        "colab": {
          "base_uri": "https://localhost:8080/",
          "height": 321
        },
        "id": "Q_j-s8QeWIYt",
        "outputId": "45ac582f-183d-4498-aeeb-6a53bd3588ab"
      },
      "execution_count": 90,
      "outputs": [
        {
          "output_type": "stream",
          "name": "stderr",
          "text": [
            "\u001b[1m\u001b[22m`summarise()` has grouped output by 'region'. You can override using the\n",
            "`.groups` argument.\n"
          ]
        },
        {
          "output_type": "display_data",
          "data": {
            "text/html": [
              "<table class=\"dataframe\">\n",
              "<caption>A grouped_df: 6 × 3</caption>\n",
              "<thead>\n",
              "\t<tr><th scope=col>region</th><th scope=col>state</th><th scope=col>total_pop</th></tr>\n",
              "\t<tr><th scope=col>&lt;chr&gt;</th><th scope=col>&lt;chr&gt;</th><th scope=col>&lt;int&gt;</th></tr>\n",
              "</thead>\n",
              "<tbody>\n",
              "\t<tr><td>North Central</td><td>Illinois </td><td>12873761</td></tr>\n",
              "\t<tr><td>North Central</td><td>Indiana  </td><td> 6568645</td></tr>\n",
              "\t<tr><td>North Central</td><td>Iowa     </td><td> 3093526</td></tr>\n",
              "\t<tr><td>North Central</td><td>Kansas   </td><td> 2892987</td></tr>\n",
              "\t<tr><td>North Central</td><td>Michigan </td><td> 9900571</td></tr>\n",
              "\t<tr><td>North Central</td><td>Minnesota</td><td> 5419171</td></tr>\n",
              "</tbody>\n",
              "</table>\n"
            ],
            "text/markdown": "\nA grouped_df: 6 × 3\n\n| region &lt;chr&gt; | state &lt;chr&gt; | total_pop &lt;int&gt; |\n|---|---|---|\n| North Central | Illinois  | 12873761 |\n| North Central | Indiana   |  6568645 |\n| North Central | Iowa      |  3093526 |\n| North Central | Kansas    |  2892987 |\n| North Central | Michigan  |  9900571 |\n| North Central | Minnesota |  5419171 |\n\n",
            "text/latex": "A grouped\\_df: 6 × 3\n\\begin{tabular}{lll}\n region & state & total\\_pop\\\\\n <chr> & <chr> & <int>\\\\\n\\hline\n\t North Central & Illinois  & 12873761\\\\\n\t North Central & Indiana   &  6568645\\\\\n\t North Central & Iowa      &  3093526\\\\\n\t North Central & Kansas    &  2892987\\\\\n\t North Central & Michigan  &  9900571\\\\\n\t North Central & Minnesota &  5419171\\\\\n\\end{tabular}\n",
            "text/plain": [
              "  region        state     total_pop\n",
              "1 North Central Illinois  12873761 \n",
              "2 North Central Indiana    6568645 \n",
              "3 North Central Iowa       3093526 \n",
              "4 North Central Kansas     2892987 \n",
              "5 North Central Michigan   9900571 \n",
              "6 North Central Minnesota  5419171 "
            ]
          },
          "metadata": {}
        }
      ]
    },
    {
      "cell_type": "code",
      "source": [
        "counties_selected %>%\n",
        "  # Group and summarize to find the total population\n",
        "  group_by(region, state) %>%\n",
        "  summarize(total_pop = sum(population)) %>%\n",
        "  # Calculate the average_pop and median_pop columns\n",
        "  summarise(average_pop = mean(total_pop),\n",
        "            median_pop = median(total_pop))\n",
        ""
      ],
      "metadata": {
        "colab": {
          "base_uri": "https://localhost:8080/",
          "height": 258
        },
        "id": "Uqi74BxyW3Ai",
        "outputId": "031e1e7c-cc2e-4d38-eea0-9000c9505c76"
      },
      "execution_count": 91,
      "outputs": [
        {
          "output_type": "stream",
          "name": "stderr",
          "text": [
            "\u001b[1m\u001b[22m`summarise()` has grouped output by 'region'. You can override using the\n",
            "`.groups` argument.\n"
          ]
        },
        {
          "output_type": "display_data",
          "data": {
            "text/html": [
              "<table class=\"dataframe\">\n",
              "<caption>A tibble: 4 × 3</caption>\n",
              "<thead>\n",
              "\t<tr><th scope=col>region</th><th scope=col>average_pop</th><th scope=col>median_pop</th></tr>\n",
              "\t<tr><th scope=col>&lt;chr&gt;</th><th scope=col>&lt;dbl&gt;</th><th scope=col>&lt;dbl&gt;</th></tr>\n",
              "</thead>\n",
              "<tbody>\n",
              "\t<tr><td>North Central</td><td>5627687</td><td>5580644</td></tr>\n",
              "\t<tr><td>Northeast    </td><td>6221058</td><td>3593222</td></tr>\n",
              "\t<tr><td>South        </td><td>7370486</td><td>4804098</td></tr>\n",
              "\t<tr><td>West         </td><td>5722755</td><td>2798636</td></tr>\n",
              "</tbody>\n",
              "</table>\n"
            ],
            "text/markdown": "\nA tibble: 4 × 3\n\n| region &lt;chr&gt; | average_pop &lt;dbl&gt; | median_pop &lt;dbl&gt; |\n|---|---|---|\n| North Central | 5627687 | 5580644 |\n| Northeast     | 6221058 | 3593222 |\n| South         | 7370486 | 4804098 |\n| West          | 5722755 | 2798636 |\n\n",
            "text/latex": "A tibble: 4 × 3\n\\begin{tabular}{lll}\n region & average\\_pop & median\\_pop\\\\\n <chr> & <dbl> & <dbl>\\\\\n\\hline\n\t North Central & 5627687 & 5580644\\\\\n\t Northeast     & 6221058 & 3593222\\\\\n\t South         & 7370486 & 4804098\\\\\n\t West          & 5722755 & 2798636\\\\\n\\end{tabular}\n",
            "text/plain": [
              "  region        average_pop median_pop\n",
              "1 North Central 5627687     5580644   \n",
              "2 Northeast     6221058     3593222   \n",
              "3 South         7370486     4804098   \n",
              "4 West          5722755     2798636   "
            ]
          },
          "metadata": {}
        }
      ]
    },
    {
      "cell_type": "markdown",
      "source": [
        "### Selecting a county from each region\n",
        "Previously, you used the walk column, which offers a percentage of people in each county that walk to work, to add a new column and count to find the total number of people who walk to work in each county.\n",
        "\n",
        "Now, you're interested in finding the county within each region with the highest percentage of citizens who walk to work."
      ],
      "metadata": {
        "id": "PQ-T2-fbaHm7"
      }
    },
    {
      "cell_type": "code",
      "source": [
        "counties_selected <- counties %>%\n",
        "  select(region, state, county, metro, population, walk)\n",
        "\n",
        "counties_selected %>%\n",
        "  # Group by region\n",
        "  group_by(region) %>%\n",
        "  # Find the county with the highest percentage of people who walk to work\n",
        "  slice_max(walk, n = 1)\n"
      ],
      "metadata": {
        "colab": {
          "base_uri": "https://localhost:8080/",
          "height": 224
        },
        "id": "iVPFydD0aHwM",
        "outputId": "6ca6987b-9e36-48d7-97ef-b15064d14d0d"
      },
      "execution_count": 92,
      "outputs": [
        {
          "output_type": "display_data",
          "data": {
            "text/html": [
              "<table class=\"dataframe\">\n",
              "<caption>A grouped_df: 4 × 6</caption>\n",
              "<thead>\n",
              "\t<tr><th scope=col>region</th><th scope=col>state</th><th scope=col>county</th><th scope=col>metro</th><th scope=col>population</th><th scope=col>walk</th></tr>\n",
              "\t<tr><th scope=col>&lt;chr&gt;</th><th scope=col>&lt;chr&gt;</th><th scope=col>&lt;chr&gt;</th><th scope=col>&lt;chr&gt;</th><th scope=col>&lt;int&gt;</th><th scope=col>&lt;dbl&gt;</th></tr>\n",
              "</thead>\n",
              "<tbody>\n",
              "\t<tr><td>North Central</td><td>North Dakota</td><td>McIntosh              </td><td>Nonmetro</td><td>   2759</td><td>17.5</td></tr>\n",
              "\t<tr><td>Northeast    </td><td>New York    </td><td>New York              </td><td>Metro   </td><td>1629507</td><td>20.7</td></tr>\n",
              "\t<tr><td>South        </td><td>Virginia    </td><td>Lexington city        </td><td>Nonmetro</td><td>   7071</td><td>31.7</td></tr>\n",
              "\t<tr><td>West         </td><td>Alaska      </td><td>Aleutians East Borough</td><td>Nonmetro</td><td>   3304</td><td>71.2</td></tr>\n",
              "</tbody>\n",
              "</table>\n"
            ],
            "text/markdown": "\nA grouped_df: 4 × 6\n\n| region &lt;chr&gt; | state &lt;chr&gt; | county &lt;chr&gt; | metro &lt;chr&gt; | population &lt;int&gt; | walk &lt;dbl&gt; |\n|---|---|---|---|---|---|\n| North Central | North Dakota | McIntosh               | Nonmetro |    2759 | 17.5 |\n| Northeast     | New York     | New York               | Metro    | 1629507 | 20.7 |\n| South         | Virginia     | Lexington city         | Nonmetro |    7071 | 31.7 |\n| West          | Alaska       | Aleutians East Borough | Nonmetro |    3304 | 71.2 |\n\n",
            "text/latex": "A grouped\\_df: 4 × 6\n\\begin{tabular}{llllll}\n region & state & county & metro & population & walk\\\\\n <chr> & <chr> & <chr> & <chr> & <int> & <dbl>\\\\\n\\hline\n\t North Central & North Dakota & McIntosh               & Nonmetro &    2759 & 17.5\\\\\n\t Northeast     & New York     & New York               & Metro    & 1629507 & 20.7\\\\\n\t South         & Virginia     & Lexington city         & Nonmetro &    7071 & 31.7\\\\\n\t West          & Alaska       & Aleutians East Borough & Nonmetro &    3304 & 71.2\\\\\n\\end{tabular}\n",
            "text/plain": [
              "  region        state        county                 metro    population walk\n",
              "1 North Central North Dakota McIntosh               Nonmetro    2759    17.5\n",
              "2 Northeast     New York     New York               Metro    1629507    20.7\n",
              "3 South         Virginia     Lexington city         Nonmetro    7071    31.7\n",
              "4 West          Alaska       Aleutians East Borough Nonmetro    3304    71.2"
            ]
          },
          "metadata": {}
        }
      ]
    },
    {
      "cell_type": "markdown",
      "source": [
        "### Finding the lowest-income state in each region\n",
        "You've been learning to combine multiple dplyr verbs together. Here, you'll combine group_by(), summarize(), and slice_min() to find the state in each region with the highest income.\n",
        "\n",
        "When you group by multiple columns and then summarize, it's important to remember that the summarize \"peels off\" one of the groups, but leaves the rest on. For example, if you group_by(X, Y) then summarize, the result will still be grouped by X."
      ],
      "metadata": {
        "id": "H_8rA2Fjei3S"
      }
    },
    {
      "cell_type": "code",
      "source": [
        "counties_selected <- counties %>%\n",
        "  select(region, state, county, population, income)\n",
        "\n",
        "counties_selected %>%\n",
        "  group_by(region, state) %>%\n",
        "  # Calculate average income\n",
        "  summarise(average_income = mean(income)) %>%\n",
        "  # Find the lowest income state in each region\n",
        "  slice_min(average_income, n = 1)\n"
      ],
      "metadata": {
        "colab": {
          "base_uri": "https://localhost:8080/",
          "height": 258
        },
        "id": "PUOkkFTgei9O",
        "outputId": "f4c0fddb-1f48-4f65-9330-8acf46e69dac"
      },
      "execution_count": 93,
      "outputs": [
        {
          "output_type": "stream",
          "name": "stderr",
          "text": [
            "\u001b[1m\u001b[22m`summarise()` has grouped output by 'region'. You can override using the\n",
            "`.groups` argument.\n"
          ]
        },
        {
          "output_type": "display_data",
          "data": {
            "text/html": [
              "<table class=\"dataframe\">\n",
              "<caption>A grouped_df: 4 × 3</caption>\n",
              "<thead>\n",
              "\t<tr><th scope=col>region</th><th scope=col>state</th><th scope=col>average_income</th></tr>\n",
              "\t<tr><th scope=col>&lt;chr&gt;</th><th scope=col>&lt;chr&gt;</th><th scope=col>&lt;dbl&gt;</th></tr>\n",
              "</thead>\n",
              "<tbody>\n",
              "\t<tr><td>North Central</td><td>Missouri   </td><td>41755.40</td></tr>\n",
              "\t<tr><td>Northeast    </td><td>Maine      </td><td>46141.75</td></tr>\n",
              "\t<tr><td>South        </td><td>Mississippi</td><td>34938.93</td></tr>\n",
              "\t<tr><td>West         </td><td>New Mexico </td><td>40183.67</td></tr>\n",
              "</tbody>\n",
              "</table>\n"
            ],
            "text/markdown": "\nA grouped_df: 4 × 3\n\n| region &lt;chr&gt; | state &lt;chr&gt; | average_income &lt;dbl&gt; |\n|---|---|---|\n| North Central | Missouri    | 41755.40 |\n| Northeast     | Maine       | 46141.75 |\n| South         | Mississippi | 34938.93 |\n| West          | New Mexico  | 40183.67 |\n\n",
            "text/latex": "A grouped\\_df: 4 × 3\n\\begin{tabular}{lll}\n region & state & average\\_income\\\\\n <chr> & <chr> & <dbl>\\\\\n\\hline\n\t North Central & Missouri    & 41755.40\\\\\n\t Northeast     & Maine       & 46141.75\\\\\n\t South         & Mississippi & 34938.93\\\\\n\t West          & New Mexico  & 40183.67\\\\\n\\end{tabular}\n",
            "text/plain": [
              "  region        state       average_income\n",
              "1 North Central Missouri    41755.40      \n",
              "2 Northeast     Maine       46141.75      \n",
              "3 South         Mississippi 34938.93      \n",
              "4 West          New Mexico  40183.67      "
            ]
          },
          "metadata": {}
        }
      ]
    },
    {
      "cell_type": "markdown",
      "source": [
        "### Using summarize, slice_max, and count together\n",
        "In this chapter, you've learned to use six dplyr verbs related to aggregation: count(), group_by(), summarize(), ungroup(), slice_max(), and slice_min(). In this exercise, you'll combine them to answer a question:\n",
        "\n",
        "In how many states do more people live in metro areas than non-metro areas?\n",
        "\n",
        "Recall that the metro column has one of the two values \"Metro\" (for high-density city areas) or \"Nonmetro\" (for suburban and country areas)."
      ],
      "metadata": {
        "id": "KL7eHfp8fKs1"
      }
    },
    {
      "cell_type": "code",
      "source": [
        "counties_selected <- counties %>%\n",
        "  select(state, metro, population)\n",
        "\n",
        "head(counties_selected %>%\n",
        "  # Find the total population for each combination of state and metro\n",
        "  group_by(state, metro) %>%\n",
        "    summarise(total_pop = sum(population)))\n",
        ""
      ],
      "metadata": {
        "colab": {
          "base_uri": "https://localhost:8080/",
          "height": 321
        },
        "id": "BeMq2b4CfKzP",
        "outputId": "a62ca4e0-abc9-47d0-cdcb-a988da009c59"
      },
      "execution_count": 94,
      "outputs": [
        {
          "output_type": "stream",
          "name": "stderr",
          "text": [
            "\u001b[1m\u001b[22m`summarise()` has grouped output by 'state'. You can override using the\n",
            "`.groups` argument.\n"
          ]
        },
        {
          "output_type": "display_data",
          "data": {
            "text/html": [
              "<table class=\"dataframe\">\n",
              "<caption>A grouped_df: 6 × 3</caption>\n",
              "<thead>\n",
              "\t<tr><th scope=col>state</th><th scope=col>metro</th><th scope=col>total_pop</th></tr>\n",
              "\t<tr><th scope=col>&lt;chr&gt;</th><th scope=col>&lt;chr&gt;</th><th scope=col>&lt;int&gt;</th></tr>\n",
              "</thead>\n",
              "<tbody>\n",
              "\t<tr><td>Alabama</td><td>Metro   </td><td>3671377</td></tr>\n",
              "\t<tr><td>Alabama</td><td>Nonmetro</td><td>1159243</td></tr>\n",
              "\t<tr><td>Alaska </td><td>Metro   </td><td> 494990</td></tr>\n",
              "\t<tr><td>Alaska </td><td>Nonmetro</td><td> 230471</td></tr>\n",
              "\t<tr><td>Arizona</td><td>Metro   </td><td>6295145</td></tr>\n",
              "\t<tr><td>Arizona</td><td>Nonmetro</td><td> 346783</td></tr>\n",
              "</tbody>\n",
              "</table>\n"
            ],
            "text/markdown": "\nA grouped_df: 6 × 3\n\n| state &lt;chr&gt; | metro &lt;chr&gt; | total_pop &lt;int&gt; |\n|---|---|---|\n| Alabama | Metro    | 3671377 |\n| Alabama | Nonmetro | 1159243 |\n| Alaska  | Metro    |  494990 |\n| Alaska  | Nonmetro |  230471 |\n| Arizona | Metro    | 6295145 |\n| Arizona | Nonmetro |  346783 |\n\n",
            "text/latex": "A grouped\\_df: 6 × 3\n\\begin{tabular}{lll}\n state & metro & total\\_pop\\\\\n <chr> & <chr> & <int>\\\\\n\\hline\n\t Alabama & Metro    & 3671377\\\\\n\t Alabama & Nonmetro & 1159243\\\\\n\t Alaska  & Metro    &  494990\\\\\n\t Alaska  & Nonmetro &  230471\\\\\n\t Arizona & Metro    & 6295145\\\\\n\t Arizona & Nonmetro &  346783\\\\\n\\end{tabular}\n",
            "text/plain": [
              "  state   metro    total_pop\n",
              "1 Alabama Metro    3671377  \n",
              "2 Alabama Nonmetro 1159243  \n",
              "3 Alaska  Metro     494990  \n",
              "4 Alaska  Nonmetro  230471  \n",
              "5 Arizona Metro    6295145  \n",
              "6 Arizona Nonmetro  346783  "
            ]
          },
          "metadata": {}
        }
      ]
    },
    {
      "cell_type": "code",
      "source": [
        "head(counties_selected %>%\n",
        "  # Find the total population for each combination of state and metro\n",
        "  group_by(state, metro) %>%\n",
        "  summarize(total_pop = sum(population)) %>%\n",
        "  # Extract the most populated row for each state\n",
        "  slice_max(total_pop, n = 1))\n"
      ],
      "metadata": {
        "colab": {
          "base_uri": "https://localhost:8080/",
          "height": 321
        },
        "id": "121kFuR1f3Mn",
        "outputId": "f3d124ec-8aca-4e0f-af12-34cfc19d783e"
      },
      "execution_count": 95,
      "outputs": [
        {
          "output_type": "stream",
          "name": "stderr",
          "text": [
            "\u001b[1m\u001b[22m`summarise()` has grouped output by 'state'. You can override using the\n",
            "`.groups` argument.\n"
          ]
        },
        {
          "output_type": "display_data",
          "data": {
            "text/html": [
              "<table class=\"dataframe\">\n",
              "<caption>A grouped_df: 6 × 3</caption>\n",
              "<thead>\n",
              "\t<tr><th scope=col>state</th><th scope=col>metro</th><th scope=col>total_pop</th></tr>\n",
              "\t<tr><th scope=col>&lt;chr&gt;</th><th scope=col>&lt;chr&gt;</th><th scope=col>&lt;int&gt;</th></tr>\n",
              "</thead>\n",
              "<tbody>\n",
              "\t<tr><td>Alabama   </td><td>Metro</td><td> 3671377</td></tr>\n",
              "\t<tr><td>Alaska    </td><td>Metro</td><td>  494990</td></tr>\n",
              "\t<tr><td>Arizona   </td><td>Metro</td><td> 6295145</td></tr>\n",
              "\t<tr><td>Arkansas  </td><td>Metro</td><td> 1806867</td></tr>\n",
              "\t<tr><td>California</td><td>Metro</td><td>37587429</td></tr>\n",
              "\t<tr><td>Colorado  </td><td>Metro</td><td> 4590896</td></tr>\n",
              "</tbody>\n",
              "</table>\n"
            ],
            "text/markdown": "\nA grouped_df: 6 × 3\n\n| state &lt;chr&gt; | metro &lt;chr&gt; | total_pop &lt;int&gt; |\n|---|---|---|\n| Alabama    | Metro |  3671377 |\n| Alaska     | Metro |   494990 |\n| Arizona    | Metro |  6295145 |\n| Arkansas   | Metro |  1806867 |\n| California | Metro | 37587429 |\n| Colorado   | Metro |  4590896 |\n\n",
            "text/latex": "A grouped\\_df: 6 × 3\n\\begin{tabular}{lll}\n state & metro & total\\_pop\\\\\n <chr> & <chr> & <int>\\\\\n\\hline\n\t Alabama    & Metro &  3671377\\\\\n\t Alaska     & Metro &   494990\\\\\n\t Arizona    & Metro &  6295145\\\\\n\t Arkansas   & Metro &  1806867\\\\\n\t California & Metro & 37587429\\\\\n\t Colorado   & Metro &  4590896\\\\\n\\end{tabular}\n",
            "text/plain": [
              "  state      metro total_pop\n",
              "1 Alabama    Metro  3671377 \n",
              "2 Alaska     Metro   494990 \n",
              "3 Arizona    Metro  6295145 \n",
              "4 Arkansas   Metro  1806867 \n",
              "5 California Metro 37587429 \n",
              "6 Colorado   Metro  4590896 "
            ]
          },
          "metadata": {}
        }
      ]
    },
    {
      "cell_type": "code",
      "source": [
        "counties_selected %>%\n",
        "  # Find the total population for each combination of state and metro\n",
        "  group_by(state, metro) %>%\n",
        "  summarize(total_pop = sum(population)) %>%\n",
        "  # Extract the most populated row for each state\n",
        "  slice_max(total_pop, n = 1) %>%\n",
        "  # Count the states with more people in Metro or Nonmetro areas\n",
        "  ungroup(state) %>%\n",
        "    count(metro)\n",
        ""
      ],
      "metadata": {
        "colab": {
          "base_uri": "https://localhost:8080/",
          "height": 196
        },
        "id": "NBW51eGTgSz7",
        "outputId": "187ec2a0-59ab-42aa-d7bb-f60dfc6cbe8e"
      },
      "execution_count": 96,
      "outputs": [
        {
          "output_type": "stream",
          "name": "stderr",
          "text": [
            "\u001b[1m\u001b[22m`summarise()` has grouped output by 'state'. You can override using the\n",
            "`.groups` argument.\n"
          ]
        },
        {
          "output_type": "display_data",
          "data": {
            "text/html": [
              "<table class=\"dataframe\">\n",
              "<caption>A tibble: 2 × 2</caption>\n",
              "<thead>\n",
              "\t<tr><th scope=col>metro</th><th scope=col>n</th></tr>\n",
              "\t<tr><th scope=col>&lt;chr&gt;</th><th scope=col>&lt;int&gt;</th></tr>\n",
              "</thead>\n",
              "<tbody>\n",
              "\t<tr><td>Metro   </td><td>44</td></tr>\n",
              "\t<tr><td>Nonmetro</td><td> 6</td></tr>\n",
              "</tbody>\n",
              "</table>\n"
            ],
            "text/markdown": "\nA tibble: 2 × 2\n\n| metro &lt;chr&gt; | n &lt;int&gt; |\n|---|---|\n| Metro    | 44 |\n| Nonmetro |  6 |\n\n",
            "text/latex": "A tibble: 2 × 2\n\\begin{tabular}{ll}\n metro & n\\\\\n <chr> & <int>\\\\\n\\hline\n\t Metro    & 44\\\\\n\t Nonmetro &  6\\\\\n\\end{tabular}\n",
            "text/plain": [
              "  metro    n \n",
              "1 Metro    44\n",
              "2 Nonmetro  6"
            ]
          },
          "metadata": {}
        }
      ]
    },
    {
      "cell_type": "markdown",
      "source": [
        "## **Selecting and Transforming Data**\n",
        "Learn advanced methods to select and transform columns. Also learn about select helpers, which are functions that specify criteria for columns you want to choose, as well as the rename and transmute verbs."
      ],
      "metadata": {
        "id": "HbMSTwRDhNMv"
      }
    },
    {
      "cell_type": "markdown",
      "source": [
        "### Selecting columns\n",
        "Using the select() verb, we can answer interesting questions about our dataset by focusing in on related groups of verbs. The colon (:) is useful for getting many columns at a time."
      ],
      "metadata": {
        "id": "Uj5R8R4GhNWK"
      }
    },
    {
      "cell_type": "code",
      "source": [
        "# Glimpse the counties table\n",
        "glimpse(counties)\n"
      ],
      "metadata": {
        "colab": {
          "base_uri": "https://localhost:8080/"
        },
        "id": "uz6inyKrjeOz",
        "outputId": "6b3ad53a-1fdd-43eb-8319-56d79cc946e3"
      },
      "execution_count": 97,
      "outputs": [
        {
          "output_type": "stream",
          "name": "stdout",
          "text": [
            "Rows: 3,138\n",
            "Columns: 40\n",
            "$ census_id          \u001b[3m\u001b[90m<int>\u001b[39m\u001b[23m 1001, 1003, 1005, 1007, 1009, 1011, 1013, 1015, 101…\n",
            "$ state              \u001b[3m\u001b[90m<chr>\u001b[39m\u001b[23m \"Alabama\", \"Alabama\", \"Alabama\", \"Alabama\", \"Alabam…\n",
            "$ county             \u001b[3m\u001b[90m<chr>\u001b[39m\u001b[23m \"Autauga\", \"Baldwin\", \"Barbour\", \"Bibb\", \"Blount\", …\n",
            "$ region             \u001b[3m\u001b[90m<chr>\u001b[39m\u001b[23m \"South\", \"South\", \"South\", \"South\", \"South\", \"South…\n",
            "$ metro              \u001b[3m\u001b[90m<chr>\u001b[39m\u001b[23m \"Metro\", \"Metro\", \"Nonmetro\", \"Metro\", \"Metro\", \"No…\n",
            "$ population         \u001b[3m\u001b[90m<int>\u001b[39m\u001b[23m 55221, 195121, 26932, 22604, 57710, 10678, 20354, 1…\n",
            "$ men                \u001b[3m\u001b[90m<int>\u001b[39m\u001b[23m 26745, 95314, 14497, 12073, 28512, 5660, 9502, 5627…\n",
            "$ women              \u001b[3m\u001b[90m<int>\u001b[39m\u001b[23m 28476, 99807, 12435, 10531, 29198, 5018, 10852, 603…\n",
            "$ hispanic           \u001b[3m\u001b[90m<dbl>\u001b[39m\u001b[23m 2.6, 4.5, 4.6, 2.2, 8.6, 4.4, 1.2, 3.5, 0.4, 1.5, 7…\n",
            "$ white              \u001b[3m\u001b[90m<dbl>\u001b[39m\u001b[23m 75.8, 83.1, 46.2, 74.5, 87.9, 22.2, 53.3, 73.0, 57.…\n",
            "$ black              \u001b[3m\u001b[90m<dbl>\u001b[39m\u001b[23m 18.5, 9.5, 46.7, 21.4, 1.5, 70.7, 43.8, 20.3, 40.3,…\n",
            "$ native             \u001b[3m\u001b[90m<dbl>\u001b[39m\u001b[23m 0.4, 0.6, 0.2, 0.4, 0.3, 1.2, 0.1, 0.2, 0.2, 0.6, 0…\n",
            "$ asian              \u001b[3m\u001b[90m<dbl>\u001b[39m\u001b[23m 1.0, 0.7, 0.4, 0.1, 0.1, 0.2, 0.4, 0.9, 0.8, 0.3, 0…\n",
            "$ pacific            \u001b[3m\u001b[90m<dbl>\u001b[39m\u001b[23m 0.0, 0.0, 0.0, 0.0, 0.0, 0.0, 0.0, 0.0, 0.0, 0.0, 0…\n",
            "$ citizens           \u001b[3m\u001b[90m<int>\u001b[39m\u001b[23m 40725, 147695, 20714, 17495, 42345, 8057, 15581, 88…\n",
            "$ income             \u001b[3m\u001b[90m<int>\u001b[39m\u001b[23m 51281, 50254, 32964, 38678, 45813, 31938, 32229, 41…\n",
            "$ income_err         \u001b[3m\u001b[90m<int>\u001b[39m\u001b[23m 2391, 1263, 2973, 3995, 3141, 5884, 1793, 925, 2949…\n",
            "$ income_per_cap     \u001b[3m\u001b[90m<int>\u001b[39m\u001b[23m 24974, 27317, 16824, 18431, 20532, 17580, 18390, 21…\n",
            "$ income_per_cap_err \u001b[3m\u001b[90m<int>\u001b[39m\u001b[23m 1080, 711, 798, 1618, 708, 2055, 714, 489, 1366, 15…\n",
            "$ poverty            \u001b[3m\u001b[90m<dbl>\u001b[39m\u001b[23m 12.9, 13.4, 26.7, 16.8, 16.7, 24.6, 25.4, 20.5, 21.…\n",
            "$ child_poverty      \u001b[3m\u001b[90m<dbl>\u001b[39m\u001b[23m 18.6, 19.2, 45.3, 27.9, 27.2, 38.4, 39.2, 31.6, 37.…\n",
            "$ professional       \u001b[3m\u001b[90m<dbl>\u001b[39m\u001b[23m 33.2, 33.1, 26.8, 21.5, 28.5, 18.8, 27.5, 27.3, 23.…\n",
            "$ service            \u001b[3m\u001b[90m<dbl>\u001b[39m\u001b[23m 17.0, 17.7, 16.1, 17.9, 14.1, 15.0, 16.6, 17.7, 14.…\n",
            "$ office             \u001b[3m\u001b[90m<dbl>\u001b[39m\u001b[23m 24.2, 27.1, 23.1, 17.8, 23.9, 19.7, 21.9, 24.2, 26.…\n",
            "$ construction       \u001b[3m\u001b[90m<dbl>\u001b[39m\u001b[23m 8.6, 10.8, 10.8, 19.0, 13.5, 20.1, 10.3, 10.5, 11.5…\n",
            "$ production         \u001b[3m\u001b[90m<dbl>\u001b[39m\u001b[23m 17.1, 11.2, 23.1, 23.7, 19.9, 26.4, 23.7, 20.4, 24.…\n",
            "$ drive              \u001b[3m\u001b[90m<dbl>\u001b[39m\u001b[23m 87.5, 84.7, 83.8, 83.2, 84.9, 74.9, 84.5, 85.3, 85.…\n",
            "$ carpool            \u001b[3m\u001b[90m<dbl>\u001b[39m\u001b[23m 8.8, 8.8, 10.9, 13.5, 11.2, 14.9, 12.4, 9.4, 11.9, …\n",
            "$ transit            \u001b[3m\u001b[90m<dbl>\u001b[39m\u001b[23m 0.1, 0.1, 0.4, 0.5, 0.4, 0.7, 0.0, 0.2, 0.2, 0.2, 0…\n",
            "$ walk               \u001b[3m\u001b[90m<dbl>\u001b[39m\u001b[23m 0.5, 1.0, 1.8, 0.6, 0.9, 5.0, 0.8, 1.2, 0.3, 0.6, 1…\n",
            "$ other_transp       \u001b[3m\u001b[90m<dbl>\u001b[39m\u001b[23m 1.3, 1.4, 1.5, 1.5, 0.4, 1.7, 0.6, 1.2, 0.4, 0.7, 1…\n",
            "$ work_at_home       \u001b[3m\u001b[90m<dbl>\u001b[39m\u001b[23m 1.8, 3.9, 1.6, 0.7, 2.3, 2.8, 1.7, 2.7, 2.1, 2.5, 1…\n",
            "$ mean_commute       \u001b[3m\u001b[90m<dbl>\u001b[39m\u001b[23m 26.5, 26.4, 24.1, 28.8, 34.9, 27.5, 24.6, 24.1, 25.…\n",
            "$ employed           \u001b[3m\u001b[90m<int>\u001b[39m\u001b[23m 23986, 85953, 8597, 8294, 22189, 3865, 7813, 47401,…\n",
            "$ private_work       \u001b[3m\u001b[90m<dbl>\u001b[39m\u001b[23m 73.6, 81.5, 71.8, 76.8, 82.0, 79.5, 77.4, 74.1, 85.…\n",
            "$ public_work        \u001b[3m\u001b[90m<dbl>\u001b[39m\u001b[23m 20.9, 12.3, 20.8, 16.1, 13.5, 15.1, 16.2, 20.8, 12.…\n",
            "$ self_employed      \u001b[3m\u001b[90m<dbl>\u001b[39m\u001b[23m 5.5, 5.8, 7.3, 6.7, 4.2, 5.4, 6.2, 5.0, 2.8, 7.9, 4…\n",
            "$ family_work        \u001b[3m\u001b[90m<dbl>\u001b[39m\u001b[23m 0.0, 0.4, 0.1, 0.4, 0.4, 0.0, 0.2, 0.1, 0.0, 0.5, 0…\n",
            "$ unemployment       \u001b[3m\u001b[90m<dbl>\u001b[39m\u001b[23m 7.6, 7.5, 17.6, 8.3, 7.7, 18.0, 10.9, 12.3, 8.9, 7.…\n",
            "$ land_area          \u001b[3m\u001b[90m<dbl>\u001b[39m\u001b[23m 594.44, 1589.78, 884.88, 622.58, 644.78, 622.81, 77…\n"
          ]
        }
      ]
    },
    {
      "cell_type": "code",
      "source": [
        "head(counties %>%\n",
        "  # Select state, county, population, and industry-related columns\n",
        "  select(state, county, population, professional:production) %>%\n",
        "  # Arrange service in descending order\n",
        "  arrange(desc(service)))\n"
      ],
      "metadata": {
        "colab": {
          "base_uri": "https://localhost:8080/",
          "height": 286
        },
        "id": "6g9Kwyhmj70S",
        "outputId": "7bdea3e5-6d9f-4210-a4f6-df7c396efeef"
      },
      "execution_count": 98,
      "outputs": [
        {
          "output_type": "display_data",
          "data": {
            "text/html": [
              "<table class=\"dataframe\">\n",
              "<caption>A data.frame: 6 × 8</caption>\n",
              "<thead>\n",
              "\t<tr><th></th><th scope=col>state</th><th scope=col>county</th><th scope=col>population</th><th scope=col>professional</th><th scope=col>service</th><th scope=col>office</th><th scope=col>construction</th><th scope=col>production</th></tr>\n",
              "\t<tr><th></th><th scope=col>&lt;chr&gt;</th><th scope=col>&lt;chr&gt;</th><th scope=col>&lt;int&gt;</th><th scope=col>&lt;dbl&gt;</th><th scope=col>&lt;dbl&gt;</th><th scope=col>&lt;dbl&gt;</th><th scope=col>&lt;dbl&gt;</th><th scope=col>&lt;dbl&gt;</th></tr>\n",
              "</thead>\n",
              "<tbody>\n",
              "\t<tr><th scope=row>1</th><td>Mississippi</td><td>Tunica </td><td>  10477</td><td>23.9</td><td>36.6</td><td>21.5</td><td> 3.5</td><td>14.5</td></tr>\n",
              "\t<tr><th scope=row>2</th><td>Texas      </td><td>Kinney </td><td>   3577</td><td>30.0</td><td>36.5</td><td>11.6</td><td>20.5</td><td> 1.3</td></tr>\n",
              "\t<tr><th scope=row>3</th><td>Texas      </td><td>Kenedy </td><td>    565</td><td>24.9</td><td>34.1</td><td>20.5</td><td>20.5</td><td> 0.0</td></tr>\n",
              "\t<tr><th scope=row>4</th><td>New York   </td><td>Bronx  </td><td>1428357</td><td>24.3</td><td>33.3</td><td>24.2</td><td> 7.1</td><td>11.0</td></tr>\n",
              "\t<tr><th scope=row>5</th><td>Texas      </td><td>Brooks </td><td>   7221</td><td>19.6</td><td>32.4</td><td>25.3</td><td>11.1</td><td>11.5</td></tr>\n",
              "\t<tr><th scope=row>6</th><td>Colorado   </td><td>Fremont</td><td>  46809</td><td>26.6</td><td>32.2</td><td>22.8</td><td>10.7</td><td> 7.6</td></tr>\n",
              "</tbody>\n",
              "</table>\n"
            ],
            "text/markdown": "\nA data.frame: 6 × 8\n\n| <!--/--> | state &lt;chr&gt; | county &lt;chr&gt; | population &lt;int&gt; | professional &lt;dbl&gt; | service &lt;dbl&gt; | office &lt;dbl&gt; | construction &lt;dbl&gt; | production &lt;dbl&gt; |\n|---|---|---|---|---|---|---|---|---|\n| 1 | Mississippi | Tunica  |   10477 | 23.9 | 36.6 | 21.5 |  3.5 | 14.5 |\n| 2 | Texas       | Kinney  |    3577 | 30.0 | 36.5 | 11.6 | 20.5 |  1.3 |\n| 3 | Texas       | Kenedy  |     565 | 24.9 | 34.1 | 20.5 | 20.5 |  0.0 |\n| 4 | New York    | Bronx   | 1428357 | 24.3 | 33.3 | 24.2 |  7.1 | 11.0 |\n| 5 | Texas       | Brooks  |    7221 | 19.6 | 32.4 | 25.3 | 11.1 | 11.5 |\n| 6 | Colorado    | Fremont |   46809 | 26.6 | 32.2 | 22.8 | 10.7 |  7.6 |\n\n",
            "text/latex": "A data.frame: 6 × 8\n\\begin{tabular}{r|llllllll}\n  & state & county & population & professional & service & office & construction & production\\\\\n  & <chr> & <chr> & <int> & <dbl> & <dbl> & <dbl> & <dbl> & <dbl>\\\\\n\\hline\n\t1 & Mississippi & Tunica  &   10477 & 23.9 & 36.6 & 21.5 &  3.5 & 14.5\\\\\n\t2 & Texas       & Kinney  &    3577 & 30.0 & 36.5 & 11.6 & 20.5 &  1.3\\\\\n\t3 & Texas       & Kenedy  &     565 & 24.9 & 34.1 & 20.5 & 20.5 &  0.0\\\\\n\t4 & New York    & Bronx   & 1428357 & 24.3 & 33.3 & 24.2 &  7.1 & 11.0\\\\\n\t5 & Texas       & Brooks  &    7221 & 19.6 & 32.4 & 25.3 & 11.1 & 11.5\\\\\n\t6 & Colorado    & Fremont &   46809 & 26.6 & 32.2 & 22.8 & 10.7 &  7.6\\\\\n\\end{tabular}\n",
            "text/plain": [
              "  state       county  population professional service office construction\n",
              "1 Mississippi Tunica    10477    23.9         36.6    21.5    3.5        \n",
              "2 Texas       Kinney     3577    30.0         36.5    11.6   20.5        \n",
              "3 Texas       Kenedy      565    24.9         34.1    20.5   20.5        \n",
              "4 New York    Bronx   1428357    24.3         33.3    24.2    7.1        \n",
              "5 Texas       Brooks     7221    19.6         32.4    25.3   11.1        \n",
              "6 Colorado    Fremont   46809    26.6         32.2    22.8   10.7        \n",
              "  production\n",
              "1 14.5      \n",
              "2  1.3      \n",
              "3  0.0      \n",
              "4 11.0      \n",
              "5 11.5      \n",
              "6  7.6      "
            ]
          },
          "metadata": {}
        }
      ]
    },
    {
      "cell_type": "markdown",
      "source": [
        "### Select helpers\n",
        "In the video you learned about the select helper starts_with(). Another select helper is ends_with(), which finds the columns that end with a particular string."
      ],
      "metadata": {
        "id": "FhgvbjYSlk--"
      }
    },
    {
      "cell_type": "code",
      "source": [
        "counties %>%\n",
        "  # Select the state, county, population, and those ending with \"work\"\n",
        "  select(state, county, population, ends_with(\"work\")) %>%\n",
        "  # Filter for counties that have at least 50% of people engaged in public work\n",
        "  filter(public_work > 50)\n"
      ],
      "metadata": {
        "colab": {
          "base_uri": "https://localhost:8080/",
          "height": 318
        },
        "id": "bcTcvaM_llGu",
        "outputId": "e8072494-a01c-4535-8282-ff36de3ee680"
      },
      "execution_count": 99,
      "outputs": [
        {
          "output_type": "display_data",
          "data": {
            "text/html": [
              "<table class=\"dataframe\">\n",
              "<caption>A data.frame: 7 × 6</caption>\n",
              "<thead>\n",
              "\t<tr><th scope=col>state</th><th scope=col>county</th><th scope=col>population</th><th scope=col>private_work</th><th scope=col>public_work</th><th scope=col>family_work</th></tr>\n",
              "\t<tr><th scope=col>&lt;chr&gt;</th><th scope=col>&lt;chr&gt;</th><th scope=col>&lt;int&gt;</th><th scope=col>&lt;dbl&gt;</th><th scope=col>&lt;dbl&gt;</th><th scope=col>&lt;dbl&gt;</th></tr>\n",
              "</thead>\n",
              "<tbody>\n",
              "\t<tr><td>Alaska      </td><td>Lake and Peninsula Borough</td><td> 1474</td><td>42.2</td><td>51.6</td><td>0.2</td></tr>\n",
              "\t<tr><td>Alaska      </td><td>Yukon-Koyukuk Census Area </td><td> 5644</td><td>33.3</td><td>61.7</td><td>0.0</td></tr>\n",
              "\t<tr><td>California  </td><td>Lassen                    </td><td>32645</td><td>42.6</td><td>50.5</td><td>0.1</td></tr>\n",
              "\t<tr><td>Hawaii      </td><td>Kalawao                   </td><td>   85</td><td>25.0</td><td>64.1</td><td>0.0</td></tr>\n",
              "\t<tr><td>North Dakota</td><td>Sioux                     </td><td> 4380</td><td>32.9</td><td>56.8</td><td>0.1</td></tr>\n",
              "\t<tr><td>South Dakota</td><td>Todd                      </td><td> 9942</td><td>34.4</td><td>55.0</td><td>0.8</td></tr>\n",
              "\t<tr><td>Wisconsin   </td><td>Menominee                 </td><td> 4451</td><td>36.8</td><td>59.1</td><td>0.4</td></tr>\n",
              "</tbody>\n",
              "</table>\n"
            ],
            "text/markdown": "\nA data.frame: 7 × 6\n\n| state &lt;chr&gt; | county &lt;chr&gt; | population &lt;int&gt; | private_work &lt;dbl&gt; | public_work &lt;dbl&gt; | family_work &lt;dbl&gt; |\n|---|---|---|---|---|---|\n| Alaska       | Lake and Peninsula Borough |  1474 | 42.2 | 51.6 | 0.2 |\n| Alaska       | Yukon-Koyukuk Census Area  |  5644 | 33.3 | 61.7 | 0.0 |\n| California   | Lassen                     | 32645 | 42.6 | 50.5 | 0.1 |\n| Hawaii       | Kalawao                    |    85 | 25.0 | 64.1 | 0.0 |\n| North Dakota | Sioux                      |  4380 | 32.9 | 56.8 | 0.1 |\n| South Dakota | Todd                       |  9942 | 34.4 | 55.0 | 0.8 |\n| Wisconsin    | Menominee                  |  4451 | 36.8 | 59.1 | 0.4 |\n\n",
            "text/latex": "A data.frame: 7 × 6\n\\begin{tabular}{llllll}\n state & county & population & private\\_work & public\\_work & family\\_work\\\\\n <chr> & <chr> & <int> & <dbl> & <dbl> & <dbl>\\\\\n\\hline\n\t Alaska       & Lake and Peninsula Borough &  1474 & 42.2 & 51.6 & 0.2\\\\\n\t Alaska       & Yukon-Koyukuk Census Area  &  5644 & 33.3 & 61.7 & 0.0\\\\\n\t California   & Lassen                     & 32645 & 42.6 & 50.5 & 0.1\\\\\n\t Hawaii       & Kalawao                    &    85 & 25.0 & 64.1 & 0.0\\\\\n\t North Dakota & Sioux                      &  4380 & 32.9 & 56.8 & 0.1\\\\\n\t South Dakota & Todd                       &  9942 & 34.4 & 55.0 & 0.8\\\\\n\t Wisconsin    & Menominee                  &  4451 & 36.8 & 59.1 & 0.4\\\\\n\\end{tabular}\n",
            "text/plain": [
              "  state        county                     population private_work public_work\n",
              "1 Alaska       Lake and Peninsula Borough  1474      42.2         51.6       \n",
              "2 Alaska       Yukon-Koyukuk Census Area   5644      33.3         61.7       \n",
              "3 California   Lassen                     32645      42.6         50.5       \n",
              "4 Hawaii       Kalawao                       85      25.0         64.1       \n",
              "5 North Dakota Sioux                       4380      32.9         56.8       \n",
              "6 South Dakota Todd                        9942      34.4         55.0       \n",
              "7 Wisconsin    Menominee                   4451      36.8         59.1       \n",
              "  family_work\n",
              "1 0.2        \n",
              "2 0.0        \n",
              "3 0.1        \n",
              "4 0.0        \n",
              "5 0.1        \n",
              "6 0.8        \n",
              "7 0.4        "
            ]
          },
          "metadata": {}
        }
      ]
    },
    {
      "cell_type": "markdown",
      "source": [
        "### Renaming a column after count\n",
        "The rename() verb is often useful for changing the name of a column that comes out of another verb, such as count(). In this exercise, you'll rename the default n column generated from count() to something more descriptive."
      ],
      "metadata": {
        "id": "lQqDxMAQnUd3"
      }
    },
    {
      "cell_type": "code",
      "source": [
        "head(counties %>%\n",
        "  # Count the number of counties in each state\n",
        "  count(state))\n"
      ],
      "metadata": {
        "colab": {
          "base_uri": "https://localhost:8080/",
          "height": 286
        },
        "id": "wd5nJzBnnUkZ",
        "outputId": "8565e61b-e1e3-4fa3-cff8-67488a9541c4"
      },
      "execution_count": 100,
      "outputs": [
        {
          "output_type": "display_data",
          "data": {
            "text/html": [
              "<table class=\"dataframe\">\n",
              "<caption>A data.frame: 6 × 2</caption>\n",
              "<thead>\n",
              "\t<tr><th></th><th scope=col>state</th><th scope=col>n</th></tr>\n",
              "\t<tr><th></th><th scope=col>&lt;chr&gt;</th><th scope=col>&lt;int&gt;</th></tr>\n",
              "</thead>\n",
              "<tbody>\n",
              "\t<tr><th scope=row>1</th><td>Alabama   </td><td>67</td></tr>\n",
              "\t<tr><th scope=row>2</th><td>Alaska    </td><td>28</td></tr>\n",
              "\t<tr><th scope=row>3</th><td>Arizona   </td><td>15</td></tr>\n",
              "\t<tr><th scope=row>4</th><td>Arkansas  </td><td>75</td></tr>\n",
              "\t<tr><th scope=row>5</th><td>California</td><td>58</td></tr>\n",
              "\t<tr><th scope=row>6</th><td>Colorado  </td><td>64</td></tr>\n",
              "</tbody>\n",
              "</table>\n"
            ],
            "text/markdown": "\nA data.frame: 6 × 2\n\n| <!--/--> | state &lt;chr&gt; | n &lt;int&gt; |\n|---|---|---|\n| 1 | Alabama    | 67 |\n| 2 | Alaska     | 28 |\n| 3 | Arizona    | 15 |\n| 4 | Arkansas   | 75 |\n| 5 | California | 58 |\n| 6 | Colorado   | 64 |\n\n",
            "text/latex": "A data.frame: 6 × 2\n\\begin{tabular}{r|ll}\n  & state & n\\\\\n  & <chr> & <int>\\\\\n\\hline\n\t1 & Alabama    & 67\\\\\n\t2 & Alaska     & 28\\\\\n\t3 & Arizona    & 15\\\\\n\t4 & Arkansas   & 75\\\\\n\t5 & California & 58\\\\\n\t6 & Colorado   & 64\\\\\n\\end{tabular}\n",
            "text/plain": [
              "  state      n \n",
              "1 Alabama    67\n",
              "2 Alaska     28\n",
              "3 Arizona    15\n",
              "4 Arkansas   75\n",
              "5 California 58\n",
              "6 Colorado   64"
            ]
          },
          "metadata": {}
        }
      ]
    },
    {
      "cell_type": "code",
      "source": [
        "head(counties %>%\n",
        "  # Count the number of counties in each state\n",
        "  count(state) %>%\n",
        "  # Rename the n column to num_counties\n",
        "  rename(num_counties = n))\n"
      ],
      "metadata": {
        "colab": {
          "base_uri": "https://localhost:8080/",
          "height": 286
        },
        "id": "GpkDnnayn1Sf",
        "outputId": "b719c77b-1444-473b-e6c7-928855e7c0ad"
      },
      "execution_count": 101,
      "outputs": [
        {
          "output_type": "display_data",
          "data": {
            "text/html": [
              "<table class=\"dataframe\">\n",
              "<caption>A data.frame: 6 × 2</caption>\n",
              "<thead>\n",
              "\t<tr><th></th><th scope=col>state</th><th scope=col>num_counties</th></tr>\n",
              "\t<tr><th></th><th scope=col>&lt;chr&gt;</th><th scope=col>&lt;int&gt;</th></tr>\n",
              "</thead>\n",
              "<tbody>\n",
              "\t<tr><th scope=row>1</th><td>Alabama   </td><td>67</td></tr>\n",
              "\t<tr><th scope=row>2</th><td>Alaska    </td><td>28</td></tr>\n",
              "\t<tr><th scope=row>3</th><td>Arizona   </td><td>15</td></tr>\n",
              "\t<tr><th scope=row>4</th><td>Arkansas  </td><td>75</td></tr>\n",
              "\t<tr><th scope=row>5</th><td>California</td><td>58</td></tr>\n",
              "\t<tr><th scope=row>6</th><td>Colorado  </td><td>64</td></tr>\n",
              "</tbody>\n",
              "</table>\n"
            ],
            "text/markdown": "\nA data.frame: 6 × 2\n\n| <!--/--> | state &lt;chr&gt; | num_counties &lt;int&gt; |\n|---|---|---|\n| 1 | Alabama    | 67 |\n| 2 | Alaska     | 28 |\n| 3 | Arizona    | 15 |\n| 4 | Arkansas   | 75 |\n| 5 | California | 58 |\n| 6 | Colorado   | 64 |\n\n",
            "text/latex": "A data.frame: 6 × 2\n\\begin{tabular}{r|ll}\n  & state & num\\_counties\\\\\n  & <chr> & <int>\\\\\n\\hline\n\t1 & Alabama    & 67\\\\\n\t2 & Alaska     & 28\\\\\n\t3 & Arizona    & 15\\\\\n\t4 & Arkansas   & 75\\\\\n\t5 & California & 58\\\\\n\t6 & Colorado   & 64\\\\\n\\end{tabular}\n",
            "text/plain": [
              "  state      num_counties\n",
              "1 Alabama    67          \n",
              "2 Alaska     28          \n",
              "3 Arizona    15          \n",
              "4 Arkansas   75          \n",
              "5 California 58          \n",
              "6 Colorado   64          "
            ]
          },
          "metadata": {}
        }
      ]
    },
    {
      "cell_type": "markdown",
      "source": [
        "### Renaming a column as part of a select\n",
        "rename() isn't the only way you can choose a new name for a column; you can also choose a name as part of a select()."
      ],
      "metadata": {
        "id": "T09TZXEaoC0A"
      }
    },
    {
      "cell_type": "code",
      "source": [
        "head(counties %>%\n",
        "  # Select state, county, and poverty as poverty_rate\n",
        "  select(state, county, poverty_rate = poverty))\n"
      ],
      "metadata": {
        "colab": {
          "base_uri": "https://localhost:8080/",
          "height": 286
        },
        "id": "v0Jws6Mmn1Wf",
        "outputId": "2488add3-af7f-4d09-e455-04456037dc59"
      },
      "execution_count": 102,
      "outputs": [
        {
          "output_type": "display_data",
          "data": {
            "text/html": [
              "<table class=\"dataframe\">\n",
              "<caption>A data.frame: 6 × 3</caption>\n",
              "<thead>\n",
              "\t<tr><th></th><th scope=col>state</th><th scope=col>county</th><th scope=col>poverty_rate</th></tr>\n",
              "\t<tr><th></th><th scope=col>&lt;chr&gt;</th><th scope=col>&lt;chr&gt;</th><th scope=col>&lt;dbl&gt;</th></tr>\n",
              "</thead>\n",
              "<tbody>\n",
              "\t<tr><th scope=row>1</th><td>Alabama</td><td>Autauga</td><td>12.9</td></tr>\n",
              "\t<tr><th scope=row>2</th><td>Alabama</td><td>Baldwin</td><td>13.4</td></tr>\n",
              "\t<tr><th scope=row>3</th><td>Alabama</td><td>Barbour</td><td>26.7</td></tr>\n",
              "\t<tr><th scope=row>4</th><td>Alabama</td><td>Bibb   </td><td>16.8</td></tr>\n",
              "\t<tr><th scope=row>5</th><td>Alabama</td><td>Blount </td><td>16.7</td></tr>\n",
              "\t<tr><th scope=row>6</th><td>Alabama</td><td>Bullock</td><td>24.6</td></tr>\n",
              "</tbody>\n",
              "</table>\n"
            ],
            "text/markdown": "\nA data.frame: 6 × 3\n\n| <!--/--> | state &lt;chr&gt; | county &lt;chr&gt; | poverty_rate &lt;dbl&gt; |\n|---|---|---|---|\n| 1 | Alabama | Autauga | 12.9 |\n| 2 | Alabama | Baldwin | 13.4 |\n| 3 | Alabama | Barbour | 26.7 |\n| 4 | Alabama | Bibb    | 16.8 |\n| 5 | Alabama | Blount  | 16.7 |\n| 6 | Alabama | Bullock | 24.6 |\n\n",
            "text/latex": "A data.frame: 6 × 3\n\\begin{tabular}{r|lll}\n  & state & county & poverty\\_rate\\\\\n  & <chr> & <chr> & <dbl>\\\\\n\\hline\n\t1 & Alabama & Autauga & 12.9\\\\\n\t2 & Alabama & Baldwin & 13.4\\\\\n\t3 & Alabama & Barbour & 26.7\\\\\n\t4 & Alabama & Bibb    & 16.8\\\\\n\t5 & Alabama & Blount  & 16.7\\\\\n\t6 & Alabama & Bullock & 24.6\\\\\n\\end{tabular}\n",
            "text/plain": [
              "  state   county  poverty_rate\n",
              "1 Alabama Autauga 12.9        \n",
              "2 Alabama Baldwin 13.4        \n",
              "3 Alabama Barbour 26.7        \n",
              "4 Alabama Bibb    16.8        \n",
              "5 Alabama Blount  16.7        \n",
              "6 Alabama Bullock 24.6        "
            ]
          },
          "metadata": {}
        }
      ]
    },
    {
      "cell_type": "markdown",
      "source": [
        "### Summary\n",
        "\n",
        "\n",
        "```\n",
        "                    | keeps only specificed vars. | Keeps other vars.\n",
        "-----------------------------------------------------------------------\n",
        "Can't change values |            select()         |       rename()\n",
        "-----------------------------------------------------------------------\n",
        "Can change values   |          transmute()        |       mutate()\n",
        "\n",
        "```\n",
        "\n"
      ],
      "metadata": {
        "id": "a-BJe_FNogvf"
      }
    },
    {
      "cell_type": "markdown",
      "source": [
        "### Using transmute\n",
        "As you learned in the video, the transmute verb allows you to control which variables you keep, which variables you calculate, and which variables you drop.\n"
      ],
      "metadata": {
        "id": "wO29tZN1pzXf"
      }
    },
    {
      "cell_type": "code",
      "source": [
        "head(counties %>%\n",
        "  # Keep the state, county, and populations columns, and add a density column\n",
        "  transmute(state, county, population, density = population / land_area) %>%\n",
        "  # Filter for counties with a population greater than one million\n",
        "  filter(population > 1000000) %>%\n",
        "  # Sort density in ascending order\n",
        "  arrange(density))\n",
        ""
      ],
      "metadata": {
        "colab": {
          "base_uri": "https://localhost:8080/",
          "height": 286
        },
        "id": "IKtI67ELog3v",
        "outputId": "1209fe48-0a8a-4bf4-ae79-b24e9b1c1177"
      },
      "execution_count": 103,
      "outputs": [
        {
          "output_type": "display_data",
          "data": {
            "text/html": [
              "<table class=\"dataframe\">\n",
              "<caption>A data.frame: 6 × 4</caption>\n",
              "<thead>\n",
              "\t<tr><th></th><th scope=col>state</th><th scope=col>county</th><th scope=col>population</th><th scope=col>density</th></tr>\n",
              "\t<tr><th></th><th scope=col>&lt;chr&gt;</th><th scope=col>&lt;chr&gt;</th><th scope=col>&lt;int&gt;</th><th scope=col>&lt;dbl&gt;</th></tr>\n",
              "</thead>\n",
              "<tbody>\n",
              "\t<tr><th scope=row>1</th><td>California</td><td>San Bernardino</td><td>2094769</td><td>104.4411</td></tr>\n",
              "\t<tr><th scope=row>2</th><td>Nevada    </td><td>Clark         </td><td>2035572</td><td>257.9472</td></tr>\n",
              "\t<tr><th scope=row>3</th><td>California</td><td>Riverside     </td><td>2298032</td><td>318.8841</td></tr>\n",
              "\t<tr><th scope=row>4</th><td>Arizona   </td><td>Maricopa      </td><td>4018143</td><td>436.7480</td></tr>\n",
              "\t<tr><th scope=row>5</th><td>Florida   </td><td>Palm Beach    </td><td>1378806</td><td>699.9868</td></tr>\n",
              "\t<tr><th scope=row>6</th><td>California</td><td>San Diego     </td><td>3223096</td><td>766.1943</td></tr>\n",
              "</tbody>\n",
              "</table>\n"
            ],
            "text/markdown": "\nA data.frame: 6 × 4\n\n| <!--/--> | state &lt;chr&gt; | county &lt;chr&gt; | population &lt;int&gt; | density &lt;dbl&gt; |\n|---|---|---|---|---|\n| 1 | California | San Bernardino | 2094769 | 104.4411 |\n| 2 | Nevada     | Clark          | 2035572 | 257.9472 |\n| 3 | California | Riverside      | 2298032 | 318.8841 |\n| 4 | Arizona    | Maricopa       | 4018143 | 436.7480 |\n| 5 | Florida    | Palm Beach     | 1378806 | 699.9868 |\n| 6 | California | San Diego      | 3223096 | 766.1943 |\n\n",
            "text/latex": "A data.frame: 6 × 4\n\\begin{tabular}{r|llll}\n  & state & county & population & density\\\\\n  & <chr> & <chr> & <int> & <dbl>\\\\\n\\hline\n\t1 & California & San Bernardino & 2094769 & 104.4411\\\\\n\t2 & Nevada     & Clark          & 2035572 & 257.9472\\\\\n\t3 & California & Riverside      & 2298032 & 318.8841\\\\\n\t4 & Arizona    & Maricopa       & 4018143 & 436.7480\\\\\n\t5 & Florida    & Palm Beach     & 1378806 & 699.9868\\\\\n\t6 & California & San Diego      & 3223096 & 766.1943\\\\\n\\end{tabular}\n",
            "text/plain": [
              "  state      county         population density \n",
              "1 California San Bernardino 2094769    104.4411\n",
              "2 Nevada     Clark          2035572    257.9472\n",
              "3 California Riverside      2298032    318.8841\n",
              "4 Arizona    Maricopa       4018143    436.7480\n",
              "5 Florida    Palm Beach     1378806    699.9868\n",
              "6 California San Diego      3223096    766.1943"
            ]
          },
          "metadata": {}
        }
      ]
    },
    {
      "cell_type": "markdown",
      "source": [
        "### Choosing among the four verbs\n",
        "In this chapter you've learned about the four verbs: select, mutate, transmute, and rename. Here, you'll choose the appropriate verb for each situation. You won't need to change anything inside the parentheses."
      ],
      "metadata": {
        "id": "dgybQBmwrgvM"
      }
    },
    {
      "cell_type": "code",
      "source": [
        "# Change the name of the unemployment column\n",
        "head(counties %>%\n",
        "  rename(unemployment_rate = unemployment) )\n"
      ],
      "metadata": {
        "colab": {
          "base_uri": "https://localhost:8080/",
          "height": 286
        },
        "id": "XYSxkDblrg2i",
        "outputId": "4c68c068-2668-4539-8991-5d004b605806"
      },
      "execution_count": 104,
      "outputs": [
        {
          "output_type": "display_data",
          "data": {
            "text/html": [
              "<table class=\"dataframe\">\n",
              "<caption>A data.frame: 6 × 40</caption>\n",
              "<thead>\n",
              "\t<tr><th></th><th scope=col>census_id</th><th scope=col>state</th><th scope=col>county</th><th scope=col>region</th><th scope=col>metro</th><th scope=col>population</th><th scope=col>men</th><th scope=col>women</th><th scope=col>hispanic</th><th scope=col>white</th><th scope=col>⋯</th><th scope=col>other_transp</th><th scope=col>work_at_home</th><th scope=col>mean_commute</th><th scope=col>employed</th><th scope=col>private_work</th><th scope=col>public_work</th><th scope=col>self_employed</th><th scope=col>family_work</th><th scope=col>unemployment_rate</th><th scope=col>land_area</th></tr>\n",
              "\t<tr><th></th><th scope=col>&lt;int&gt;</th><th scope=col>&lt;chr&gt;</th><th scope=col>&lt;chr&gt;</th><th scope=col>&lt;chr&gt;</th><th scope=col>&lt;chr&gt;</th><th scope=col>&lt;int&gt;</th><th scope=col>&lt;int&gt;</th><th scope=col>&lt;int&gt;</th><th scope=col>&lt;dbl&gt;</th><th scope=col>&lt;dbl&gt;</th><th scope=col>⋯</th><th scope=col>&lt;dbl&gt;</th><th scope=col>&lt;dbl&gt;</th><th scope=col>&lt;dbl&gt;</th><th scope=col>&lt;int&gt;</th><th scope=col>&lt;dbl&gt;</th><th scope=col>&lt;dbl&gt;</th><th scope=col>&lt;dbl&gt;</th><th scope=col>&lt;dbl&gt;</th><th scope=col>&lt;dbl&gt;</th><th scope=col>&lt;dbl&gt;</th></tr>\n",
              "</thead>\n",
              "<tbody>\n",
              "\t<tr><th scope=row>1</th><td>1001</td><td>Alabama</td><td>Autauga</td><td>South</td><td>Metro   </td><td> 55221</td><td>26745</td><td>28476</td><td>2.6</td><td>75.8</td><td>⋯</td><td>1.3</td><td>1.8</td><td>26.5</td><td>23986</td><td>73.6</td><td>20.9</td><td>5.5</td><td>0.0</td><td> 7.6</td><td> 594.44</td></tr>\n",
              "\t<tr><th scope=row>2</th><td>1003</td><td>Alabama</td><td>Baldwin</td><td>South</td><td>Metro   </td><td>195121</td><td>95314</td><td>99807</td><td>4.5</td><td>83.1</td><td>⋯</td><td>1.4</td><td>3.9</td><td>26.4</td><td>85953</td><td>81.5</td><td>12.3</td><td>5.8</td><td>0.4</td><td> 7.5</td><td>1589.78</td></tr>\n",
              "\t<tr><th scope=row>3</th><td>1005</td><td>Alabama</td><td>Barbour</td><td>South</td><td>Nonmetro</td><td> 26932</td><td>14497</td><td>12435</td><td>4.6</td><td>46.2</td><td>⋯</td><td>1.5</td><td>1.6</td><td>24.1</td><td> 8597</td><td>71.8</td><td>20.8</td><td>7.3</td><td>0.1</td><td>17.6</td><td> 884.88</td></tr>\n",
              "\t<tr><th scope=row>4</th><td>1007</td><td>Alabama</td><td>Bibb   </td><td>South</td><td>Metro   </td><td> 22604</td><td>12073</td><td>10531</td><td>2.2</td><td>74.5</td><td>⋯</td><td>1.5</td><td>0.7</td><td>28.8</td><td> 8294</td><td>76.8</td><td>16.1</td><td>6.7</td><td>0.4</td><td> 8.3</td><td> 622.58</td></tr>\n",
              "\t<tr><th scope=row>5</th><td>1009</td><td>Alabama</td><td>Blount </td><td>South</td><td>Metro   </td><td> 57710</td><td>28512</td><td>29198</td><td>8.6</td><td>87.9</td><td>⋯</td><td>0.4</td><td>2.3</td><td>34.9</td><td>22189</td><td>82.0</td><td>13.5</td><td>4.2</td><td>0.4</td><td> 7.7</td><td> 644.78</td></tr>\n",
              "\t<tr><th scope=row>6</th><td>1011</td><td>Alabama</td><td>Bullock</td><td>South</td><td>Nonmetro</td><td> 10678</td><td> 5660</td><td> 5018</td><td>4.4</td><td>22.2</td><td>⋯</td><td>1.7</td><td>2.8</td><td>27.5</td><td> 3865</td><td>79.5</td><td>15.1</td><td>5.4</td><td>0.0</td><td>18.0</td><td> 622.81</td></tr>\n",
              "</tbody>\n",
              "</table>\n"
            ],
            "text/markdown": "\nA data.frame: 6 × 40\n\n| <!--/--> | census_id &lt;int&gt; | state &lt;chr&gt; | county &lt;chr&gt; | region &lt;chr&gt; | metro &lt;chr&gt; | population &lt;int&gt; | men &lt;int&gt; | women &lt;int&gt; | hispanic &lt;dbl&gt; | white &lt;dbl&gt; | ⋯ ⋯ | other_transp &lt;dbl&gt; | work_at_home &lt;dbl&gt; | mean_commute &lt;dbl&gt; | employed &lt;int&gt; | private_work &lt;dbl&gt; | public_work &lt;dbl&gt; | self_employed &lt;dbl&gt; | family_work &lt;dbl&gt; | unemployment_rate &lt;dbl&gt; | land_area &lt;dbl&gt; |\n|---|---|---|---|---|---|---|---|---|---|---|---|---|---|---|---|---|---|---|---|---|---|\n| 1 | 1001 | Alabama | Autauga | South | Metro    |  55221 | 26745 | 28476 | 2.6 | 75.8 | ⋯ | 1.3 | 1.8 | 26.5 | 23986 | 73.6 | 20.9 | 5.5 | 0.0 |  7.6 |  594.44 |\n| 2 | 1003 | Alabama | Baldwin | South | Metro    | 195121 | 95314 | 99807 | 4.5 | 83.1 | ⋯ | 1.4 | 3.9 | 26.4 | 85953 | 81.5 | 12.3 | 5.8 | 0.4 |  7.5 | 1589.78 |\n| 3 | 1005 | Alabama | Barbour | South | Nonmetro |  26932 | 14497 | 12435 | 4.6 | 46.2 | ⋯ | 1.5 | 1.6 | 24.1 |  8597 | 71.8 | 20.8 | 7.3 | 0.1 | 17.6 |  884.88 |\n| 4 | 1007 | Alabama | Bibb    | South | Metro    |  22604 | 12073 | 10531 | 2.2 | 74.5 | ⋯ | 1.5 | 0.7 | 28.8 |  8294 | 76.8 | 16.1 | 6.7 | 0.4 |  8.3 |  622.58 |\n| 5 | 1009 | Alabama | Blount  | South | Metro    |  57710 | 28512 | 29198 | 8.6 | 87.9 | ⋯ | 0.4 | 2.3 | 34.9 | 22189 | 82.0 | 13.5 | 4.2 | 0.4 |  7.7 |  644.78 |\n| 6 | 1011 | Alabama | Bullock | South | Nonmetro |  10678 |  5660 |  5018 | 4.4 | 22.2 | ⋯ | 1.7 | 2.8 | 27.5 |  3865 | 79.5 | 15.1 | 5.4 | 0.0 | 18.0 |  622.81 |\n\n",
            "text/latex": "A data.frame: 6 × 40\n\\begin{tabular}{r|lllllllllllllllllllll}\n  & census\\_id & state & county & region & metro & population & men & women & hispanic & white & ⋯ & other\\_transp & work\\_at\\_home & mean\\_commute & employed & private\\_work & public\\_work & self\\_employed & family\\_work & unemployment\\_rate & land\\_area\\\\\n  & <int> & <chr> & <chr> & <chr> & <chr> & <int> & <int> & <int> & <dbl> & <dbl> & ⋯ & <dbl> & <dbl> & <dbl> & <int> & <dbl> & <dbl> & <dbl> & <dbl> & <dbl> & <dbl>\\\\\n\\hline\n\t1 & 1001 & Alabama & Autauga & South & Metro    &  55221 & 26745 & 28476 & 2.6 & 75.8 & ⋯ & 1.3 & 1.8 & 26.5 & 23986 & 73.6 & 20.9 & 5.5 & 0.0 &  7.6 &  594.44\\\\\n\t2 & 1003 & Alabama & Baldwin & South & Metro    & 195121 & 95314 & 99807 & 4.5 & 83.1 & ⋯ & 1.4 & 3.9 & 26.4 & 85953 & 81.5 & 12.3 & 5.8 & 0.4 &  7.5 & 1589.78\\\\\n\t3 & 1005 & Alabama & Barbour & South & Nonmetro &  26932 & 14497 & 12435 & 4.6 & 46.2 & ⋯ & 1.5 & 1.6 & 24.1 &  8597 & 71.8 & 20.8 & 7.3 & 0.1 & 17.6 &  884.88\\\\\n\t4 & 1007 & Alabama & Bibb    & South & Metro    &  22604 & 12073 & 10531 & 2.2 & 74.5 & ⋯ & 1.5 & 0.7 & 28.8 &  8294 & 76.8 & 16.1 & 6.7 & 0.4 &  8.3 &  622.58\\\\\n\t5 & 1009 & Alabama & Blount  & South & Metro    &  57710 & 28512 & 29198 & 8.6 & 87.9 & ⋯ & 0.4 & 2.3 & 34.9 & 22189 & 82.0 & 13.5 & 4.2 & 0.4 &  7.7 &  644.78\\\\\n\t6 & 1011 & Alabama & Bullock & South & Nonmetro &  10678 &  5660 &  5018 & 4.4 & 22.2 & ⋯ & 1.7 & 2.8 & 27.5 &  3865 & 79.5 & 15.1 & 5.4 & 0.0 & 18.0 &  622.81\\\\\n\\end{tabular}\n",
            "text/plain": [
              "  census_id state   county  region metro    population men   women hispanic\n",
              "1 1001      Alabama Autauga South  Metro     55221     26745 28476 2.6     \n",
              "2 1003      Alabama Baldwin South  Metro    195121     95314 99807 4.5     \n",
              "3 1005      Alabama Barbour South  Nonmetro  26932     14497 12435 4.6     \n",
              "4 1007      Alabama Bibb    South  Metro     22604     12073 10531 2.2     \n",
              "5 1009      Alabama Blount  South  Metro     57710     28512 29198 8.6     \n",
              "6 1011      Alabama Bullock South  Nonmetro  10678      5660  5018 4.4     \n",
              "  white ⋯ other_transp work_at_home mean_commute employed private_work\n",
              "1 75.8  ⋯ 1.3          1.8          26.5         23986    73.6        \n",
              "2 83.1  ⋯ 1.4          3.9          26.4         85953    81.5        \n",
              "3 46.2  ⋯ 1.5          1.6          24.1          8597    71.8        \n",
              "4 74.5  ⋯ 1.5          0.7          28.8          8294    76.8        \n",
              "5 87.9  ⋯ 0.4          2.3          34.9         22189    82.0        \n",
              "6 22.2  ⋯ 1.7          2.8          27.5          3865    79.5        \n",
              "  public_work self_employed family_work unemployment_rate land_area\n",
              "1 20.9        5.5           0.0          7.6               594.44  \n",
              "2 12.3        5.8           0.4          7.5              1589.78  \n",
              "3 20.8        7.3           0.1         17.6               884.88  \n",
              "4 16.1        6.7           0.4          8.3               622.58  \n",
              "5 13.5        4.2           0.4          7.7               644.78  \n",
              "6 15.1        5.4           0.0         18.0               622.81  "
            ]
          },
          "metadata": {}
        }
      ]
    },
    {
      "cell_type": "code",
      "source": [
        "# Keep the state and county columns, and the columns containing poverty\n",
        "head(counties %>%\n",
        "  select(state, county, contains(\"poverty\")) )\n"
      ],
      "metadata": {
        "colab": {
          "base_uri": "https://localhost:8080/",
          "height": 286
        },
        "id": "rFvRmkdRsRTm",
        "outputId": "fbd355b6-ca79-4e6a-fad9-c67854c8254e"
      },
      "execution_count": 105,
      "outputs": [
        {
          "output_type": "display_data",
          "data": {
            "text/html": [
              "<table class=\"dataframe\">\n",
              "<caption>A data.frame: 6 × 4</caption>\n",
              "<thead>\n",
              "\t<tr><th></th><th scope=col>state</th><th scope=col>county</th><th scope=col>poverty</th><th scope=col>child_poverty</th></tr>\n",
              "\t<tr><th></th><th scope=col>&lt;chr&gt;</th><th scope=col>&lt;chr&gt;</th><th scope=col>&lt;dbl&gt;</th><th scope=col>&lt;dbl&gt;</th></tr>\n",
              "</thead>\n",
              "<tbody>\n",
              "\t<tr><th scope=row>1</th><td>Alabama</td><td>Autauga</td><td>12.9</td><td>18.6</td></tr>\n",
              "\t<tr><th scope=row>2</th><td>Alabama</td><td>Baldwin</td><td>13.4</td><td>19.2</td></tr>\n",
              "\t<tr><th scope=row>3</th><td>Alabama</td><td>Barbour</td><td>26.7</td><td>45.3</td></tr>\n",
              "\t<tr><th scope=row>4</th><td>Alabama</td><td>Bibb   </td><td>16.8</td><td>27.9</td></tr>\n",
              "\t<tr><th scope=row>5</th><td>Alabama</td><td>Blount </td><td>16.7</td><td>27.2</td></tr>\n",
              "\t<tr><th scope=row>6</th><td>Alabama</td><td>Bullock</td><td>24.6</td><td>38.4</td></tr>\n",
              "</tbody>\n",
              "</table>\n"
            ],
            "text/markdown": "\nA data.frame: 6 × 4\n\n| <!--/--> | state &lt;chr&gt; | county &lt;chr&gt; | poverty &lt;dbl&gt; | child_poverty &lt;dbl&gt; |\n|---|---|---|---|---|\n| 1 | Alabama | Autauga | 12.9 | 18.6 |\n| 2 | Alabama | Baldwin | 13.4 | 19.2 |\n| 3 | Alabama | Barbour | 26.7 | 45.3 |\n| 4 | Alabama | Bibb    | 16.8 | 27.9 |\n| 5 | Alabama | Blount  | 16.7 | 27.2 |\n| 6 | Alabama | Bullock | 24.6 | 38.4 |\n\n",
            "text/latex": "A data.frame: 6 × 4\n\\begin{tabular}{r|llll}\n  & state & county & poverty & child\\_poverty\\\\\n  & <chr> & <chr> & <dbl> & <dbl>\\\\\n\\hline\n\t1 & Alabama & Autauga & 12.9 & 18.6\\\\\n\t2 & Alabama & Baldwin & 13.4 & 19.2\\\\\n\t3 & Alabama & Barbour & 26.7 & 45.3\\\\\n\t4 & Alabama & Bibb    & 16.8 & 27.9\\\\\n\t5 & Alabama & Blount  & 16.7 & 27.2\\\\\n\t6 & Alabama & Bullock & 24.6 & 38.4\\\\\n\\end{tabular}\n",
            "text/plain": [
              "  state   county  poverty child_poverty\n",
              "1 Alabama Autauga 12.9    18.6         \n",
              "2 Alabama Baldwin 13.4    19.2         \n",
              "3 Alabama Barbour 26.7    45.3         \n",
              "4 Alabama Bibb    16.8    27.9         \n",
              "5 Alabama Blount  16.7    27.2         \n",
              "6 Alabama Bullock 24.6    38.4         "
            ]
          },
          "metadata": {}
        }
      ]
    },
    {
      "cell_type": "code",
      "source": [
        "# Calculate the fraction_women column without dropping the other columns\n",
        "head(counties %>%\n",
        "  select(state, county, contains(\"poverty\")))\n"
      ],
      "metadata": {
        "colab": {
          "base_uri": "https://localhost:8080/",
          "height": 286
        },
        "id": "a61ZzBmOsTOQ",
        "outputId": "c72d89c1-cd61-467c-9f54-26541e1ae1d7"
      },
      "execution_count": 106,
      "outputs": [
        {
          "output_type": "display_data",
          "data": {
            "text/html": [
              "<table class=\"dataframe\">\n",
              "<caption>A data.frame: 6 × 4</caption>\n",
              "<thead>\n",
              "\t<tr><th></th><th scope=col>state</th><th scope=col>county</th><th scope=col>poverty</th><th scope=col>child_poverty</th></tr>\n",
              "\t<tr><th></th><th scope=col>&lt;chr&gt;</th><th scope=col>&lt;chr&gt;</th><th scope=col>&lt;dbl&gt;</th><th scope=col>&lt;dbl&gt;</th></tr>\n",
              "</thead>\n",
              "<tbody>\n",
              "\t<tr><th scope=row>1</th><td>Alabama</td><td>Autauga</td><td>12.9</td><td>18.6</td></tr>\n",
              "\t<tr><th scope=row>2</th><td>Alabama</td><td>Baldwin</td><td>13.4</td><td>19.2</td></tr>\n",
              "\t<tr><th scope=row>3</th><td>Alabama</td><td>Barbour</td><td>26.7</td><td>45.3</td></tr>\n",
              "\t<tr><th scope=row>4</th><td>Alabama</td><td>Bibb   </td><td>16.8</td><td>27.9</td></tr>\n",
              "\t<tr><th scope=row>5</th><td>Alabama</td><td>Blount </td><td>16.7</td><td>27.2</td></tr>\n",
              "\t<tr><th scope=row>6</th><td>Alabama</td><td>Bullock</td><td>24.6</td><td>38.4</td></tr>\n",
              "</tbody>\n",
              "</table>\n"
            ],
            "text/markdown": "\nA data.frame: 6 × 4\n\n| <!--/--> | state &lt;chr&gt; | county &lt;chr&gt; | poverty &lt;dbl&gt; | child_poverty &lt;dbl&gt; |\n|---|---|---|---|---|\n| 1 | Alabama | Autauga | 12.9 | 18.6 |\n| 2 | Alabama | Baldwin | 13.4 | 19.2 |\n| 3 | Alabama | Barbour | 26.7 | 45.3 |\n| 4 | Alabama | Bibb    | 16.8 | 27.9 |\n| 5 | Alabama | Blount  | 16.7 | 27.2 |\n| 6 | Alabama | Bullock | 24.6 | 38.4 |\n\n",
            "text/latex": "A data.frame: 6 × 4\n\\begin{tabular}{r|llll}\n  & state & county & poverty & child\\_poverty\\\\\n  & <chr> & <chr> & <dbl> & <dbl>\\\\\n\\hline\n\t1 & Alabama & Autauga & 12.9 & 18.6\\\\\n\t2 & Alabama & Baldwin & 13.4 & 19.2\\\\\n\t3 & Alabama & Barbour & 26.7 & 45.3\\\\\n\t4 & Alabama & Bibb    & 16.8 & 27.9\\\\\n\t5 & Alabama & Blount  & 16.7 & 27.2\\\\\n\t6 & Alabama & Bullock & 24.6 & 38.4\\\\\n\\end{tabular}\n",
            "text/plain": [
              "  state   county  poverty child_poverty\n",
              "1 Alabama Autauga 12.9    18.6         \n",
              "2 Alabama Baldwin 13.4    19.2         \n",
              "3 Alabama Barbour 26.7    45.3         \n",
              "4 Alabama Bibb    16.8    27.9         \n",
              "5 Alabama Blount  16.7    27.2         \n",
              "6 Alabama Bullock 24.6    38.4         "
            ]
          },
          "metadata": {}
        }
      ]
    },
    {
      "cell_type": "code",
      "source": [
        "# Keep only the state, county, and employment_rate columns\n",
        "head(counties %>%\n",
        "  transmute(state, county, employment_rate = employed / population))\n"
      ],
      "metadata": {
        "colab": {
          "base_uri": "https://localhost:8080/",
          "height": 286
        },
        "id": "FZKt0YibsVHW",
        "outputId": "8d84a1c2-4d28-44c8-bf80-3d4d7769c678"
      },
      "execution_count": 107,
      "outputs": [
        {
          "output_type": "display_data",
          "data": {
            "text/html": [
              "<table class=\"dataframe\">\n",
              "<caption>A data.frame: 6 × 3</caption>\n",
              "<thead>\n",
              "\t<tr><th></th><th scope=col>state</th><th scope=col>county</th><th scope=col>employment_rate</th></tr>\n",
              "\t<tr><th></th><th scope=col>&lt;chr&gt;</th><th scope=col>&lt;chr&gt;</th><th scope=col>&lt;dbl&gt;</th></tr>\n",
              "</thead>\n",
              "<tbody>\n",
              "\t<tr><th scope=row>1</th><td>Alabama</td><td>Autauga</td><td>0.4343637</td></tr>\n",
              "\t<tr><th scope=row>2</th><td>Alabama</td><td>Baldwin</td><td>0.4405113</td></tr>\n",
              "\t<tr><th scope=row>3</th><td>Alabama</td><td>Barbour</td><td>0.3192113</td></tr>\n",
              "\t<tr><th scope=row>4</th><td>Alabama</td><td>Bibb   </td><td>0.3669262</td></tr>\n",
              "\t<tr><th scope=row>5</th><td>Alabama</td><td>Blount </td><td>0.3844914</td></tr>\n",
              "\t<tr><th scope=row>6</th><td>Alabama</td><td>Bullock</td><td>0.3619592</td></tr>\n",
              "</tbody>\n",
              "</table>\n"
            ],
            "text/markdown": "\nA data.frame: 6 × 3\n\n| <!--/--> | state &lt;chr&gt; | county &lt;chr&gt; | employment_rate &lt;dbl&gt; |\n|---|---|---|---|\n| 1 | Alabama | Autauga | 0.4343637 |\n| 2 | Alabama | Baldwin | 0.4405113 |\n| 3 | Alabama | Barbour | 0.3192113 |\n| 4 | Alabama | Bibb    | 0.3669262 |\n| 5 | Alabama | Blount  | 0.3844914 |\n| 6 | Alabama | Bullock | 0.3619592 |\n\n",
            "text/latex": "A data.frame: 6 × 3\n\\begin{tabular}{r|lll}\n  & state & county & employment\\_rate\\\\\n  & <chr> & <chr> & <dbl>\\\\\n\\hline\n\t1 & Alabama & Autauga & 0.4343637\\\\\n\t2 & Alabama & Baldwin & 0.4405113\\\\\n\t3 & Alabama & Barbour & 0.3192113\\\\\n\t4 & Alabama & Bibb    & 0.3669262\\\\\n\t5 & Alabama & Blount  & 0.3844914\\\\\n\t6 & Alabama & Bullock & 0.3619592\\\\\n\\end{tabular}\n",
            "text/plain": [
              "  state   county  employment_rate\n",
              "1 Alabama Autauga 0.4343637      \n",
              "2 Alabama Baldwin 0.4405113      \n",
              "3 Alabama Barbour 0.3192113      \n",
              "4 Alabama Bibb    0.3669262      \n",
              "5 Alabama Blount  0.3844914      \n",
              "6 Alabama Bullock 0.3619592      "
            ]
          },
          "metadata": {}
        }
      ]
    },
    {
      "cell_type": "markdown",
      "source": [
        "## **Case Study: The babynames Dataset**\n",
        "Work with a new dataset that represents the names of babies born in the United States each year. Learn how to use grouped mutates and window functions to ask and answer more complex questions about your data. And use a combination of dplyr and ggplot2 to make interesting graphs to further explore your data."
      ],
      "metadata": {
        "id": "PrXlDZ9Xs1A2"
      }
    },
    {
      "cell_type": "code",
      "source": [
        "# https://www.rdocumentation.org/packages/babynames/versions/1.0.0\n",
        "\n",
        "glimpse(babynames)"
      ],
      "metadata": {
        "colab": {
          "base_uri": "https://localhost:8080/"
        },
        "id": "rH0d8BilCdq_",
        "outputId": "251d2146-b4c3-43bf-c095-80e5a0b1983c"
      },
      "execution_count": 108,
      "outputs": [
        {
          "output_type": "stream",
          "name": "stdout",
          "text": [
            "Rows: 1,924,665\n",
            "Columns: 3\n",
            "$ year   \u001b[3m\u001b[90m<dbl>\u001b[39m\u001b[23m 1880, 1880, 1880, 1880, 1880, 1880, 1880, 1880, 1880, 1880, 188…\n",
            "$ name   \u001b[3m\u001b[90m<chr>\u001b[39m\u001b[23m \"Mary\", \"Anna\", \"Emma\", \"Elizabeth\", \"Minnie\", \"Margaret\", \"Ida…\n",
            "$ number \u001b[3m\u001b[90m<int>\u001b[39m\u001b[23m 7065, 2604, 2003, 1939, 1746, 1578, 1472, 1414, 1320, 1288, 125…\n"
          ]
        }
      ]
    },
    {
      "cell_type": "code",
      "source": [
        "# Update data to mirror datacamp\n",
        "babynames <- babynames %>%\n",
        "  select(year, name, n) %>%\n",
        "  rename(number = n)\n"
      ],
      "metadata": {
        "colab": {
          "base_uri": "https://localhost:8080/",
          "height": 1000
        },
        "id": "gSCPCukOVH1C",
        "outputId": "af4b128c-4480-4708-df28-57f9fabc9b1a"
      },
      "execution_count": 109,
      "outputs": [
        {
          "output_type": "error",
          "ename": "ERROR",
          "evalue": "ignored",
          "traceback": [
            "\u001b[1m\u001b[33mError\u001b[39m in `select()`:\u001b[22m\n\u001b[33m!\u001b[39m Can't subset columns that don't exist.\n\u001b[31m✖\u001b[39m Column `n` doesn't exist.\nTraceback:\n",
            "1. babynames %>% select(year, name, n) %>% rename(number = n)",
            "2. rename(., number = n)",
            "3. select(., year, name, n)",
            "4. select.data.frame(., year, name, n)",
            "5. tidyselect::eval_select(expr(c(...)), data = .data, error_call = error_call)",
            "6. eval_select_impl(data, names(data), as_quosure(expr, env), include = include, \n .     exclude = exclude, strict = strict, name_spec = name_spec, \n .     allow_rename = allow_rename, allow_empty = allow_empty, allow_predicates = allow_predicates, \n .     error_call = error_call, )",
            "7. with_subscript_errors(out <- vars_select_eval(vars, expr, strict = strict, \n .     data = x, name_spec = name_spec, uniquely_named = uniquely_named, \n .     allow_rename = allow_rename, allow_empty = allow_empty, allow_predicates = allow_predicates, \n .     type = type, error_call = error_call), type = type)",
            "8. try_fetch(expr, vctrs_error_subscript = function(cnd) {\n .     cnd$subscript_action <- subscript_action(type)\n .     cnd$subscript_elt <- \"column\"\n .     cnd_signal(cnd)\n . })",
            "9. withCallingHandlers(expr, condition = function(cnd) {\n .     {\n .         .__handler_frame__. <- TRUE\n .         .__setup_frame__. <- frame\n .         if (inherits(cnd, \"message\")) {\n .             except <- c(\"warning\", \"error\")\n .         }\n .         else if (inherits(cnd, \"warning\")) {\n .             except <- \"error\"\n .         }\n .         else {\n .             except <- \"\"\n .         }\n .     }\n .     while (!is_null(cnd)) {\n .         if (inherits(cnd, \"vctrs_error_subscript\")) {\n .             out <- handlers[[1L]](cnd)\n .             if (!inherits(out, \"rlang_zap\")) \n .                 throw(out)\n .         }\n .         inherit <- .subset2(.subset2(cnd, \"rlang\"), \"inherit\")\n .         if (is_false(inherit)) {\n .             return()\n .         }\n .         cnd <- .subset2(cnd, \"parent\")\n .     }\n . })",
            "10. vars_select_eval(vars, expr, strict = strict, data = x, name_spec = name_spec, \n  .     uniquely_named = uniquely_named, allow_rename = allow_rename, \n  .     allow_empty = allow_empty, allow_predicates = allow_predicates, \n  .     type = type, error_call = error_call)",
            "11. walk_data_tree(expr, data_mask, context_mask)",
            "12. eval_c(expr, data_mask, context_mask)",
            "13. reduce_sels(node, data_mask, context_mask, init = init)",
            "14. walk_data_tree(new, data_mask, context_mask)",
            "15. as_indices_sel_impl(out, vars = vars, strict = strict, data = data, \n  .     allow_predicates = allow_predicates, call = error_call, arg = as_label(expr))",
            "16. as_indices_impl(x, vars, call = call, arg = arg, strict = strict)",
            "17. chr_as_locations(x, vars, call = call, arg = arg)",
            "18. vctrs::vec_as_location(x, n = length(vars), names = vars, call = call, \n  .     arg = arg)",
            "19. (function () \n  . stop_subscript_oob(i = i, subscript_type = subscript_type, names = names, \n  .     subscript_action = subscript_action, subscript_arg = subscript_arg, \n  .     call = call))()",
            "20. stop_subscript_oob(i = i, subscript_type = subscript_type, names = names, \n  .     subscript_action = subscript_action, subscript_arg = subscript_arg, \n  .     call = call)",
            "21. stop_subscript(class = \"vctrs_error_subscript_oob\", i = i, subscript_type = subscript_type, \n  .     ..., call = call)",
            "22. abort(class = c(class, \"vctrs_error_subscript\"), i = i, ..., \n  .     call = call)",
            "23. signal_abort(cnd, .file)",
            "24. signalCondition(cnd)",
            "25. (function (cnd) \n  . {\n  .     {\n  .         .__handler_frame__. <- TRUE\n  .         .__setup_frame__. <- frame\n  .         if (inherits(cnd, \"message\")) {\n  .             except <- c(\"warning\", \"error\")\n  .         }\n  .         else if (inherits(cnd, \"warning\")) {\n  .             except <- \"error\"\n  .         }\n  .         else {\n  .             except <- \"\"\n  .         }\n  .     }\n  .     while (!is_null(cnd)) {\n  .         if (inherits(cnd, \"vctrs_error_subscript\")) {\n  .             out <- handlers[[1L]](cnd)\n  .             if (!inherits(out, \"rlang_zap\")) \n  .                 throw(out)\n  .         }\n  .         inherit <- .subset2(.subset2(cnd, \"rlang\"), \"inherit\")\n  .         if (is_false(inherit)) {\n  .             return()\n  .         }\n  .         cnd <- .subset2(cnd, \"parent\")\n  .     }\n  . })(structure(list(message = \"\", trace = structure(list(call = list(\n  .     IRkernel::main(), kernel$run(), handle_shell(), executor$execute(msg), \n  .     tryCatch(evaluate(request$content$code, envir = .GlobalEnv, \n  .         output_handler = oh, stop_on_error = 1L), interrupt = function(cond) {\n  .         log_debug(\"Interrupt during execution\")\n  .         interrupted <<- TRUE\n  .     }, error = .self$handle_error), tryCatchList(expr, classes, \n  .         parentenv, handlers), tryCatchOne(tryCatchList(expr, \n  .         names[-nh], parentenv, handlers[-nh]), names[nh], parentenv, \n  .         handlers[[nh]]), doTryCatch(return(expr), name, parentenv, \n  .         handler), tryCatchList(expr, names[-nh], parentenv, handlers[-nh]), \n  .     tryCatchOne(expr, names, parentenv, handlers[[1L]]), doTryCatch(return(expr), \n  .         name, parentenv, handler), evaluate(request$content$code, \n  .         envir = .GlobalEnv, output_handler = oh, stop_on_error = 1L), \n  .     evaluate_call(expr, parsed$src[[i]], envir = envir, enclos = enclos, \n  .         debug = debug, last = i == length(out), use_try = stop_on_error != \n  .             2L, keep_warning = keep_warning, keep_message = keep_message, \n  .         log_echo = log_echo, log_warning = log_warning, output_handler = output_handler, \n  .         include_timing = include_timing), timing_fn(handle(ev <- withCallingHandlers(withVisible(eval_with_user_handlers(expr, \n  .         envir, enclos, user_handlers)), warning = wHandler, error = eHandler, \n  .         message = mHandler))), handle(ev <- withCallingHandlers(withVisible(eval_with_user_handlers(expr, \n  .         envir, enclos, user_handlers)), warning = wHandler, error = eHandler, \n  .         message = mHandler)), try(f, silent = TRUE), tryCatch(expr, \n  .         error = function(e) {\n  .             call <- conditionCall(e)\n  .             if (!is.null(call)) {\n  .                 if (identical(call[[1L]], quote(doTryCatch))) \n  .                   call <- sys.call(-4L)\n  .                 dcall <- deparse(call, nlines = 1L)\n  .                 prefix <- paste(\"Error in\", dcall, \": \")\n  .                 LONG <- 75L\n  .                 sm <- strsplit(conditionMessage(e), \"\\n\")[[1L]]\n  .                 w <- 14L + nchar(dcall, type = \"w\") + nchar(sm[1L], \n  .                   type = \"w\")\n  .                 if (is.na(w)) \n  .                   w <- 14L + nchar(dcall, type = \"b\") + nchar(sm[1L], \n  .                     type = \"b\")\n  .                 if (w > LONG) \n  .                   prefix <- paste0(prefix, \"\\n  \")\n  .             }\n  .             else prefix <- \"Error : \"\n  .             msg <- paste0(prefix, conditionMessage(e), \"\\n\")\n  .             .Internal(seterrmessage(msg[1L]))\n  .             if (!silent && isTRUE(getOption(\"show.error.messages\"))) {\n  .                 cat(msg, file = outFile)\n  .                 .Internal(printDeferredWarnings())\n  .             }\n  .             invisible(structure(msg, class = \"try-error\", condition = e))\n  .         }), tryCatchList(expr, classes, parentenv, handlers), \n  .     tryCatchOne(expr, names, parentenv, handlers[[1L]]), doTryCatch(return(expr), \n  .         name, parentenv, handler), withCallingHandlers(withVisible(eval_with_user_handlers(expr, \n  .         envir, enclos, user_handlers)), warning = wHandler, error = eHandler, \n  .         message = mHandler), withVisible(eval_with_user_handlers(expr, \n  .         envir, enclos, user_handlers)), eval_with_user_handlers(expr, \n  .         envir, enclos, user_handlers), eval(expr, envir, enclos), \n  .     eval(expr, envir, enclos), babynames %>% select(year, name, \n  .         n) %>% rename(number = n), rename(., number = n), select(., \n  .         year, name, n), select.data.frame(., year, name, n), \n  .     tidyselect::eval_select(expr(c(...)), data = .data, error_call = error_call), \n  .     eval_select_impl(data, names(data), as_quosure(expr, env), \n  .         include = include, exclude = exclude, strict = strict, \n  .         name_spec = name_spec, allow_rename = allow_rename, allow_empty = allow_empty, \n  .         allow_predicates = allow_predicates, error_call = error_call, \n  .         ), with_subscript_errors(out <- vars_select_eval(vars, \n  .         expr, strict = strict, data = x, name_spec = name_spec, \n  .         uniquely_named = uniquely_named, allow_rename = allow_rename, \n  .         allow_empty = allow_empty, allow_predicates = allow_predicates, \n  .         type = type, error_call = error_call), type = type), \n  .     try_fetch(expr, vctrs_error_subscript = function(cnd) {\n  .         cnd$subscript_action <- subscript_action(type)\n  .         cnd$subscript_elt <- \"column\"\n  .         cnd_signal(cnd)\n  .     }), withCallingHandlers(expr, condition = function(cnd) {\n  .         {\n  .             .__handler_frame__. <- TRUE\n  .             .__setup_frame__. <- frame\n  .             if (inherits(cnd, \"message\")) {\n  .                 except <- c(\"warning\", \"error\")\n  .             }\n  .             else if (inherits(cnd, \"warning\")) {\n  .                 except <- \"error\"\n  .             }\n  .             else {\n  .                 except <- \"\"\n  .             }\n  .         }\n  .         while (!is_null(cnd)) {\n  .             if (inherits(cnd, \"vctrs_error_subscript\")) {\n  .                 out <- handlers[[1L]](cnd)\n  .                 if (!inherits(out, \"rlang_zap\")) \n  .                   throw(out)\n  .             }\n  .             inherit <- .subset2(.subset2(cnd, \"rlang\"), \"inherit\")\n  .             if (is_false(inherit)) {\n  .                 return()\n  .             }\n  .             cnd <- .subset2(cnd, \"parent\")\n  .         }\n  .     }), vars_select_eval(vars, expr, strict = strict, data = x, \n  .         name_spec = name_spec, uniquely_named = uniquely_named, \n  .         allow_rename = allow_rename, allow_empty = allow_empty, \n  .         allow_predicates = allow_predicates, type = type, error_call = error_call), \n  .     walk_data_tree(expr, data_mask, context_mask), eval_c(expr, \n  .         data_mask, context_mask), reduce_sels(node, data_mask, \n  .         context_mask, init = init), walk_data_tree(new, data_mask, \n  .         context_mask), as_indices_sel_impl(out, vars = vars, \n  .         strict = strict, data = data, allow_predicates = allow_predicates, \n  .         call = error_call, arg = as_label(expr)), as_indices_impl(x, \n  .         vars, call = call, arg = arg, strict = strict), chr_as_locations(x, \n  .         vars, call = call, arg = arg), vctrs::vec_as_location(x, \n  .         n = length(vars), names = vars, call = call, arg = arg), \n  .     `<fn>`(), stop_subscript_oob(i = i, subscript_type = subscript_type, \n  .         names = names, subscript_action = subscript_action, subscript_arg = subscript_arg, \n  .         call = call), stop_subscript(class = \"vctrs_error_subscript_oob\", \n  .         i = i, subscript_type = subscript_type, ..., call = call), \n  .     abort(class = c(class, \"vctrs_error_subscript\"), i = i, ..., \n  .         call = call)), parent = c(0L, 1L, 2L, 3L, 4L, 5L, 6L, \n  . 7L, 6L, 9L, 10L, 4L, 12L, 13L, 13L, 15L, 16L, 17L, 18L, 19L, \n  . 13L, 13L, 13L, 23L, 24L, 0L, 0L, 0L, 0L, 29L, 30L, 31L, 32L, \n  . 33L, 31L, 35L, 36L, 37L, 38L, 39L, 40L, 41L, 42L, 0L, 44L, 45L, \n  . 46L), visible = c(TRUE, TRUE, TRUE, TRUE, TRUE, TRUE, TRUE, TRUE, \n  . TRUE, TRUE, TRUE, TRUE, TRUE, TRUE, TRUE, TRUE, TRUE, TRUE, TRUE, \n  . TRUE, TRUE, TRUE, TRUE, TRUE, TRUE, TRUE, TRUE, TRUE, TRUE, FALSE, \n  . FALSE, FALSE, FALSE, FALSE, FALSE, FALSE, FALSE, FALSE, FALSE, \n  . FALSE, FALSE, FALSE, FALSE, FALSE, FALSE, FALSE, FALSE), namespace = c(\"IRkernel\", \n  . NA, \"IRkernel\", NA, \"base\", \"base\", \"base\", \"base\", \"base\", \"base\", \n  . \"base\", \"evaluate\", \"evaluate\", \"evaluate\", \"evaluate\", \"base\", \n  . \"base\", \"base\", \"base\", \"base\", \"base\", \"base\", \"evaluate\", \"base\", \n  . \"base\", NA, \"dplyr\", \"dplyr\", \"dplyr\", \"tidyselect\", \"tidyselect\", \n  . \"tidyselect\", \"rlang\", \"base\", \"tidyselect\", \"tidyselect\", \"tidyselect\", \n  . \"tidyselect\", \"tidyselect\", \"tidyselect\", \"tidyselect\", \"tidyselect\", \n  . \"vctrs\", \"vctrs\", \"vctrs\", \"vctrs\", \"rlang\"), scope = c(\"::\", \n  . NA, \"local\", NA, \"::\", \"local\", \"local\", \"local\", \"local\", \"local\", \n  . \"local\", \"::\", \":::\", \"local\", \"local\", \"::\", \"::\", \"local\", \n  . \"local\", \"local\", \"::\", \"::\", \":::\", \"::\", \"::\", NA, \"::\", \"::\", \n  . \":::\", \"::\", \":::\", \":::\", \"::\", \"::\", \":::\", \":::\", \":::\", \":::\", \n  . \":::\", \":::\", \":::\", \":::\", \"::\", \"local\", \":::\", \":::\", \"::\"\n  . ), error_frame = c(FALSE, FALSE, FALSE, FALSE, FALSE, FALSE, \n  . FALSE, FALSE, FALSE, FALSE, FALSE, FALSE, FALSE, FALSE, FALSE, \n  . FALSE, FALSE, FALSE, FALSE, FALSE, FALSE, FALSE, FALSE, FALSE, \n  . FALSE, FALSE, FALSE, FALSE, TRUE, FALSE, FALSE, FALSE, FALSE, \n  . FALSE, FALSE, FALSE, FALSE, FALSE, FALSE, FALSE, FALSE, FALSE, \n  . FALSE, FALSE, FALSE, FALSE, FALSE)), row.names = c(NA, -47L), version = 2L, class = c(\"rlang_trace\", \n  . \"rlib_trace\", \"tbl\", \"data.frame\")), parent = NULL, i = \"n\", \n  .     subscript_type = \"character\", names = c(\"year\", \"name\", \"number\"\n  .     ), subscript_action = NULL, subscript_arg = \"n\", rlang = list(\n  .         inherit = TRUE), call = select(., year, name, n)), class = c(\"vctrs_error_subscript_oob\", \n  . \"vctrs_error_subscript\", \"rlang_error\", \"error\", \"condition\")))",
            "26. handlers[[1L]](cnd)",
            "27. cnd_signal(cnd)",
            "28. signal_abort(cnd)"
          ]
        }
      ]
    },
    {
      "cell_type": "markdown",
      "source": [
        "### Filtering and arranging for one year\n",
        "The dplyr verbs you've learned are useful for exploring data. For instance, you could find out the most common names in a particular year."
      ],
      "metadata": {
        "id": "qndszIUCBAyv"
      }
    },
    {
      "cell_type": "code",
      "source": [
        "head(babynames %>%\n",
        "  # Filter for the year 1990\n",
        "  filter(year == 1990) %>%\n",
        "  # Sort the number column in descending order\n",
        "  arrange(desc(number)))\n"
      ],
      "metadata": {
        "id": "0zDUKXhSs5fR"
      },
      "execution_count": null,
      "outputs": []
    },
    {
      "cell_type": "markdown",
      "source": [
        "### Finding the most popular names each year\n",
        "You saw that you could use filter() and arrange() to find the most common names in one year. However, you could also use group_by() and slice_max() to find the most common name in every year."
      ],
      "metadata": {
        "id": "rAOW65swBrwv"
      }
    },
    {
      "cell_type": "code",
      "source": [
        "head(babynames %>%\n",
        "  # Find the most common name in each year\n",
        "  group_by(year) %>%\n",
        "  slice_max(number, n = 1))\n"
      ],
      "metadata": {
        "id": "vkEB7kURBr3s"
      },
      "execution_count": null,
      "outputs": []
    },
    {
      "cell_type": "markdown",
      "source": [
        "### Visualizing names with ggplot2\n",
        "The dplyr package is very useful for exploring data, but it's especially useful when combined with other tidyverse packages like ggplot2."
      ],
      "metadata": {
        "id": "wMOHik9C4umK"
      }
    },
    {
      "cell_type": "code",
      "source": [
        "head(selected_names <- babynames %>%\n",
        "  # Filter for the names Steven, Thomas, and Matthew\n",
        "  filter(name %in% c(\"Steven\", \"Thomas\", \"Matthew\")))\n"
      ],
      "metadata": {
        "id": "MEbwapDQ4ut4"
      },
      "execution_count": null,
      "outputs": []
    },
    {
      "cell_type": "code",
      "source": [
        "# Plot the names using a different color for each name\n",
        "ggplot(selected_names, aes(x = year, y = number, color = name)) +\n",
        "  geom_line()\n"
      ],
      "metadata": {
        "id": "T8mI4sr45ywC"
      },
      "execution_count": null,
      "outputs": []
    },
    {
      "cell_type": "markdown",
      "source": [
        "### Finding the year each name is most common\n",
        "In an earlier video, you learned how to filter for a particular name to determine the frequency of that name over time. Now, you're going to explore which year each name was the most common.\n",
        "\n",
        "To do this, you'll be combining the grouped mutate approach with a slice_max()."
      ],
      "metadata": {
        "id": "5cPQ03rKBctW"
      }
    },
    {
      "cell_type": "code",
      "source": [
        "# Calculate the fraction of people born each year with the same name\n",
        "head(babynames %>%\n",
        "  group_by(year) %>%\n",
        "  mutate(year_total = sum(number)) %>%\n",
        "  ungroup(year) %>%\n",
        "  mutate(fraction = number / year_total))\n"
      ],
      "metadata": {
        "id": "4Kg-ZwFOBc3J"
      },
      "execution_count": null,
      "outputs": []
    },
    {
      "cell_type": "code",
      "source": [
        "# Calculate the fraction of people born each year with the same name\n",
        "head(babynames %>%\n",
        "  group_by(year) %>%\n",
        "  mutate(year_total = sum(number)) %>%\n",
        "  ungroup() %>%\n",
        "  mutate(fraction = number / year_total) %>%\n",
        "  # Find the year each name is most common\n",
        "  group_by(name) %>%\n",
        "  slice_max(fraction, n = 1))\n"
      ],
      "metadata": {
        "id": "QUBljxPkCDwc"
      },
      "execution_count": null,
      "outputs": []
    },
    {
      "cell_type": "markdown",
      "source": [
        "### Adding the total and maximum for each name\n",
        "In the video, you learned how you could group by the year and use mutate() to add a total for that year.\n",
        "\n",
        "In these exercises, you'll learn to normalize by a different, but also interesting metric: you'll divide each name by the maximum for that name. This means that every name will peak at 1.\n",
        "\n",
        "Once you add new columns, the result will still be grouped by name. This splits it into 48,000 groups, which actually makes later steps like mutates slower."
      ],
      "metadata": {
        "id": "sUrJxE5OhdCB"
      }
    },
    {
      "cell_type": "code",
      "source": [
        "head(babynames %>%\n",
        "  # Add columns name_total and name_max for each name\n",
        "  group_by(name) %>%\n",
        "  mutate(name_total = sum(number), name_max = max(number)))\n"
      ],
      "metadata": {
        "id": "xXIjKPt1het0"
      },
      "execution_count": null,
      "outputs": []
    },
    {
      "cell_type": "code",
      "source": [
        "head(babynames %>%\n",
        "  # Add columns name_total and name_max for each name\n",
        "  group_by(name) %>%\n",
        "  mutate(name_total = sum(number),\n",
        "         name_max = max(number)) %>%\n",
        "  # Ungroup the table\n",
        "  ungroup() %>%\n",
        "  # Add the fraction_max column containing the number by the name maximum\n",
        "  mutate(fraction_max = number / name_max))\n",
        ""
      ],
      "metadata": {
        "id": "FJHssT_5XOOP"
      },
      "execution_count": null,
      "outputs": []
    },
    {
      "cell_type": "markdown",
      "source": [
        "### Visualizing the normalized change in popularity\n",
        "You picked a few names and calculated each of them as a fraction of their peak. This is a type of \"normalizing\" a name, where you're focused on the relative change within each name rather than the overall popularity of the name.\n",
        "\n",
        "In this exercise, you'll visualize the normalized popularity of each name. Your work from the previous exercise, names_normalized, has been provided for you."
      ],
      "metadata": {
        "id": "dwfMwzuKrdrF"
      }
    },
    {
      "cell_type": "code",
      "source": [
        "head(names_normalized <- babynames %>%\n",
        "                     group_by(name) %>%\n",
        "                     mutate(name_total = sum(number),\n",
        "                            name_max = max(number)) %>%\n",
        "                     ungroup() %>%\n",
        "                     mutate(fraction_max = number / name_max))\n",
        ""
      ],
      "metadata": {
        "id": "Qdu0vDPNrdLL"
      },
      "execution_count": null,
      "outputs": []
    },
    {
      "cell_type": "code",
      "source": [
        "names_filtered <- names_normalized %>%\n",
        "  # Filter for the names Steven, Thomas, and Matthew\n",
        "  filter(name %in% c(\"Steven\", \"Thomas\", \"Matthew\"))\n",
        "\n",
        "# Visualize these names over time\n",
        "ggplot(names_filtered, aes(x = year, y = fraction_max, colour = name)) +\n",
        "  geom_line()\n"
      ],
      "metadata": {
        "id": "nfqInZoArxTB"
      },
      "execution_count": null,
      "outputs": []
    },
    {
      "cell_type": "markdown",
      "source": [
        "### Using ratios to describe the frequency of a name\n",
        "In the video, you learned how to find the difference in the frequency of a baby name between consecutive years. What if instead of finding the difference, you wanted to find the ratio?\n",
        "\n",
        "You'll start with the babynames_fraction data already, so that you can consider the popularity of each name within each year."
      ],
      "metadata": {
        "id": "iE6lBbddtb_J"
      }
    },
    {
      "cell_type": "code",
      "source": [
        "# Changes in popularity of a name. Create df\n",
        "head(babynames_fraction <- babynames %>%\n",
        "  group_by(year) %>%\n",
        "  mutate(year_total = sum(number)) %>%\n",
        "  ungroup() %>%\n",
        "  mutate(fraction = number /year_total))\n"
      ],
      "metadata": {
        "id": "f_ylringwHCd"
      },
      "execution_count": null,
      "outputs": []
    },
    {
      "cell_type": "code",
      "source": [
        "# Matthew\n",
        "head(babynames_fraction %>%\n",
        "  filter(name == \"Matthew\") %>%\n",
        "  arrange(year))\n"
      ],
      "metadata": {
        "id": "I9g6ctWww5Tw"
      },
      "execution_count": null,
      "outputs": []
    },
    {
      "cell_type": "code",
      "source": [
        "# Matthew over time\n",
        "head(babynames_fraction %>%\n",
        "  filter(name == \"Matthew\") %>%\n",
        "  arrange(year) %>%\n",
        "  mutate(difference = fraction - lag(fraction)))\n"
      ],
      "metadata": {
        "id": "SRDxaZdwxTEL"
      },
      "execution_count": null,
      "outputs": []
    },
    {
      "cell_type": "code",
      "source": [
        "# Biggest jump in popularity\n",
        "head(babynames_fraction %>%\n",
        "  filter(name == \"Matthew\") %>%\n",
        "  arrange(year) %>%\n",
        "  mutate(difference = fraction - lag(fraction)) %>%\n",
        "  arrange(desc(difference)))\n"
      ],
      "metadata": {
        "id": "W7seIv0Yxl0l"
      },
      "execution_count": null,
      "outputs": []
    },
    {
      "cell_type": "code",
      "source": [
        "# Changes within every name\n",
        "head(babynames_fraction %>%\n",
        "  arrange(name, year) %>%\n",
        "  mutate(difference = fraction - lag(fraction)) %>%\n",
        "  ungroup() %>%\n",
        "  arrange(desc(difference)), 20)\n"
      ],
      "metadata": {
        "id": "jmKRwGQRx8DC"
      },
      "execution_count": null,
      "outputs": []
    },
    {
      "cell_type": "code",
      "source": [
        "head(babynames_fraction %>%\n",
        "  # Arrange the data in order of name, then year\n",
        "  arrange(name, year) %>%\n",
        "  # Group the data by name\n",
        "  group_by(name) %>%\n",
        "  # Add a ratio column that contains the ratio of fraction between each year\n",
        "  mutate(ratio = fraction / lag(fraction)), 10)\n"
      ],
      "metadata": {
        "id": "Lx8MhPrztcJX"
      },
      "execution_count": null,
      "outputs": []
    },
    {
      "cell_type": "markdown",
      "source": [
        "### Biggest jumps in a name\n",
        "Previously, you added a ratio column to describe the ratio of the frequency of a baby name between consecutive years to describe the changes in the popularity of a name. Now, you'll look at a subset of that data, called babynames_ratios_filtered, to look further into the names that experienced the biggest jumps in popularity in consecutive years."
      ],
      "metadata": {
        "id": "6dzmnDL0ymAa"
      }
    },
    {
      "cell_type": "code",
      "source": [
        "babynames_ratios_filtered <- babynames_fraction %>%\n",
        "                     arrange(name, year) %>%\n",
        "                     group_by(name) %>%\n",
        "                     mutate(ratio = fraction / lag(fraction)) %>%\n",
        "                     filter(fraction >= 0.00001)\n",
        "\n",
        "glimpse(babynames_ratios_filtered)\n"
      ],
      "metadata": {
        "id": "6-GfZOx_y9P-"
      },
      "execution_count": null,
      "outputs": []
    },
    {
      "cell_type": "code",
      "source": [
        "head(babynames_ratios_filtered %>%\n",
        "  # Extract the largest ratio from each name\n",
        "  slice_max(ratio, n = 1) %>%\n",
        "  # Sort the ratio column in descending order\n",
        "  arrange(desc(ratio)) %>%\n",
        "  # Filter for fractions greater than or equal to 0.001\n",
        "  filter(fraction >= 0.001), 10)\n",
        ""
      ],
      "metadata": {
        "id": "zLqCEkbLymJM"
      },
      "execution_count": null,
      "outputs": []
    }
  ]
}